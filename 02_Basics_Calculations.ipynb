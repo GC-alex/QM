{
 "cells": [
  {
   "cell_type": "markdown",
   "metadata": {},
   "source": [
    "\n",
    "\n",
    "# 02 Basics in R\n",
    "\n",
    "\n",
    "\n",
    "* Basics of programming in R\n",
    "* Calculations and variables\n",
    "* vectors and datatypes\n",
    "\n",
    "\n",
    "\n",
    "---\n",
    "\n",
    "**In this session we will focus on the first steps to understand R's syntax properly. We will start with the very basics and with this foundation you will be able to compute models or vizualize your data in no time (in future sessions).**\n",
    "\n",
    "![](https://raw.githubusercontent.com/GC-alex/QM/master/figs/header_sized_small.jpg)\n",
    "\n",
    "\n",
    "---\n",
    "\n",
    "## Calculations and Variables\n",
    "\n",
    "As R is a programming language made for statistical analyzes, of course calculations are at its core.  Therefore we will start with it.\n",
    "See what happens if you try to calculate some formular:\n",
    "\n",
    "`5 + 2`"
   ]
  },
  {
   "cell_type": "code",
   "execution_count": null,
   "metadata": {},
   "outputs": [],
   "source": []
  },
  {
   "cell_type": "markdown",
   "metadata": {},
   "source": [
    "In this case it is a simple calculation. To store the information or to do further calculations with the result we need to assign it to a variable `a <- 5+2`. If you want to see your stored information, you have to open your varible `a` with simply typing `a`. Do the same with a varible `b` that is ` 3^2`. What happens if you calculate `c` as `b` substracted from `a`?"
   ]
  },
  {
   "cell_type": "code",
   "execution_count": 6,
   "metadata": {},
   "outputs": [
    {
     "data": {
      "text/html": [
       "7"
      ],
      "text/latex": [
       "7"
      ],
      "text/markdown": [
       "7"
      ],
      "text/plain": [
       "[1] 7"
      ]
     },
     "metadata": {},
     "output_type": "display_data"
    },
    {
     "data": {
      "text/html": [
       "9"
      ],
      "text/latex": [
       "9"
      ],
      "text/markdown": [
       "9"
      ],
      "text/plain": [
       "[1] 9"
      ]
     },
     "metadata": {},
     "output_type": "display_data"
    },
    {
     "data": {
      "text/html": [
       "-2"
      ],
      "text/latex": [
       "-2"
      ],
      "text/markdown": [
       "-2"
      ],
      "text/plain": [
       "[1] -2"
      ]
     },
     "metadata": {},
     "output_type": "display_data"
    }
   ],
   "source": [
    "a <- 5+2\n",
    "b <- 3^2\n",
    "c <- a-b\n",
    "\n",
    "a\n",
    "b\n",
    "c"
   ]
  },
  {
   "cell_type": "markdown",
   "metadata": {},
   "source": [
    "-----\n",
    "**Note:**  \n",
    "* You can't see your results? Don't forget to type the name of the variable, for which you want to know the values!\n",
    "* If you assign a new variable with the same name, the stored information will be overwritten!\n",
    "* Your forgot wich varibales your already computed? Type `ls()` to get a full list of all variables in your workspace!\n",
    "-----"
   ]
  },
  {
   "cell_type": "markdown",
   "metadata": {},
   "source": [
    "**More mathematical `functions`**\n",
    "\n",
    "Try to figure out what the following functions do! (`x`is a placeholder variable, `n` a natural number)\n",
    "\n",
    "`sqrt(x)`\n",
    "`exp(x)`\n",
    "`log(x, n)`\n",
    "`log10(x)`\n",
    "`sin(x)`\n",
    "`cos(x)`"
   ]
  },
  {
   "cell_type": "markdown",
   "metadata": {},
   "source": [
    "## Vectors \n",
    "Within a variable, we can also store more than just one value, but for example a vector.\n",
    "\n",
    "Use `c()` to combine different values to a vector:\n",
    "`v <- c(1, 3, 8, 33, 13, 44, 21)`\n",
    "\n",
    "---\n",
    "**Note:**\n",
    "\n",
    "- `length()` helps you determine the length of your vector\n",
    "\n",
    "---"
   ]
  },
  {
   "cell_type": "code",
   "execution_count": null,
   "metadata": {},
   "outputs": [],
   "source": []
  },
  {
   "cell_type": "markdown",
   "metadata": {},
   "source": [
    "**Calculations and Vectors**\n",
    "\n",
    "Try the following calculations on your vector `v` and figure out what they do!\n",
    "\n",
    "`v * 2`\n",
    "\n",
    "`v + 2`\n",
    "\n",
    "`v + c(1, 2)`\n"
   ]
  },
  {
   "cell_type": "code",
   "execution_count": null,
   "metadata": {},
   "outputs": [],
   "source": []
  },
  {
   "cell_type": "markdown",
   "metadata": {},
   "source": [
    "To adress certain values within a vector we are using the command `v[1]`. This will give us the value at position `1`. \n",
    "\n",
    "Try the following ways to adress values!\n",
    "\n",
    "`v[c(1, 5)]`\n",
    "\n",
    "`v[1:5]`\n",
    "\n",
    "`v[c(1:4, 8)]`\n",
    "\n",
    "`v[1] <- 5`"
   ]
  },
  {
   "cell_type": "code",
   "execution_count": null,
   "metadata": {},
   "outputs": [],
   "source": []
  },
  {
   "cell_type": "markdown",
   "metadata": {},
   "source": [
    "---\n",
    "**Note**\n",
    "\n",
    "with `<-` you can also adress certain positions of the variable to change their values! `x[1] <- 5`\n",
    "\n",
    "Or even remove the value completely: `x <- x[-3]`\n",
    "\n",
    "---"
   ]
  },
  {
   "cell_type": "markdown",
   "metadata": {},
   "source": [
    "As our x became really messy, for the next steps we will define a vector with the values from 1 to 10.\n",
    "\n",
    "`x <- 1:10`\n",
    "\n",
    "Let's create `y` with the follwing `seq(from = 1, to = 100, by = 10)` and `u` with `rep(c(\"x\", \"o\"), times=5)`.\n",
    "\n",
    "\n"
   ]
  },
  {
   "cell_type": "code",
   "execution_count": 22,
   "metadata": {},
   "outputs": [],
   "source": [
    "x <- 1:10\n",
    "y <- seq(from = -1.1, to = 100, by = 10)\n",
    "u <- rep(c(\"x\", \"o\"), times=5)"
   ]
  },
  {
   "cell_type": "markdown",
   "metadata": {},
   "source": [
    "What happens if we calculate the following: \n",
    "\n",
    "`y + u`"
   ]
  },
  {
   "cell_type": "code",
   "execution_count": 19,
   "metadata": {},
   "outputs": [
    {
     "data": {
      "text/html": [
       "<style>\n",
       ".list-inline {list-style: none; margin:0; padding: 0}\n",
       ".list-inline>li {display: inline-block}\n",
       ".list-inline>li:not(:last-child)::after {content: \"\\00b7\"; padding: 0 .5ex}\n",
       "</style>\n",
       "<ol class=list-inline><li>-1.1</li><li>8.9</li><li>18.9</li><li>28.9</li><li>38.9</li><li>48.9</li><li>58.9</li><li>68.9</li><li>78.9</li><li>88.9</li><li>98.9</li></ol>\n"
      ],
      "text/latex": [
       "\\begin{enumerate*}\n",
       "\\item -1.1\n",
       "\\item 8.9\n",
       "\\item 18.9\n",
       "\\item 28.9\n",
       "\\item 38.9\n",
       "\\item 48.9\n",
       "\\item 58.9\n",
       "\\item 68.9\n",
       "\\item 78.9\n",
       "\\item 88.9\n",
       "\\item 98.9\n",
       "\\end{enumerate*}\n"
      ],
      "text/markdown": [
       "1. -1.1\n",
       "2. 8.9\n",
       "3. 18.9\n",
       "4. 28.9\n",
       "5. 38.9\n",
       "6. 48.9\n",
       "7. 58.9\n",
       "8. 68.9\n",
       "9. 78.9\n",
       "10. 88.9\n",
       "11. 98.9\n",
       "\n",
       "\n"
      ],
      "text/plain": [
       " [1] -1.1  8.9 18.9 28.9 38.9 48.9 58.9 68.9 78.9 88.9 98.9"
      ]
     },
     "metadata": {},
     "output_type": "display_data"
    }
   ],
   "source": [
    "\n",
    "y"
   ]
  },
  {
   "cell_type": "markdown",
   "metadata": {},
   "source": [
    "So what happened?\n",
    "Take a look at `y`and then at `u`, can you see any difference between the stored values? `y` is a vector with numeric values, while `u`on the other hand appears to have a different type of values stored.\n",
    "Let's have a look at those kinds of values.\n",
    "\n",
    "Try the `class()` and `typeof()` functions on our new "
   ]
  },
  {
   "cell_type": "code",
   "execution_count": 24,
   "metadata": {},
   "outputs": [
    {
     "data": {
      "text/html": [
       "'numeric'"
      ],
      "text/latex": [
       "'numeric'"
      ],
      "text/markdown": [
       "'numeric'"
      ],
      "text/plain": [
       "[1] \"numeric\""
      ]
     },
     "metadata": {},
     "output_type": "display_data"
    },
    {
     "data": {
      "text/html": [
       "'double'"
      ],
      "text/latex": [
       "'double'"
      ],
      "text/markdown": [
       "'double'"
      ],
      "text/plain": [
       "[1] \"double\""
      ]
     },
     "metadata": {},
     "output_type": "display_data"
    },
    {
     "data": {
      "text/html": [
       "'integer'"
      ],
      "text/latex": [
       "'integer'"
      ],
      "text/markdown": [
       "'integer'"
      ],
      "text/plain": [
       "[1] \"integer\""
      ]
     },
     "metadata": {},
     "output_type": "display_data"
    }
   ],
   "source": []
  },
  {
   "cell_type": "markdown",
   "metadata": {},
   "source": [
    "In this case: `u`'s values are `character`- values. You can easily detect them by the quotationmarks used for each value. Therefore you can also assign `\"20\"` or `\"13\"` which are still stored as characters. You cannot do any calculations with those.\n",
    "\n",
    "`x`and `y` are numeric vectors. `integer`is a vector type that is limited to integer numbers and fast in computational time. `double` values are real numbers and take more time to compute as they are usually bigger and more precise. \n",
    "\n",
    "There is a third vector type that we will check out now:\n",
    "\n",
    "Try figure out wether the `length()`of `x` is bigger than the `length()`of `y`.\n",
    "Can you check the type of your result?\n"
   ]
  },
  {
   "cell_type": "code",
   "execution_count": 27,
   "metadata": {},
   "outputs": [
    {
     "data": {
      "text/html": [
       "'logical'"
      ],
      "text/latex": [
       "'logical'"
      ],
      "text/markdown": [
       "'logical'"
      ],
      "text/plain": [
       "[1] \"logical\""
      ]
     },
     "metadata": {},
     "output_type": "display_data"
    }
   ],
   "source": [
    "length(x) > length(y)"
   ]
  },
  {
   "cell_type": "markdown",
   "metadata": {},
   "source": [
    "---\n",
    "\n",
    "**Note**\n",
    "\n",
    "If you struggle with checking the type, consider storing your result in a new variable ( `z`?) !\n",
    "\n",
    "---"
   ]
  },
  {
   "cell_type": "markdown",
   "metadata": {},
   "source": [
    "Our last vector type is the `logical` type. It consists of either `TRUE` or `FALSE`. You can always use it in combination with any mathematical logical operations such as `<` or `==` or `>`.\n",
    "\n",
    "---\n",
    "\n",
    "At the end of this **session 02.**\n",
    "\n",
    "Let's have some fun with the following funcions! Apply them to which vector you please or create your own new vectors! You will eventually figure out that they are limited to certain vector types!\n",
    "\n",
    "`max()`\n",
    "`min()`\n",
    "`sum()`\n",
    "`prod()`\n",
    " \n"
   ]
  },
  {
   "cell_type": "markdown",
   "metadata": {},
   "source": [
    "# Summary\n",
    "**Calculations**\n",
    "\n",
    "-you can store information by assigning them variables ( via `<-`)\n",
    "\n",
    "**Vectors**\n",
    "\n",
    "-Vectors can be used in arithmetic expressions, in which case the operations are performed element by element.\n",
    "\n",
    "-If two vectors have different lengths, the shorter vector is recycled as often as needed\n",
    "\n",
    "-There are different kinds of vectors in R `character`, `numeric` ones (`integer` and `double`) and `logical`.\n",
    "\n",
    "-You cannot mix data types in the vector\n",
    "\n",
    "\n",
    "\n",
    "# List of functions Used\n",
    "\n",
    "**Calculations**\n",
    "\n",
    "`sqrt(x)` `exp(x)` `log(x, n)` `log10(x)` `sin(x)` `cos(x)`\n",
    "\n",
    "`max()`\n",
    "`min()`\n",
    "`sum()`\n",
    "`prod()`\n",
    " \n",
    "\n",
    "**Vectors**\n",
    "\n",
    "`length()`\n",
    "`c()`\n",
    "`seq()` `rep(vector, times)`\n",
    "`typeof()`\n",
    "`class()`\n",
    "\n"
   ]
  },
  {
   "cell_type": "code",
   "execution_count": null,
   "metadata": {},
   "outputs": [],
   "source": []
  }
 ],
 "metadata": {
  "kernelspec": {
   "display_name": "R",
   "language": "R",
   "name": "ir"
  },
  "language_info": {
   "codemirror_mode": "r",
   "file_extension": ".r",
   "mimetype": "text/x-r-source",
   "name": "R",
   "pygments_lexer": "r",
   "version": "3.6.1"
  }
 },
 "nbformat": 4,
 "nbformat_minor": 2
}

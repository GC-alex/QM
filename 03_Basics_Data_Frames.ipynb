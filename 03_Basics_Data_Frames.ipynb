{
 "cells": [
  {
   "cell_type": "markdown",
   "metadata": {},
   "source": [
    "# 03 Basics: Matrices and Data frames\n",
    "\n",
    "* Matrices\n",
    "* Data frame\n",
    "* Data Manipulation\n",
    "\n",
    "---\n",
    "\n",
    "Welcome to session 03 of our program. \n",
    "This time, we want to start with matrices, data frames and their data management. Most data you will encounter will be stored in somesort of matrix, which is often your base for your future data analysis.\n",
    "A good structured and clear data is always the base for a good research.\n",
    "\n",
    "\n",
    "![](https://raw.githubusercontent.com/GC-alex/QM/master/figs/header_sized_small.jpg)\n",
    "\n",
    "\n",
    "## Matrices \n",
    "A `matrix` is a two-dimensional Array. Therefore we have two additional attributes specifying the 2 dimensions: `nrow` und `ncol`.\n",
    "\n",
    "Create a matrix with the following statement:\n",
    "`m <- matrix(1:9, nrow = 3, ncol = 3)`\n",
    "And take a first look at our `matrix` with the following:\n",
    "`dim(m)`, `nrow(m)`, `ncol(m)`\n",
    "\n",
    "Create a second matrix called `n` as you like.\n",
    "\n",
    "---\n",
    ">**Note**\n",
    ">* *Do you want to fill your matrix not by columns but by rows, add the `, byrow = TRUE` in the description of your matrix. (within the brackets!)*\n",
    ">* *Don't forget to type the name of your variable to actually see it!*\n",
    "\n",
    "---"
   ]
  },
  {
   "cell_type": "code",
   "execution_count": null,
   "metadata": {},
   "outputs": [],
   "source": []
  },
  {
   "cell_type": "markdown",
   "metadata": {},
   "source": [
    "\n",
    "Just as vectors in session 02 you can use calculations on your matrices.\n",
    "Try the following and take a look closer look at it's behaviour.\n",
    "\n",
    "`m * 2`\n",
    "\n",
    "`m * n` (`n`is our second matrix) \n",
    "\n",
    "`cbind(m,n)`"
   ]
  },
  {
   "cell_type": "code",
   "execution_count": null,
   "metadata": {},
   "outputs": [],
   "source": []
  },
  {
   "cell_type": "markdown",
   "metadata": {},
   "source": [
    "Check out how to access certain variables in our `matrix` !\n",
    "How do you get the value in the **second row** of the  **first column**?\n",
    "\n",
    "---\n",
    "**Hint:** *In vectors we accessed values this way: `v[1]` Now you have two dimensions to specify your value.*\n",
    "\n",
    "---"
   ]
  },
  {
   "cell_type": "code",
   "execution_count": null,
   "metadata": {},
   "outputs": [],
   "source": []
  },
  {
   "cell_type": "markdown",
   "metadata": {},
   "source": [
    "Do you remember the vector classes we discovered in session 02? Check the **type** and **class** of our Matrix `m`!\n",
    "\n",
    "---\n",
    ">**Note:** *JupyterNotebook already prints the **type** of your matrix values when printing the matrix!*\n",
    "\n",
    "---"
   ]
  },
  {
   "cell_type": "code",
   "execution_count": null,
   "metadata": {},
   "outputs": [],
   "source": []
  },
  {
   "cell_type": "markdown",
   "metadata": {},
   "source": [
    "Create a new **vector** called `x` that with the value \"Hello\" and now `cbind` our matrix `m` to `x`. What happens if you check for its **type**?"
   ]
  },
  {
   "cell_type": "code",
   "execution_count": null,
   "metadata": {},
   "outputs": [],
   "source": []
  },
  {
   "cell_type": "markdown",
   "metadata": {},
   "source": [
    "---\n",
    ">**Note:** *You know that the matrix should contain integer values AND character values. Instead you only get `character` as a response to the `typeof()`function - right? If you combine more types, always the \"weakest\" gets used as output in the end. In this case it is `character` - please keep this in mind, when analyzing your data!* \n",
    "\n",
    "---"
   ]
  },
  {
   "cell_type": "code",
   "execution_count": null,
   "metadata": {},
   "outputs": [],
   "source": []
  },
  {
   "cell_type": "markdown",
   "metadata": {},
   "source": []
  },
  {
   "cell_type": "markdown",
   "metadata": {},
   "source": [
    "## Data frames\n",
    "\n",
    "So now we did a little recap with the help of matrices. Now we want to introduce another important feature of how to store values: data frames.\n",
    "\n",
    "Data frames are propably your most important tool to storing your data in R. \n",
    "But what is the difference compared to a Matrix?\n",
    "\n",
    "Let's use our data from **session 01**: `airquality`. Use the function `as.data.frame` on the data `airquality`and store it in a variable called `data`."
   ]
  },
  {
   "cell_type": "code",
   "execution_count": null,
   "metadata": {},
   "outputs": [],
   "source": []
  },
  {
   "cell_type": "markdown",
   "metadata": {},
   "source": [
    "Take a look at the types of your different values within the data frame. You can see, that they all have their own type. Regardless of the others. (`Wind` for example is stored in `double`. All the others are stored as `integer`) This is one of the major differences to metrices.\n",
    "\n",
    "\n",
    "Now if you look at the print of our `data` again, you may notice some strange `NA` values.\n",
    "When an element or value is “not available” or a “missing value” in the statistical sense, a place within a vector, data frame or matrix may be reserved for it by assigning it the special value `NA`. \n",
    "\n",
    "The `is.na()`function helps you determine, wether an element is `NA`or an actual value.\n",
    "With the help of the `na.omit()` function we can ignore rows in a data frame that contain `NA`s. Please use the functions on our `data` to have a look what happens!\n"
   ]
  },
  {
   "cell_type": "code",
   "execution_count": null,
   "metadata": {},
   "outputs": [],
   "source": []
  },
  {
   "cell_type": "markdown",
   "metadata": {},
   "source": [
    "---\n",
    ">**Note**\n",
    ">* *Why do we need to ignore our `Na`values?*\n",
    ">* **All arithmetic functions and operations applied to `NA`s return `NA`.*\n",
    "\n",
    "---"
   ]
  },
  {
   "cell_type": "markdown",
   "metadata": {},
   "source": [
    "## Data Manipulation\n",
    "\n",
    "In case you actually want to start working with your data, we need to establish some basics how to address your different values correctly.\n",
    "\n",
    "We start with only adressing **row 10 to 110 of your data**. *Remember how to do it from your knowledge about matrices and vectors!*\n",
    "\n",
    "Store this subset in a new **variable** (choose a fitting name yourself!)\n",
    "\n",
    "Then print only **number of rows** from this new variable.\n"
   ]
  },
  {
   "cell_type": "code",
   "execution_count": null,
   "metadata": {
    "scrolled": true
   },
   "outputs": [],
   "source": []
  },
  {
   "cell_type": "markdown",
   "metadata": {},
   "source": [
    "---\n",
    "**Check** *If your result is 101, then you did it right!*\n",
    "\n",
    "---\n"
   ]
  },
  {
   "cell_type": "markdown",
   "metadata": {},
   "source": [
    "As you may remember from session 01, we can use the functions `head()` to get only the first rows of our data printed, often this is better than printing all your lines, especially with big datasets.\n",
    "Alternatively youc can use `names()` to extract only your column names.\n",
    "\n",
    "We want to adress only a certain column of our dataset. Use `$` to specify the column of our data.\n",
    "\n",
    "`data$Ozone`"
   ]
  },
  {
   "cell_type": "code",
   "execution_count": null,
   "metadata": {},
   "outputs": [],
   "source": []
  },
  {
   "cell_type": "markdown",
   "metadata": {},
   "source": [
    "What happens if you try this? \n",
    "`data[, c(\"Ozone\", \"Temp\")]`"
   ]
  },
  {
   "cell_type": "code",
   "execution_count": null,
   "metadata": {},
   "outputs": [],
   "source": []
  },
  {
   "cell_type": "markdown",
   "metadata": {},
   "source": [
    "You can also subset your data. Try this:\n",
    "\n",
    "`data[data$Temp > 70, ]`\n",
    "\n",
    "Assign the subset to a new **variable** and then print the **number of rows** again!\n"
   ]
  },
  {
   "cell_type": "code",
   "execution_count": null,
   "metadata": {},
   "outputs": [],
   "source": []
  },
  {
   "cell_type": "markdown",
   "metadata": {},
   "source": [
    "---\n",
    "**Check** *If your result is 85, then you did it right!*\n",
    "\n",
    "---\n",
    "\n",
    "How about we try this:\n",
    "\n",
    "`airquality_june_13 <- data[data$Month == 6 & data$Day == 13, ]`\n",
    "\n",
    "You can see, that we can make more complex subsets with logical operators.\n",
    "\n",
    "Try to create a subset of the **Ozone** values from the **16th of June**.\n",
    "\n"
   ]
  },
  {
   "cell_type": "code",
   "execution_count": null,
   "metadata": {},
   "outputs": [],
   "source": []
  },
  {
   "cell_type": "markdown",
   "metadata": {},
   "source": [
    "---\n",
    "**Check** *Your result should be 21!*\n",
    "\n",
    "---"
   ]
  },
  {
   "cell_type": "markdown",
   "metadata": {},
   "source": [
    "With ` x %in% y` you can compare two vectors. For each element in vector `x`, `%in%` evaluates if the element is contained in vector `y`.\n",
    "Try:\n",
    "\n",
    "`data[data$Month %in% c(6, 7), ]`\n",
    "\n",
    "In this case it is the same as `data[data$Month == 6 | data$Month == 7, ]`\n",
    "\n",
    "Often you can accomplish the same goals in different ways! So don't worry if your way sometimes looks different, than the one of someone else. You will find your style of coding with practice!"
   ]
  },
  {
   "cell_type": "code",
   "execution_count": null,
   "metadata": {},
   "outputs": [],
   "source": []
  },
  {
   "cell_type": "markdown",
   "metadata": {},
   "source": [
    "Of course we can also do calculations on our values in our columns. Try to calculate the `log()` of our `Ozone`.\n"
   ]
  },
  {
   "cell_type": "code",
   "execution_count": null,
   "metadata": {},
   "outputs": [],
   "source": []
  },
  {
   "cell_type": "markdown",
   "metadata": {},
   "source": [
    "Great we have now log transformed data but we want to store it in our data frame `data`.\n",
    "Simply make use of the `$` operator.\n",
    "\n",
    "`data$log_Ozone <- log(data$Ozone)`\n",
    "\n",
    "This should add a new column to your data frame! Check it out!"
   ]
  },
  {
   "cell_type": "code",
   "execution_count": null,
   "metadata": {},
   "outputs": [],
   "source": []
  },
  {
   "cell_type": "markdown",
   "metadata": {},
   "source": [
    "Let's create another column! This time we want to make a temperature classification. Everything below 70 should be considered \"cold\" and everything above 70 (including 70) should be considered \"warm\".\n",
    "\n",
    "We start with creating a new column, that is empty. \n",
    "\n",
    "`data$TempClass <- rep(\"\", nrow(data))`\n",
    "\n",
    "Now we define the \"cold\":\n",
    "\n",
    "`data[data$Temp < 70 , \"TempClass\"] <- \"cold\"`\n",
    "\n",
    "Try to come up with a way to do assign the \"warm\" class!"
   ]
  },
  {
   "cell_type": "code",
   "execution_count": null,
   "metadata": {},
   "outputs": [],
   "source": []
  },
  {
   "cell_type": "markdown",
   "metadata": {},
   "source": [
    "Great! Your TempClass column should now consist only of \"cold\" and \"warm\" values!\n",
    "\n",
    "And with this you already know some of the really important basics when working with Matrices and Data frames!\n",
    "Please do the **Challenge 03** to really get into practice and see you in **session 04**!"
   ]
  },
  {
   "cell_type": "markdown",
   "metadata": {},
   "source": [
    "# Practice\n",
    "\n",
    "Please do **03_Practice** and then see you in **session 04**!\n",
    "\n",
    "# Summary\n",
    "\n",
    "* A matrix is a two-dimensional Array with two additional attributes specifying the 2 dimensions: nrow und ncol\n",
    "* Data frames store your information in columns that heep their own type\n",
    "* NA means \"not available\" and NA-values should be ignored in data, if you want to do any arithmetics\n",
    "\n",
    "\n",
    "# List of functions Used\n",
    "**Matrices**\n",
    "\n",
    "`matrix(m:n, nrow = x, ncol = y)`\n",
    "\n",
    "`dim(matrix)` `nrow(matrix)` `ncol(matrix)` `cbind(matrix1,matrix2)`\n",
    "\n",
    "`class()` `typeof()`\n",
    "\n",
    "**Data frame**\n",
    "\n",
    "`as.data.frame()`\n",
    "\n",
    "`is.na()` `na.omit()`\n",
    "\n",
    "**Data manipulation**\n",
    "\n",
    "`head()` `names()`\n",
    "\n",
    "`$` `%in%`\n",
    "\n",
    "`rep(vector, times)`\n",
    "\n",
    "`dataframe$new_Column <-`\n",
    "\n",
    "`log()`\n"
   ]
  }
 ],
 "metadata": {
  "kernelspec": {
   "display_name": "R",
   "language": "R",
   "name": "ir"
  },
  "language_info": {
   "codemirror_mode": "r",
   "file_extension": ".r",
   "mimetype": "text/x-r-source",
   "name": "R",
   "pygments_lexer": "r",
   "version": "3.6.1"
  }
 },
 "nbformat": 4,
 "nbformat_minor": 2
}

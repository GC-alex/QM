{
 "cells": [
  {
   "cell_type": "markdown",
   "metadata": {},
   "source": [
    "\n",
    "\n",
    "# 04 Data Wrangling\n",
    "\n",
    "\n",
    "* Load packages\n",
    "* Visualization\n",
    "* Tidy data\n",
    "* Data wrangling\n",
    "\n",
    "\n",
    "---\n",
    "\n",
    "**In this session we will start using packages, focus on visualization and third, get a better understanding of how to manage our data tables more efficiently.**\n",
    "\n",
    "![](https://raw.githubusercontent.com/GC-alex/QM/master/figs/header_sized_small.jpg)\n",
    "\n",
    "\n",
    "---\n",
    "\n",
    "# Packages\n",
    "\n",
    "A **package** is a collection of previously programmed functions, often including functions for specific tasks. \n",
    "The R community provides hundreds of them, all for their own purpose and free for you to use.\n",
    "\n",
    "If you take a carefull look at our previous sessions (01 Introduction to R), we already used some packages for the more advanced plots. You can spot them, because we used them with the `library()`function.\n",
    "\n",
    "Some Packages we already used:\n",
    "**ggplot2**,\n",
    "**maps**,\n",
    "**dplyr**\n",
    "\n",
    "Most packages need to be installed on your local machine before you can use them. Simply use the `install.packages(\"name_of_package\")` function for this purpose. Once installed, you can always use the stored functions with the `library()`function. In our **JupyterNotebooks**, please refer from installing packages and simply load installed packages. On your local R, feel free to install as many packages as you like.\n",
    "\n",
    "---\n",
    "**Note:**\n",
    "\n",
    "*But which packages are installed here? Simply check the **install.R** file in the repository - please don't try to make any changes in this file.*\n",
    "\n",
    "---\n",
    "\n",
    "\n",
    "\n",
    "# Visualization\n",
    "\n",
    "In the first session you already made your first plot. But now we want to dig further into R's capabilities.\n",
    "R has some nice inbuilt function to vizualize our data. Let's try the following functions on our data `airquality`\n",
    "Just take a variable of the dataset, that you want to explore deeper. \n",
    "\n",
    "`hist()` - take one variable of your dataset!\n",
    "\n",
    "`plot()` - take one variable for the x-axis and a second for the y-axis!\n",
    "\n",
    "`boxplot()` - take one variable and the Months!\n",
    "\n",
    "\n",
    "\n",
    "---\n",
    "**Note**\n",
    "* *You forgot which variables there are in the airquality dataset? Use the `head()`function!*\n",
    "* *The boxplot needs a `~` instead of a comma to seperate the variable and the month!*\n",
    "---"
   ]
  },
  {
   "cell_type": "code",
   "execution_count": null,
   "metadata": {},
   "outputs": [],
   "source": []
  },
  {
   "cell_type": "code",
   "execution_count": null,
   "metadata": {},
   "outputs": [],
   "source": []
  },
  {
   "cell_type": "code",
   "execution_count": null,
   "metadata": {},
   "outputs": [],
   "source": []
  },
  {
   "cell_type": "markdown",
   "metadata": {},
   "source": [
    "Now let's try to use a package called `ggplot2`. It creates much nicer plots than the standard R ones but it takes more effort to make them.\n",
    "Use the `library()` function on the name of our package \n",
    "\n",
    "Now let's do a histogramm-plot with **ggplot2**:\n",
    "\n",
    "`ggplot(data = airquality, aes(x = Ozone)) +\n",
    "  geom_histogram()`"
   ]
  },
  {
   "cell_type": "code",
   "execution_count": null,
   "metadata": {},
   "outputs": [],
   "source": []
  },
  {
   "cell_type": "markdown",
   "metadata": {},
   "source": [
    "`ggplot()` is our function but it needs more specifique inputs, than our functions that we used before in our standard R. \n",
    "\n",
    "`data=` is our used dataset. `aes()` means *aesthetics* and specifies things such as colours, sizes or in this case simply which exact column to plot. `geom_histogram()` gets added via an `+` and specifies your *diagram type*.\n",
    "\n",
    "Please try a scatterplot with the `geom_point()` *diagram type* and `y= Temp` as an added *aesthetics*. "
   ]
  },
  {
   "cell_type": "code",
   "execution_count": null,
   "metadata": {},
   "outputs": [],
   "source": []
  },
  {
   "cell_type": "markdown",
   "metadata": {},
   "source": [
    "Let's try a boxplot now! This time we ware using `x = factor(Month)` and y with Ozone, as our *aesthetics*. And `geom_boxplot()`as *diagram type* creates the boxplot."
   ]
  },
  {
   "cell_type": "code",
   "execution_count": null,
   "metadata": {},
   "outputs": [],
   "source": []
  },
  {
   "cell_type": "markdown",
   "metadata": {},
   "source": [
    "Compare all the plots, that you just created!\n",
    "\n",
    "You can also use factor variables to change aesthetics of the `geom_point` and `geom_line` layers.\n",
    "\n",
    "Try the following!\n",
    "`ggplot(data = airquality, aes(x = Ozone, y = Temp, col = factor(Month))) + geom_point()`"
   ]
  },
  {
   "cell_type": "code",
   "execution_count": null,
   "metadata": {},
   "outputs": [],
   "source": []
  },
  {
   "cell_type": "markdown",
   "metadata": {},
   "source": [
    "Can you find out which part of the code, you have to replace to get `shape`s instead of colours?"
   ]
  },
  {
   "cell_type": "code",
   "execution_count": null,
   "metadata": {},
   "outputs": [],
   "source": []
  },
  {
   "cell_type": "markdown",
   "metadata": {},
   "source": [
    "We can do the same for `geom_line` diagram types. In this case the aesthetics are called `fill` instead of `col`and `linetype` instead of `shape`. \n",
    "\n",
    "---\n",
    "**Note**\n",
    "\n",
    "You want to create a `geom_line` plot? Don't forget to use the right data for that: you can try `Day` and `Temp`!\n",
    "\n",
    "---\n",
    "\n",
    "\n",
    "Let try to plot a `geom_point` with x = `Ozone`, `y= Temp`, `col = Wind` and `size = Solar.R` !\n"
   ]
  },
  {
   "cell_type": "code",
   "execution_count": null,
   "metadata": {},
   "outputs": [],
   "source": []
  },
  {
   "cell_type": "markdown",
   "metadata": {},
   "source": [
    "Now we created many plots, but none of them really looks nice. Let's change that and add a title and axis descriptions. \n",
    "\n",
    "`ggplot(data = airquality, aes(x = Ozone, y = Temp, col = factor(Month))) +\n",
    "  geom_point() +\n",
    "  labs(x = \"Ozone concentration [ppm]\", \n",
    "       y = \"Temperature [°F]\", \n",
    "       title = \"Relationship between Ozone und Temperture in New York\")`"
   ]
  },
  {
   "cell_type": "code",
   "execution_count": null,
   "metadata": {},
   "outputs": [],
   "source": []
  },
  {
   "cell_type": "markdown",
   "metadata": {},
   "source": []
  },
  {
   "cell_type": "markdown",
   "metadata": {},
   "source": [
    "# Challenge\n",
    "\n",
    "Please do **Challenge 04** to practice!\n",
    "\n",
    "# Summary\n",
    "\n",
    "*\n",
    "\n",
    "\n",
    "# List of functions Used\n",
    "**Load Packages**\n",
    "\n",
    "`install.packages()`\n",
    "\n",
    "`library()`\n",
    "\n",
    "**Visualization:**\n",
    "\n",
    "R:\n",
    "`hist()`\n",
    "`plot()`\n",
    "`boxplot()`\n",
    "\n",
    "GGplot2:\n",
    "`ggplot()`\n"
   ]
  }
 ],
 "metadata": {
  "kernelspec": {
   "display_name": "R",
   "language": "R",
   "name": "ir"
  },
  "language_info": {
   "codemirror_mode": "r",
   "file_extension": ".r",
   "mimetype": "text/x-r-source",
   "name": "R",
   "pygments_lexer": "r",
   "version": "3.6.1"
  }
 },
 "nbformat": 4,
 "nbformat_minor": 2
}

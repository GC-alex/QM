{
 "cells": [
  {
   "cell_type": "markdown",
   "metadata": {},
   "source": [
    "\n",
    "\n",
    "# 04 Data Wrangling\n",
    "\n",
    "\n",
    "* Load packages\n",
    "* Visualization\n",
    "* Tidy data\n",
    "* Data wrangling\n",
    "\n",
    "\n",
    "---\n",
    "\n",
    "**In this session we will start using packages, focus on visualization and third, get a better understanding of how to manage our data tables more efficiently.**\n",
    "\n",
    "![](https://raw.githubusercontent.com/GC-alex/QM/master/figs/header_sized_small.jpg)\n",
    "\n",
    "\n",
    "---\n",
    "\n",
    "# Packages\n",
    "\n",
    "A **package** is a collection of previously programmed functions, often including functions for specific tasks. \n",
    "The R community provides hundreds of them, all for their own purpose and free for you to use.\n",
    "\n",
    "If you take a carefull look at our previous sessions (01 Introduction to R), we already used some packages for the more advanced plots. You can spot them, because we used them with the `library()`function.\n",
    "\n",
    "Some Packages we already used:\n",
    "**ggplot2**,\n",
    "**maps**,\n",
    "**dplyr**\n",
    "\n",
    "Most packages need to be installed on your local machine before you can use them. Simply use the `install.packages(\"name_of_package\")` function for this purpose. Once installed, you can always use the stored functions with the `library()`function. In our **JupyterNotebooks**, please refer from installing packages and simply load installed packages. On your local R, feel free to install as many packages as you like.\n",
    "\n",
    "---\n",
    ">**Note:**\n",
    "*You need to load your packages ( `library()`) every time you start a new R-Session!\n",
    "But which packages are installed here? Simply check the **install.R** file in the repository - please don't try to make any changes in this file.* \n",
    "\n",
    "---\n",
    "\n",
    "\n",
    "\n",
    "# Visualization\n",
    "\n",
    "In the first session you already made your first plot. But now we want to dig further into R's capabilities.\n",
    "R has some nice inbuilt function to vizualize our data. Let's try the following functions on our data `airquality`\n",
    "Just take a variable of the dataset, that you want to explore deeper. \n",
    "\n",
    "`hist()` - take one variable of your dataset!\n",
    "\n",
    "`plot()` - take one variable for the x-axis and a second for the y-axis!\n",
    "\n",
    "`boxplot()` - take one variable and the Months!\n",
    "\n",
    "\n",
    "\n",
    "---\n",
    ">**Note** *You forgot which variables there are in the airquality dataset? Use the `head()`function!* *The boxplot needs a `~` instead of a comma to seperate the variable and the month!*\n",
    "---"
   ]
  },
  {
   "cell_type": "code",
   "execution_count": null,
   "metadata": {},
   "outputs": [],
   "source": []
  },
  {
   "cell_type": "code",
   "execution_count": null,
   "metadata": {},
   "outputs": [],
   "source": []
  },
  {
   "cell_type": "code",
   "execution_count": null,
   "metadata": {},
   "outputs": [],
   "source": []
  },
  {
   "cell_type": "markdown",
   "metadata": {},
   "source": [
    "Now let's try to use a package called `ggplot2`. It creates much nicer plots than the standard R ones but it takes more effort to make them.\n",
    "Use the `library()` function on the name of our package \n",
    "\n",
    "Now let's do a histogramm-plot with **ggplot2**:\n",
    "\n",
    "`ggplot(data = airquality, aes(x = Ozone)) +\n",
    "  geom_histogram()`"
   ]
  },
  {
   "cell_type": "code",
   "execution_count": null,
   "metadata": {},
   "outputs": [],
   "source": []
  },
  {
   "cell_type": "markdown",
   "metadata": {},
   "source": [
    "`ggplot()` is our function but it needs more specifique inputs, than our functions that we used before in our standard R. \n",
    "\n",
    "`data=` is our used dataset. `aes()` means *aesthetics* and specifies things such as colours, sizes or in this case simply which exact column to plot. `geom_histogram()` gets added via a `+` and specifies your *diagram type*.\n",
    "\n",
    "Please try a scatterplot with the `geom_point()` *diagram type* and `y= Temp` as an added *aesthetics*. "
   ]
  },
  {
   "cell_type": "code",
   "execution_count": null,
   "metadata": {},
   "outputs": [],
   "source": []
  },
  {
   "cell_type": "markdown",
   "metadata": {},
   "source": [
    "Let's try a boxplot now! This time we are using `x = factor(Month)` and y with Ozone, as our *aesthetics*. `geom_boxplot()`as *diagram type* creates the boxplot."
   ]
  },
  {
   "cell_type": "code",
   "execution_count": null,
   "metadata": {},
   "outputs": [],
   "source": []
  },
  {
   "cell_type": "markdown",
   "metadata": {},
   "source": [
    "Compare all the plots, that you just created!\n",
    "\n",
    "\n",
    "You can also use factor variables to change aesthetics of the `geom_point` and `geom_line` layers.\n",
    "\n",
    "Try the following!\n",
    "`ggplot(data = airquality, aes(x = Ozone, y = Temp, col = factor(Month))) + geom_point()`"
   ]
  },
  {
   "cell_type": "code",
   "execution_count": null,
   "metadata": {},
   "outputs": [],
   "source": []
  },
  {
   "cell_type": "markdown",
   "metadata": {},
   "source": [
    "Can you find out which part of the code, you have to replace to get `shape`s instead of colours?"
   ]
  },
  {
   "cell_type": "code",
   "execution_count": null,
   "metadata": {},
   "outputs": [],
   "source": []
  },
  {
   "cell_type": "markdown",
   "metadata": {},
   "source": [
    "We can do the same for `geom_line` diagram types. In this case the aesthetics are called `fill` instead of `col`and `linetype` instead of `shape`. \n",
    "\n",
    "---\n",
    ">**Note** *You want to create a `geom_line` plot? Don't forget to use the right data for that: you can try `Day` and `Temp`!*\n",
    "\n",
    "---\n",
    "\n",
    "\n",
    "Let's build a `geom_point` scatterplot with x = `Ozone`, `y= Temp`, `col = Wind` and `size = Solar.R`!\n"
   ]
  },
  {
   "cell_type": "code",
   "execution_count": null,
   "metadata": {},
   "outputs": [],
   "source": []
  },
  {
   "cell_type": "markdown",
   "metadata": {},
   "source": [
    "Now we created many plots, but none of them really looks nice. Let's change that and add a title and axis descriptions. \n",
    "\n",
    "`ggplot(data = airquality, aes(x = Ozone, y = Temp, col = factor(Month))) +\n",
    "  geom_point() +\n",
    "  labs(x = \"Ozone concentration [ppm]\", \n",
    "       y = \"Temperature [°F]\", \n",
    "       title = \"Relationship between Ozone und Temperture in New York\")`"
   ]
  },
  {
   "cell_type": "code",
   "execution_count": null,
   "metadata": {},
   "outputs": [],
   "source": []
  },
  {
   "cell_type": "markdown",
   "metadata": {},
   "source": [
    "As you can see every `+` adds another layer to your plot. Therfore you can easily build up your diagram step by step to easily include all the features you like to plot.\n",
    "\n"
   ]
  },
  {
   "cell_type": "markdown",
   "metadata": {},
   "source": [
    "With the following code, we can create multi-panel plots. (Also called, Trellis plots or multi-facet plots) \n",
    "They are conditioned on one variable (here: `Month`) and create one panel for each of these variables.\n",
    "\n",
    "`ggplot(data = airquality, aes(x = Ozone, y = Temp)) +\n",
    "  geom_point() +\n",
    "  facet_wrap(~Month)`\n",
    " \n"
   ]
  },
  {
   "cell_type": "code",
   "execution_count": null,
   "metadata": {},
   "outputs": [],
   "source": []
  },
  {
   "cell_type": "markdown",
   "metadata": {},
   "source": [
    "Trellis plots, consist of many panels arranged in rows and columns but are still just *one* plot.\n",
    "\n",
    "If you want to display more than one plot in one output field, you can use the package `gridExtra` with its function `gridArrange()`. \n",
    "\n",
    "Please load the **library** and create two plots called `plot1`and `plot2` to use the following function.\n",
    "`grid.arrange(plot1, plot2, ncol = 2)`"
   ]
  },
  {
   "cell_type": "code",
   "execution_count": null,
   "metadata": {},
   "outputs": [],
   "source": []
  },
  {
   "cell_type": "markdown",
   "metadata": {},
   "source": [
    "---\n",
    "\n",
    "> **Note** *You can save your plots to your disc with the following line:\n",
    "`ggsave(filename = \"plot.pdf\", plot = p, path = \"Figures\")`\n",
    "make sure to edit the right path as your destination folder*\n",
    "\n",
    "---"
   ]
  },
  {
   "cell_type": "markdown",
   "metadata": {},
   "source": [
    "# Data Wrangling\n",
    "\n",
    "Often, gathered data is compiled in different structures and matrices. To use this data in an easy way for ggplot or other functions, we need to wrangle it into our prefered shape. \n",
    "Here, we want to introduce `tidyverse` and the new data format called a `tibble`. \n",
    "\n",
    "Please take a first look at the data `msleep` from the ggplot2 package.\n",
    "You can use the `glimpse()`function for this.\n",
    "**Dont forget to load the `tidyverse` package!**\n",
    "\n",
    "____\n",
    "\n",
    "> **Note**:  *Once you loaded the library `tidyverse`, yu dont need to load the library for ggplot2 seperately.What doees `tidyverse` consists of? It is a compilation of many packages, optimized for data wrangling in R and Data Science. Have a look at their [website](https://www.tidyverse.org/packages/).*\n",
    "---"
   ]
  },
  {
   "cell_type": "code",
   "execution_count": null,
   "metadata": {},
   "outputs": [],
   "source": []
  },
  {
   "cell_type": "markdown",
   "metadata": {},
   "source": [
    "### Mutate\n",
    "The `mutate` function, is used to mutate columns of your data. You can pretty much do all vector calculations within this function and apply it therefore directly to the column of you data.\n",
    "\n",
    "This time we are using a pipe `%>%` to apply our functions to our data. It helps you saving a lot of coding line, when used wisely. It may be a little counterintuitive but eventually you will get the hang of it.\n",
    "\n",
    "Let's change timescale of our measured data from hours to minutes:\n",
    "\n",
    "`msleep %>%\n",
    "  select(name, sleep_total) %>%\n",
    "  mutate(sleep_total_min = sleep_total * 60)`\n",
    "\n",
    "---\n",
    ">**Note** *`%>%` takes the object in front of it (here: `msleep`) and applys the following functions on it (here: `select` and `mutate`)\n",
    "You forgot what some functions do? You can always use the `help` function. Simply type a `?`in front of the function, you are uncertain about. It should direct you to a help window by CRAN. Use `?msleep` to get additional information on this data.*\n",
    "\n",
    "---"
   ]
  },
  {
   "cell_type": "code",
   "execution_count": null,
   "metadata": {
    "scrolled": true
   },
   "outputs": [],
   "source": []
  },
  {
   "cell_type": "markdown",
   "metadata": {},
   "source": [
    "You can see, that we only used a subset of our data by using the `select` function. `-name` would result in taking all columns, except for `name`. \n",
    "We can also add new columns with this method. Try the following code.\n",
    "\n",
    "`msleep %>%\n",
    "  select(name, sleep_total) %>%\n",
    "  mutate(sleep_total_vs_AVG = sleep_total - round(mean(sleep_total), 1),\n",
    "         sleep_total_vs_MIN = sleep_total - min(sleep_total))` \n",
    "         \n"
   ]
  },
  {
   "cell_type": "code",
   "execution_count": null,
   "metadata": {},
   "outputs": [],
   "source": []
  },
  {
   "cell_type": "markdown",
   "metadata": {},
   "source": [
    "If you want to use aggreagte functions on the entire column, such as `sum()` or `mean()`, you need to make sure, that the `mutate`function applies them `rowwise()` or you will get error messages. \n",
    "\n",
    "`msleep %>%\n",
    "  select(name, contains(\"sleep\")) %>%\n",
    "  rowwise() %>%\n",
    "  mutate(average = mean(c(sleep_rem, sleep_cycle)))`\n",
    "\n",
    "---\n",
    " >**Note** *the `c` in our `mean` function is needed to apply it to a vector, instead of a single value. Don't forget it!*\n",
    "\n",
    "---\n",
    " "
   ]
  },
  {
   "cell_type": "code",
   "execution_count": null,
   "metadata": {},
   "outputs": [],
   "source": []
  },
  {
   "cell_type": "markdown",
   "metadata": {},
   "source": [
    "If you want to mutate all your columns at the same time, you can use the `mutate_all`function. Mutate all columns to lower case with `tolower`. Try the same with `round`.\n"
   ]
  },
  {
   "cell_type": "code",
   "execution_count": null,
   "metadata": {},
   "outputs": [],
   "source": [
    "\n"
   ]
  },
  {
   "cell_type": "code",
   "execution_count": null,
   "metadata": {},
   "outputs": [],
   "source": []
  },
  {
   "cell_type": "markdown",
   "metadata": {},
   "source": [
    "The `round` function should this time, give you an error. This happens, because we are having numerical and character values in our tibble. The `mutate_if` and `mutate_at` functions, help us here.\n",
    "\n",
    "`msleep %>%\n",
    "  select(name, sleep_total:bodywt) %>%\n",
    "  mutate_if(is.numeric, round)`\n",
    "  \n",
    "\n",
    "\n",
    "`msleep %>%\n",
    "  select(name, sleep_total:awake) %>%\n",
    "  mutate_at(vars(contains(\"sleep\")), ~(.*60))`\n",
    " \n"
   ]
  },
  {
   "cell_type": "code",
   "execution_count": null,
   "metadata": {},
   "outputs": [],
   "source": [
    "\n"
   ]
  },
  {
   "cell_type": "markdown",
   "metadata": {},
   "source": [
    "What are these functions doing with our data?\n",
    "\n",
    "Let's take a closer look:\n",
    "\n",
    "The `:` selects all columns from `sleep_total` to `bodywt`\n",
    "\n",
    "`is.numeric` checks for the column, wether it is numeric (and returns a TRUE or FALSE argument) and the `mutate_if` function then applys `round` to all values, that are marked as TRUE\n",
    "This structure of checking via an TRUE/FALSE function, is always needed when using the `mutate_if` function\n",
    "\n",
    "\n",
    "`vars` is a way to takes inputs to be evaluated in the context of a dataset, here columns that we selected via `select` and applys the function `contain` an these to get the columns you want\n",
    "` ~(.*60)` is the second part of the mutate_at function. This command takes all selected columns( via vars) and applys the actual mutation.\n",
    "The `~` only helps us define a function that should be applied, taking the values `.` and multiplying them by 60. It transforms hours to minutes.\n",
    "\n",
    "---\n"
   ]
  },
  {
   "cell_type": "markdown",
   "metadata": {},
   "source": [
    "### Factors\n",
    "\n",
    "Check out the column `vore` in our tibble. You can easily see, that it consists of four repeated character values:\n",
    "\n",
    "'carni', 'herbi', 'insecti', 'omni'.\n",
    "\n",
    "As there are only these four inputs possible for the category `vore`, we call them `levels`. Right now a new observation could still be called anything, but we want to change the column's data type to a `factor`. \n",
    "Use the `factor()`function on the column `vore` and check your results with `levels()`.\n",
    "\n",
    "---\n",
    ">**Note** *If you are getting a vector \"NULL\" or an error about the columns, make sure to write your tibble to new variable!*\n",
    "\n",
    "---"
   ]
  },
  {
   "cell_type": "code",
   "execution_count": null,
   "metadata": {},
   "outputs": [],
   "source": []
  },
  {
   "cell_type": "markdown",
   "metadata": {},
   "source": [
    "### Gather\n",
    "\n",
    "Data is often recoreded in a **wide-format**, but to use the data easily with ggplot or other analysis, we need a so called **long-format** to plot and analyse it more easily.\n",
    "\n",
    "**wide-format:**\n",
    "\n",
    "\n",
    "Plot | Measure 1 | Measure 2\n",
    "--- | --- | ---\n",
    "1 | 13.1 | 7.4\n",
    "2| 9.2 | 11.9\n",
    "3| 11.0| 12.7\n",
    "\n",
    "**long-format:**\n",
    "\n",
    "\n",
    "Plot | Measure | Value\n",
    "--- | --- | ---\n",
    "1 | M1 | 13.1\n",
    "2| M1 | 9.2\n",
    "3| M1| 11.0\n",
    "4 | M2 | 7.4\n",
    "5| M2 | 11.9\n",
    "6| M2| 12.7\n",
    "\n",
    "\n",
    "Let's have a look at our `msleep`data again and focus only on the columns with sleep measurements.\n",
    "Please run this code and compare it to the previous version of `msleep`\n",
    "\n",
    "`long_format <- msleep %>%\n",
    "  select(name, contains(\"sleep\")) %>%\n",
    "  gather(key = \"sleep_measure\", value = \"time\", -name, factor_key = TRUE)\n",
    "long_format`\n",
    "\n",
    "\n",
    "\n",
    "\n"
   ]
  },
  {
   "cell_type": "code",
   "execution_count": null,
   "metadata": {},
   "outputs": [],
   "source": []
  },
  {
   "cell_type": "code",
   "execution_count": null,
   "metadata": {},
   "outputs": [],
   "source": [
    "\n"
   ]
  },
  {
   "cell_type": "markdown",
   "metadata": {},
   "source": [
    "`gather()` does indeed gather (or compile) many columns into one. All it needs is a `key`, which is the new descriptive column, and a `value`, which is the name for the new value column.\n",
    "\n",
    "Here our key is called `sleep_measure`and consists of the former sleep total, sleep rem and sleep cycle. The value is called `time`. `-name` here gives the instruction, which columns to ignore and should not be gathered. `factor_key = TRUE)` helps us to declare our key column as a factor variable.\n",
    "\n",
    "The counter spell to this is called `spread` and does the exact opposite to gather - it splits one column into many.\n",
    "\n",
    "### Other Usefull Functions\n",
    "\n",
    "The `summarize` function, creates a new tibble consistent of the defined summaries from our columns.\n",
    "\n",
    "`msleep%>%\n",
    "summarize(sleep_mean = mean(sleep_total),\n",
    "            sleep_median = median(sleep_total))`"
   ]
  },
  {
   "cell_type": "code",
   "execution_count": null,
   "metadata": {},
   "outputs": [],
   "source": []
  },
  {
   "cell_type": "markdown",
   "metadata": {},
   "source": [
    "We can also use these summarize functions on specifique groups. This time we will use the `group_by`function\n",
    "\n",
    "`long_format%>%\n",
    "group_by(name, sleep_measure) %>%\n",
    "  summarize(sleep_mean = mean(time),\n",
    "            sleep_median = median(time))`\n",
    "            \n",
    "As you can see, the calues  got calculated for each group and were then sorted this way."
   ]
  },
  {
   "cell_type": "code",
   "execution_count": null,
   "metadata": {},
   "outputs": [],
   "source": []
  },
  {
   "cell_type": "markdown",
   "metadata": {},
   "source": [
    "You already know one way of subsetting your tibble via the `select` function.\n",
    "\n",
    "Another way is the `filter()`function. Try filtering your data by sleep_total < 10\n"
   ]
  },
  {
   "cell_type": "code",
   "execution_count": null,
   "metadata": {},
   "outputs": [],
   "source": []
  },
  {
   "cell_type": "markdown",
   "metadata": {},
   "source": [
    "# Practice\n",
    "\n",
    "Please do **04_Practice** to practice the vizualisation and data wrangling. [Here](https://rstudio.com/wp-content/uploads/2015/02/data-wrangling-cheatsheet.pdf) you can also have a look at a cheatsheet, which might help you keeping an overview of all these functions and dplyr. See you in **session 05**!\n",
    "\n",
    "# Summary\n",
    "\n",
    "* R offers a broad selection of **Packages**, which consist of helpfull functions\n",
    "\n",
    "* Vizualisation is a crucial part of understanding your data and describing it later. The inbuilt functions in R help you with this.\n",
    "\n",
    "* For more advanced plotting use the `ggplot2` package\n",
    "\n",
    "* Working with big data, can be really hard. The `tidyverse` package, helps with Data Wrangling and introduces a new matrice called `tibble`\n",
    "\n",
    "\n",
    "# List of functions Used\n",
    "\n",
    "**Load Packages**\n",
    "\n",
    "`install.packages()`\n",
    "\n",
    "`library()`\n",
    "\n",
    "**Visualization:**\n",
    "\n",
    "R:\n",
    "`hist()`\n",
    "`plot()`\n",
    "`boxplot()`\n",
    "\n",
    "GGplot2:\n",
    "`ggplot()`\n",
    "`geom_point()`\n",
    "`geom_line()`\n",
    "`geom_histogram`\n",
    "`aes()`\n",
    "`labs()`\n",
    "\n",
    "`+` adds another Layer to your diagram\n",
    "\n",
    "**Data Wrangling**\n",
    "\n",
    "\n",
    "`glimpse()`\n",
    "`%>%`\n",
    "`select()`\n",
    "`mutate()`\n",
    "`mutate_all()`\n",
    "`mutate_if()`\n",
    "`mutate_at()`\n",
    "`vars()`\n",
    "`contains()`\n",
    "`round()`\n",
    "`mean()`\n",
    "`factor()`\n",
    "`levels()`\n",
    "`gather()`\n",
    "`summarize()`\n",
    "`filter()`\n",
    "`spread()`\n",
    "\n",
    "# List of Packages Used\n",
    "\n",
    "`tidyverse`\n",
    "`ggplot2`\n",
    "`gridExtra`\n",
    "`msleep`\n"
   ]
  }
 ],
 "metadata": {
  "kernelspec": {
   "display_name": "R",
   "language": "R",
   "name": "ir"
  },
  "language_info": {
   "codemirror_mode": "r",
   "file_extension": ".r",
   "mimetype": "text/x-r-source",
   "name": "R",
   "pygments_lexer": "r",
   "version": "3.6.1"
  }
 },
 "nbformat": 4,
 "nbformat_minor": 2
}

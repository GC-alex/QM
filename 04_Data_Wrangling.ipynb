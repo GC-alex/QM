{
 "cells": [
  {
   "cell_type": "markdown",
   "metadata": {},
   "source": [
    "\n",
    "\n",
    "# 02 Data Wrangling\n",
    "\n",
    "\n",
    "* Load packages\n",
    "* Visualization\n",
    "* Tidy data\n",
    "* Data wrangling\n",
    "\n",
    "\n",
    "---\n",
    "\n",
    "**In this session we will start using packages and get a better understanding of how to manage our data tables more efficiently.**\n",
    "\n",
    "![](https://raw.githubusercontent.com/GC-alex/QM/master/figs/header_sized_small.jpg)\n",
    "\n",
    "\n",
    "---\n",
    "\n",
    "# Packages\n",
    "\n",
    "A **package** is a collection of previously programmed functions, often including functions for specific tasks. \n",
    "The R community provides hundreds of them, all for their own purpose and free for you to use.\n",
    "\n",
    "If you take a carefull look at our previous sessions (01 Introduction to R), we already used some packages for the more advanced plots. You can spot them, because we used them with the `library()`function.\n",
    "\n",
    "Some Packages we already used:\n",
    "**ggplot2**,\n",
    "**maps**,\n",
    "**dplyr**\n",
    "\n",
    "Most packages need to be installed on your local machine before you can use them. Simply use the `install.packages()` fucntion for this purpose. Once installed, you can always use the stored functions with the `library()`function. In our **JupyterNotebooks**, please refer from installing packages and simply load installed packages. On your local R, eel free to install as many packages as you like.\n",
    "\n",
    "---\n",
    "**Note:**\n",
    "\n",
    "*But which packages are installed? Simply check the **install.R** file in the repository - please don't try to make any changes in this file.*\n",
    "\n",
    "---\n",
    "\n",
    "# Vizualization\n",
    "\n",
    "R has some nice inbuilt function to vizualize our data. Let's try the following functions on our data `airquality`\n",
    "\n",
    "`hist()`, `plot()`, `boxplot()` "
   ]
  },
  {
   "cell_type": "code",
   "execution_count": null,
   "metadata": {},
   "outputs": [],
   "source": []
  },
  {
   "cell_type": "markdown",
   "metadata": {},
   "source": [
    "Now let's try to use a package called `ggplot2`. It creates much nicer plots than the standard R ones but it takes more effort to make them.\n",
    "Use the `library()` function on the name of our package \n",
    "\n",
    "Now let's do a histogramm-plot with ggplot2:\n",
    "\n",
    "`ggplot(data = airquality, aes(x = Ozone)) +\n",
    "  geom_histogram()`"
   ]
  },
  {
   "cell_type": "code",
   "execution_count": null,
   "metadata": {},
   "outputs": [],
   "source": []
  },
  {
   "cell_type": "markdown",
   "metadata": {},
   "source": [
    "`ggplot()` is our function but it needs more specifique inputs, than our functions that we used before. `data=` is our used dataset. `aes()` means *aesthetics* and specifies things such as colours, sizes or in this case simply which exact column to plot. `geom_histogram()` gets added via an `+` and specifies your diagram type.\n",
    "\n",
    "Please try a scatterplot with the `geom_point` diagram type and `y= Temp` as an added aesthetics. "
   ]
  },
  {
   "cell_type": "code",
   "execution_count": null,
   "metadata": {},
   "outputs": [],
   "source": []
  },
  {
   "cell_type": "markdown",
   "metadata": {},
   "source": []
  }
 ],
 "metadata": {
  "kernelspec": {
   "display_name": "R",
   "language": "R",
   "name": "ir"
  },
  "language_info": {
   "codemirror_mode": "r",
   "file_extension": ".r",
   "mimetype": "text/x-r-source",
   "name": "R",
   "pygments_lexer": "r",
   "version": "3.6.1"
  }
 },
 "nbformat": 4,
 "nbformat_minor": 2
}

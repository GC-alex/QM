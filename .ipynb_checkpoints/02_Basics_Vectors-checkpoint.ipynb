{
 "cells": [
  {
   "cell_type": "markdown",
   "metadata": {},
   "source": [
    "\n",
    "\n",
    "# 02 Basics in R\n",
    "\n",
    "\n",
    "\n",
    "* Basics of programming in R\n",
    "* Calculations and variables\n",
    "* vectors and datatypes\n",
    "\n",
    "\n",
    "\n",
    "---\n",
    "\n",
    "**In this session we will focus on the first steps to understand R's syntax properly. We will start with the very basics and with this foundation you will be able to compute models or vizualize your data in no time (in future sessions).**\n",
    "\n",
    "![](https://raw.githubusercontent.com/GC-alex/QM/master/figs/header_sized_small.jpg)\n",
    "\n",
    "\n",
    "---\n",
    "\n",
    "## Calculations and Variables\n",
    "\n",
    "As R is a programming language made for statistical analyzes, of course calculations are at its core.  Therefore we will start with it.\n",
    "See what happens if you try to calculate some formular:\n",
    "\n",
    "`5 + 2`"
   ]
  },
  {
   "cell_type": "code",
   "execution_count": null,
   "metadata": {},
   "outputs": [],
   "source": []
  },
  {
   "cell_type": "markdown",
   "metadata": {},
   "source": [
    "In this case it is a simple calculation. To store the information or to do further calculations with the result we need to assign it to a variable `a <- 5+2`. If you want to see your stored information, you have to open your varible `a` with simply typing `a`. Do the same with a varible `b` that is ` 3^2`. What happens if you calculate `c` as `b` substracted from `a`?"
   ]
  },
  {
   "cell_type": "code",
   "execution_count": null,
   "metadata": {},
   "outputs": [],
   "source": []
  },
  {
   "cell_type": "markdown",
   "metadata": {},
   "source": [
    "-----\n",
    "**Note:**  \n",
    "* *You can't see your results? Don't forget to type the name of the variable, for which you want to know the values!*\n",
    "* *If you assign a new variable with the same name, the stored information will be overwritten!*\n",
    "* *Your forgot wich varibales your already computed? Type `ls()` to get a full list of all variables in your workspace!*\n",
    "-----"
   ]
  },
  {
   "cell_type": "markdown",
   "metadata": {},
   "source": [
    "**More mathematical functions**\n",
    "\n",
    "Try to figure out what the following **functions** do! (`x`is a placeholder variable, `n` a natural number)\n",
    "\n",
    "`sqrt(x)`\n",
    "`exp(x)`\n",
    "`log(x, n)`\n",
    "`log10(x)`\n",
    "`sin(x)`\n",
    "`cos(x)`"
   ]
  },
  {
   "cell_type": "code",
   "execution_count": null,
   "metadata": {},
   "outputs": [],
   "source": []
  },
  {
   "cell_type": "markdown",
   "metadata": {},
   "source": [
    "## Vectors \n",
    "Within a variable, we can also store more than just one value, but for example a vector.\n",
    "\n",
    "Use `c()` to combine different values to a vector:\n",
    "`v <- c(1, 3, 8, 33, 13, 44, 21)`\n",
    "\n",
    "---\n",
    "**Note:**\n",
    "\n",
    "- `length()` *helps you determine the length of your vector*\n",
    "\n",
    "---"
   ]
  },
  {
   "cell_type": "code",
   "execution_count": null,
   "metadata": {},
   "outputs": [],
   "source": []
  },
  {
   "cell_type": "markdown",
   "metadata": {},
   "source": [
    "**Calculations and Vectors**\n",
    "\n",
    "Try the following calculations on your vector `v` and figure out what they do!\n",
    "\n",
    "`v * 2`\n",
    "\n",
    "`v + 2`\n",
    "\n",
    "`v + c(1, 2)`\n"
   ]
  },
  {
   "cell_type": "code",
   "execution_count": null,
   "metadata": {},
   "outputs": [],
   "source": []
  },
  {
   "cell_type": "markdown",
   "metadata": {},
   "source": [
    "To adress certain values within a vector we are using the command `v[1]`. This will give us the value at position `1`. \n",
    "\n",
    "Try the following ways to adress values!\n",
    "\n",
    "`v[c(1, 5)]`\n",
    "\n",
    "`v[1:5]`\n",
    "\n",
    "`v[c(1:4, 8)]`\n",
    "\n",
    "`v[1] <- 5`"
   ]
  },
  {
   "cell_type": "code",
   "execution_count": null,
   "metadata": {},
   "outputs": [],
   "source": []
  },
  {
   "cell_type": "markdown",
   "metadata": {},
   "source": [
    "---\n",
    "**Note**\n",
    "\n",
    "*with `<-` you can also adress certain positions of the variable to change their values!* `x[1] <- 5`\n",
    "\n",
    "*Or even remove the value completely:* `x <- x[-3]`\n",
    "\n",
    "---"
   ]
  },
  {
   "cell_type": "markdown",
   "metadata": {},
   "source": [
    "As our `v` became really messy, for the next steps we will define a vector with the values from 1 to 10.\n",
    "\n",
    "`x <- 1:10`\n",
    "\n",
    "Let's create `y` with the follwing `seq(from = 1, to = 100, by = 10)` and `u` with `rep(c(\"x\", \"o\"), times=5)`.\n",
    "\n",
    "\n"
   ]
  },
  {
   "cell_type": "code",
   "execution_count": null,
   "metadata": {},
   "outputs": [],
   "source": []
  },
  {
   "cell_type": "markdown",
   "metadata": {},
   "source": [
    "What happens if we calculate the following: \n",
    "\n",
    "`y + u`"
   ]
  },
  {
   "cell_type": "code",
   "execution_count": null,
   "metadata": {},
   "outputs": [],
   "source": []
  },
  {
   "cell_type": "markdown",
   "metadata": {},
   "source": [
    "So what happened?\n",
    "Take a look at `y`and then at `u`, can you see any difference between the stored values? `y` is a vector with numeric values, while `u`on the other hand appears to have a different type of values stored.\n",
    "Let's have a look at those kinds of values.\n",
    "\n",
    "Try the `class()` and `typeof()` functions on our new variables `x`, `y` and `u`."
   ]
  },
  {
   "cell_type": "code",
   "execution_count": null,
   "metadata": {},
   "outputs": [],
   "source": []
  },
  {
   "cell_type": "markdown",
   "metadata": {},
   "source": [
    "In this case: `u`'s values are `character`- values. You can easily detect them by the quotationmarks used for each value. Therefore you can also assign `\"20\"` or `\"13\"` which are still stored as characters. You cannot do any calculations with those.\n",
    "\n",
    "`x`and `y` are numeric vectors. `integer`is a vector type that is limited to integer numbers and fast in computational time. `double` values are real numbers and take more time to compute as they are usually bigger and more precise. \n",
    "\n",
    "There is a third vector type that we will check out now:\n",
    "\n",
    "Try figure out wether the `length()`of `x` is **bigger than** the `length()`of `y`.\n",
    "Can you check the **type** of your result?\n"
   ]
  },
  {
   "cell_type": "code",
   "execution_count": null,
   "metadata": {},
   "outputs": [],
   "source": []
  },
  {
   "cell_type": "markdown",
   "metadata": {},
   "source": [
    "---\n",
    "\n",
    "**Note**\n",
    "\n",
    "*If you struggle with checking the type, consider storing your result in a new variable ( `z`?) !*\n",
    "\n",
    "---"
   ]
  },
  {
   "cell_type": "markdown",
   "metadata": {},
   "source": [
    "Our last vector type is the `logical` type. It consists of either `TRUE` or `FALSE`. You can always use it in combination with any mathematical logical operations such as `<` or `==` or `>`.\n",
    "\n",
    "---\n",
    "\n",
    "At the end of this **session 02.**\n",
    "\n",
    "Let's have some fun with the following funcions! Apply them to which vector you please or create your own new vectors! You will eventually figure out that they are limited to certain vector types!\n",
    "\n",
    "`max()`\n",
    "`min()`\n",
    "`sum()`\n",
    "`prod()`\n",
    " \n"
   ]
  },
  {
   "cell_type": "code",
   "execution_count": null,
   "metadata": {},
   "outputs": [],
   "source": []
  },
  {
   "cell_type": "markdown",
   "metadata": {},
   "source": [
    "# Practice\n",
    "\n",
    "Please complete **02_Practice** to practice and then see you in **session03**!\n",
    "\n",
    "# Summary\n",
    "**Calculations**\n",
    "\n",
    "-you can store information by assigning them variables ( via `<-`)\n",
    "\n",
    "**Vectors**\n",
    "\n",
    "-Vectors can be used in arithmetic expressions, in which case the operations are performed element by element.\n",
    "\n",
    "-If two vectors have different lengths, the shorter vector is recycled as often as needed\n",
    "\n",
    "-There are different kinds of vectors in R `character`, `numeric` ones (`integer` and `double`) and `logical`.\n",
    "\n",
    "-You cannot mix data types in the vector\n",
    "\n",
    "\n",
    "\n",
    "# List of functions Used\n",
    "\n",
    "**Calculations**\n",
    "\n",
    "`sqrt(x)` `exp(x)` `log(x, n)` `log10(x)` `sin(x)` `cos(x)`\n",
    "\n",
    "`max()`\n",
    "`min()`\n",
    "`sum()`\n",
    "`prod()`\n",
    " \n",
    "\n",
    "**Vectors**\n",
    "\n",
    "`length()`\n",
    "`c()`\n",
    "`seq()` `rep(vector, times)`\n",
    "`typeof()`\n",
    "`class()`\n",
    "\n"
   ]
  }
 ],
 "metadata": {
  "kernelspec": {
   "display_name": "R",
   "language": "R",
   "name": "ir"
  },
  "language_info": {
   "codemirror_mode": "r",
   "file_extension": ".r",
   "mimetype": "text/x-r-source",
   "name": "R",
   "pygments_lexer": "r",
   "version": "3.6.1"
  }
 },
 "nbformat": 4,
 "nbformat_minor": 2
}

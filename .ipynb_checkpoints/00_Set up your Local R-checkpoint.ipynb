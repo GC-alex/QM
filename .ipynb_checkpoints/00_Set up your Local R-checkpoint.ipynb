{
 "cells": [
  {
   "cell_type": "markdown",
   "metadata": {},
   "source": [
    "## 00 Set up your local R !\n",
    "\n",
    "*In case you don't like to work with Mybinder and Juypter Notebook, you can also set up R on your local computer. It will be less intuitive but don't worry it is a lot of fun once you get to it!*\n",
    "\n",
    "\n",
    "At first you need to install R. Just follow the instructions on the official [R Website](https://cran.r-project.org/) So far this is only our **programming language** but to make our new life as a programmer more easy, we also use **R-Studio**. This is a userfriendly environment where we can work with R. Please, again follow the instructions on the official [R-Studio Website](https://rstudio.com/).\n",
    "\n",
    "If you open your R-Studio, it should now look similiar to this:\n",
    "![rstudio_view_numbers.jpg](https://raw.githubusercontent.com/GC-alex/QM/master/figs/rstudio_view_numbers.jpg)\n",
    "\n",
    "**(1)** This is our Console. Here we can enter one command at a time and R will imediately run this command.\n",
    "\n",
    "**(2)** Here we have our main working space - we can write many lines of code here. instead of only writing one command at a time, here  we can write full scripts and run those with the \"Run\" Button in the upper right corner of this window. (If you can't see this window: Just open a \"New File\" in the upper left corner)\n",
    "\n",
    "**(3)** Our most important tab in this window, is the \"Environment\"-Tab. All our variables, data, inputs and outputs that we define are listed here. If you want to have a closer look at your variable - simply do a doubleclick on it and it will open.\n",
    "\n",
    "**(4)** Here we have our directories - files that we use, plots that we produced, packages that we installed and our super important R-Help-Tools are here.\n",
    "\n",
    "\n",
    "### Libraries and Packages\n",
    "\n",
    "In tutorial 04 you will encounter packages and libraries. In the Juyper Notebook Version it is sufficient to load the library with the `library()` command in either the beginning of your script or in the console. But on your local-R you need to make sure to install the package first.\n",
    "\n",
    "Use the `install.packages` command for this.\n",
    "RSTudio will then download the package from [CRAN](https://cran.r-project.org/])\n",
    "\n",
    "> **Note** You just need to insatll the package once! No need to install it everytime again, when working on a project. (Only Load it again, if you want to use it)\n",
    "\n"
   ]
  },
  {
   "cell_type": "code",
   "execution_count": null,
   "metadata": {},
   "outputs": [],
   "source": []
  }
 ],
 "metadata": {
  "kernelspec": {
   "display_name": "R",
   "language": "R",
   "name": "ir"
  },
  "language_info": {
   "codemirror_mode": "r",
   "file_extension": ".r",
   "mimetype": "text/x-r-source",
   "name": "R",
   "pygments_lexer": "r",
   "version": "3.6.1"
  }
 },
 "nbformat": 4,
 "nbformat_minor": 2
}

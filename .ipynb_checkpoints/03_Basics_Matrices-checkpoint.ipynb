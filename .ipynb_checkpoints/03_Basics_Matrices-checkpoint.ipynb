{
 "cells": [
  {
   "cell_type": "markdown",
   "metadata": {},
   "source": [
    "# 03 Basics: Matrices and Data frames\n",
    "\n",
    "* Matrices\n",
    "* Data frame\n",
    "* Data Manipulation\n",
    "\n",
    "---\n",
    "\n",
    "Welcome to session 03 of our program. \n",
    "This time, we want to start with matrices, data frames and their data management. Most data you will encounter will be stored in somesort of matrix, which are often your base for your future data analyse.\n",
    "A good structured and clear data is always the base for a good research.\n",
    "Let's dig right into it!\n",
    "\n",
    "![](https://raw.githubusercontent.com/GC-alex/QM/master/figs/header_sized_small.jpg)\n",
    "\n",
    "\n",
    "## Matrices \n",
    "A `matrix` is a two-dimensional Array. Therefore we have two additional attributes specifying the 2 dimensions: `nrow` und `ncol`.\n",
    "\n",
    "Create a matrix with the following statement:\n",
    "`m <- matrix(1:9, nrow = 3, ncol = 3)`\n",
    "And take a first look at our `matrix` with the following:\n",
    "`dim(m)`, `nrow(m)`, `ncol(m)`\n",
    "\n",
    "Create a second matrix called `n` as you like.\n",
    "\n",
    "---\n",
    "**Note**\n",
    "\n",
    "* *Do you want to fill your matrix not by columns but by rows, add the `, byrow = TRUE` in the description of your matrix. (within the brackets!)*\n",
    "* *Don't forget to type the name of your variable to actually see it!*\n",
    "\n",
    "---"
   ]
  },
  {
   "cell_type": "code",
   "execution_count": 5,
   "metadata": {},
   "outputs": [
    {
     "data": {
      "text/html": [
       "<table>\n",
       "<caption>A matrix: 3 × 3 of type int</caption>\n",
       "<tbody>\n",
       "\t<tr><td>1</td><td>4</td><td>7</td></tr>\n",
       "\t<tr><td>2</td><td>5</td><td>8</td></tr>\n",
       "\t<tr><td>3</td><td>6</td><td>9</td></tr>\n",
       "</tbody>\n",
       "</table>\n"
      ],
      "text/latex": [
       "A matrix: 3 × 3 of type int\n",
       "\\begin{tabular}{lll}\n",
       "\t 1 & 4 & 7\\\\\n",
       "\t 2 & 5 & 8\\\\\n",
       "\t 3 & 6 & 9\\\\\n",
       "\\end{tabular}\n"
      ],
      "text/markdown": [
       "\n",
       "A matrix: 3 × 3 of type int\n",
       "\n",
       "| 1 | 4 | 7 |\n",
       "| 2 | 5 | 8 |\n",
       "| 3 | 6 | 9 |\n",
       "\n"
      ],
      "text/plain": [
       "     [,1] [,2] [,3]\n",
       "[1,] 1    4    7   \n",
       "[2,] 2    5    8   \n",
       "[3,] 3    6    9   "
      ]
     },
     "metadata": {},
     "output_type": "display_data"
    }
   ],
   "source": [
    "m <- matrix(1:9, nrow = 3, ncol = 3)\n",
    "m"
   ]
  },
  {
   "cell_type": "markdown",
   "metadata": {},
   "source": [
    "\n",
    "Just as vectors in session 02 you can use calculations on your matrices.\n",
    "Try the following and take a look closer look at it's behaviour.\n",
    "\n",
    "`m * 2`\n",
    "\n",
    "`m * n` (`n`is our second matrix) \n",
    "\n",
    "`cbind(m,n)`"
   ]
  },
  {
   "cell_type": "code",
   "execution_count": null,
   "metadata": {},
   "outputs": [],
   "source": []
  },
  {
   "cell_type": "markdown",
   "metadata": {},
   "source": [
    "Check out how to access certain variables in our `matrix` !\n",
    "How do you get the value in the **second row** of the  **first column**?\n",
    "\n",
    "---\n",
    "**Hint:** *In vectors we accessed values this way: `v[1]` Now you have two dimensions to specify your value.*\n",
    "\n",
    "---"
   ]
  },
  {
   "cell_type": "code",
   "execution_count": null,
   "metadata": {},
   "outputs": [],
   "source": []
  },
  {
   "cell_type": "markdown",
   "metadata": {},
   "source": [
    "Do you remember the vector classes we discovered in session 02? Check the **type** and **class** of our Matrix `m`!\n",
    "\n",
    "---\n",
    "**Note:** *JupyterNotebook already prints the **type** of your matrix values when printing the matrix!*\n",
    "\n",
    "---"
   ]
  },
  {
   "cell_type": "code",
   "execution_count": 3,
   "metadata": {},
   "outputs": [
    {
     "data": {
      "text/html": [
       "'matrix'"
      ],
      "text/latex": [
       "'matrix'"
      ],
      "text/markdown": [
       "'matrix'"
      ],
      "text/plain": [
       "[1] \"matrix\""
      ]
     },
     "metadata": {},
     "output_type": "display_data"
    },
    {
     "data": {
      "text/html": [
       "'integer'"
      ],
      "text/latex": [
       "'integer'"
      ],
      "text/markdown": [
       "'integer'"
      ],
      "text/plain": [
       "[1] \"integer\""
      ]
     },
     "metadata": {},
     "output_type": "display_data"
    }
   ],
   "source": [
    "class(m)\n",
    "typeof(m)"
   ]
  },
  {
   "cell_type": "markdown",
   "metadata": {},
   "source": [
    "Create a new **vector** called `x` that with the value \"Hello\" and now `cbind` our matrix `m` to `x`. What happens if you check for its **type**?"
   ]
  },
  {
   "cell_type": "code",
   "execution_count": null,
   "metadata": {},
   "outputs": [],
   "source": []
  },
  {
   "cell_type": "markdown",
   "metadata": {},
   "source": [
    "---\n",
    "**Note:** *You know that the matrix should contain integer values AND character values. Instead you only get `character` as a response to the `typeof()`function - right? If you combine more types, always the \"weakest\" gets used as output in the end. In this case it is `character` - please keep this in mind, when analyzing your data!* \n",
    "\n",
    "---"
   ]
  },
  {
   "cell_type": "code",
   "execution_count": null,
   "metadata": {},
   "outputs": [],
   "source": []
  },
  {
   "cell_type": "markdown",
   "metadata": {},
   "source": []
  },
  {
   "cell_type": "markdown",
   "metadata": {},
   "source": [
    "## Data frames\n",
    "\n",
    "So now we did a little recap with the help of matrices. Now we want to introduce another important feature of how to store values: data frames.\n",
    "\n",
    "Data frames are propably your most important tool to storing your data in R. \n",
    "But what is the difference compared to a Matrix?\n",
    "\n",
    "Let's use our data from **session 01**: `airquality`. Use the function `as.data.frame` on the data `airquality`and store it in a variable called `data`."
   ]
  },
  {
   "cell_type": "code",
   "execution_count": 32,
   "metadata": {},
   "outputs": [
    {
     "data": {
      "text/html": [
       "<table>\n",
       "<caption>A data.frame: 153 × 6</caption>\n",
       "<thead>\n",
       "\t<tr><th scope=col>Ozone</th><th scope=col>Solar.R</th><th scope=col>Wind</th><th scope=col>Temp</th><th scope=col>Month</th><th scope=col>Day</th></tr>\n",
       "\t<tr><th scope=col>&lt;int&gt;</th><th scope=col>&lt;int&gt;</th><th scope=col>&lt;dbl&gt;</th><th scope=col>&lt;int&gt;</th><th scope=col>&lt;int&gt;</th><th scope=col>&lt;int&gt;</th></tr>\n",
       "</thead>\n",
       "<tbody>\n",
       "\t<tr><td> 41</td><td>190</td><td> 7.4</td><td>67</td><td>5</td><td> 1</td></tr>\n",
       "\t<tr><td> 36</td><td>118</td><td> 8.0</td><td>72</td><td>5</td><td> 2</td></tr>\n",
       "\t<tr><td> 12</td><td>149</td><td>12.6</td><td>74</td><td>5</td><td> 3</td></tr>\n",
       "\t<tr><td> 18</td><td>313</td><td>11.5</td><td>62</td><td>5</td><td> 4</td></tr>\n",
       "\t<tr><td> NA</td><td> NA</td><td>14.3</td><td>56</td><td>5</td><td> 5</td></tr>\n",
       "\t<tr><td> 28</td><td> NA</td><td>14.9</td><td>66</td><td>5</td><td> 6</td></tr>\n",
       "\t<tr><td> 23</td><td>299</td><td> 8.6</td><td>65</td><td>5</td><td> 7</td></tr>\n",
       "\t<tr><td> 19</td><td> 99</td><td>13.8</td><td>59</td><td>5</td><td> 8</td></tr>\n",
       "\t<tr><td>  8</td><td> 19</td><td>20.1</td><td>61</td><td>5</td><td> 9</td></tr>\n",
       "\t<tr><td> NA</td><td>194</td><td> 8.6</td><td>69</td><td>5</td><td>10</td></tr>\n",
       "\t<tr><td>  7</td><td> NA</td><td> 6.9</td><td>74</td><td>5</td><td>11</td></tr>\n",
       "\t<tr><td> 16</td><td>256</td><td> 9.7</td><td>69</td><td>5</td><td>12</td></tr>\n",
       "\t<tr><td> 11</td><td>290</td><td> 9.2</td><td>66</td><td>5</td><td>13</td></tr>\n",
       "\t<tr><td> 14</td><td>274</td><td>10.9</td><td>68</td><td>5</td><td>14</td></tr>\n",
       "\t<tr><td> 18</td><td> 65</td><td>13.2</td><td>58</td><td>5</td><td>15</td></tr>\n",
       "\t<tr><td> 14</td><td>334</td><td>11.5</td><td>64</td><td>5</td><td>16</td></tr>\n",
       "\t<tr><td> 34</td><td>307</td><td>12.0</td><td>66</td><td>5</td><td>17</td></tr>\n",
       "\t<tr><td>  6</td><td> 78</td><td>18.4</td><td>57</td><td>5</td><td>18</td></tr>\n",
       "\t<tr><td> 30</td><td>322</td><td>11.5</td><td>68</td><td>5</td><td>19</td></tr>\n",
       "\t<tr><td> 11</td><td> 44</td><td> 9.7</td><td>62</td><td>5</td><td>20</td></tr>\n",
       "\t<tr><td>  1</td><td>  8</td><td> 9.7</td><td>59</td><td>5</td><td>21</td></tr>\n",
       "\t<tr><td> 11</td><td>320</td><td>16.6</td><td>73</td><td>5</td><td>22</td></tr>\n",
       "\t<tr><td>  4</td><td> 25</td><td> 9.7</td><td>61</td><td>5</td><td>23</td></tr>\n",
       "\t<tr><td> 32</td><td> 92</td><td>12.0</td><td>61</td><td>5</td><td>24</td></tr>\n",
       "\t<tr><td> NA</td><td> 66</td><td>16.6</td><td>57</td><td>5</td><td>25</td></tr>\n",
       "\t<tr><td> NA</td><td>266</td><td>14.9</td><td>58</td><td>5</td><td>26</td></tr>\n",
       "\t<tr><td> NA</td><td> NA</td><td> 8.0</td><td>57</td><td>5</td><td>27</td></tr>\n",
       "\t<tr><td> 23</td><td> 13</td><td>12.0</td><td>67</td><td>5</td><td>28</td></tr>\n",
       "\t<tr><td> 45</td><td>252</td><td>14.9</td><td>81</td><td>5</td><td>29</td></tr>\n",
       "\t<tr><td>115</td><td>223</td><td> 5.7</td><td>79</td><td>5</td><td>30</td></tr>\n",
       "\t<tr><td>...</td><td>...</td><td>...</td><td>...</td><td>...</td><td>...</td></tr>\n",
       "\t<tr><td>96</td><td>167</td><td> 6.9</td><td>91</td><td>9</td><td> 1</td></tr>\n",
       "\t<tr><td>78</td><td>197</td><td> 5.1</td><td>92</td><td>9</td><td> 2</td></tr>\n",
       "\t<tr><td>73</td><td>183</td><td> 2.8</td><td>93</td><td>9</td><td> 3</td></tr>\n",
       "\t<tr><td>91</td><td>189</td><td> 4.6</td><td>93</td><td>9</td><td> 4</td></tr>\n",
       "\t<tr><td>47</td><td> 95</td><td> 7.4</td><td>87</td><td>9</td><td> 5</td></tr>\n",
       "\t<tr><td>32</td><td> 92</td><td>15.5</td><td>84</td><td>9</td><td> 6</td></tr>\n",
       "\t<tr><td>20</td><td>252</td><td>10.9</td><td>80</td><td>9</td><td> 7</td></tr>\n",
       "\t<tr><td>23</td><td>220</td><td>10.3</td><td>78</td><td>9</td><td> 8</td></tr>\n",
       "\t<tr><td>21</td><td>230</td><td>10.9</td><td>75</td><td>9</td><td> 9</td></tr>\n",
       "\t<tr><td>24</td><td>259</td><td> 9.7</td><td>73</td><td>9</td><td>10</td></tr>\n",
       "\t<tr><td>44</td><td>236</td><td>14.9</td><td>81</td><td>9</td><td>11</td></tr>\n",
       "\t<tr><td>21</td><td>259</td><td>15.5</td><td>76</td><td>9</td><td>12</td></tr>\n",
       "\t<tr><td>28</td><td>238</td><td> 6.3</td><td>77</td><td>9</td><td>13</td></tr>\n",
       "\t<tr><td> 9</td><td> 24</td><td>10.9</td><td>71</td><td>9</td><td>14</td></tr>\n",
       "\t<tr><td>13</td><td>112</td><td>11.5</td><td>71</td><td>9</td><td>15</td></tr>\n",
       "\t<tr><td>46</td><td>237</td><td> 6.9</td><td>78</td><td>9</td><td>16</td></tr>\n",
       "\t<tr><td>18</td><td>224</td><td>13.8</td><td>67</td><td>9</td><td>17</td></tr>\n",
       "\t<tr><td>13</td><td> 27</td><td>10.3</td><td>76</td><td>9</td><td>18</td></tr>\n",
       "\t<tr><td>24</td><td>238</td><td>10.3</td><td>68</td><td>9</td><td>19</td></tr>\n",
       "\t<tr><td>16</td><td>201</td><td> 8.0</td><td>82</td><td>9</td><td>20</td></tr>\n",
       "\t<tr><td>13</td><td>238</td><td>12.6</td><td>64</td><td>9</td><td>21</td></tr>\n",
       "\t<tr><td>23</td><td> 14</td><td> 9.2</td><td>71</td><td>9</td><td>22</td></tr>\n",
       "\t<tr><td>36</td><td>139</td><td>10.3</td><td>81</td><td>9</td><td>23</td></tr>\n",
       "\t<tr><td> 7</td><td> 49</td><td>10.3</td><td>69</td><td>9</td><td>24</td></tr>\n",
       "\t<tr><td>14</td><td> 20</td><td>16.6</td><td>63</td><td>9</td><td>25</td></tr>\n",
       "\t<tr><td>30</td><td>193</td><td> 6.9</td><td>70</td><td>9</td><td>26</td></tr>\n",
       "\t<tr><td>NA</td><td>145</td><td>13.2</td><td>77</td><td>9</td><td>27</td></tr>\n",
       "\t<tr><td>14</td><td>191</td><td>14.3</td><td>75</td><td>9</td><td>28</td></tr>\n",
       "\t<tr><td>18</td><td>131</td><td> 8.0</td><td>76</td><td>9</td><td>29</td></tr>\n",
       "\t<tr><td>20</td><td>223</td><td>11.5</td><td>68</td><td>9</td><td>30</td></tr>\n",
       "</tbody>\n",
       "</table>\n"
      ],
      "text/latex": [
       "A data.frame: 153 × 6\n",
       "\\begin{tabular}{llllll}\n",
       " Ozone & Solar.R & Wind & Temp & Month & Day\\\\\n",
       " <int> & <int> & <dbl> & <int> & <int> & <int>\\\\\n",
       "\\hline\n",
       "\t  41 & 190 &  7.4 & 67 & 5 &  1\\\\\n",
       "\t  36 & 118 &  8.0 & 72 & 5 &  2\\\\\n",
       "\t  12 & 149 & 12.6 & 74 & 5 &  3\\\\\n",
       "\t  18 & 313 & 11.5 & 62 & 5 &  4\\\\\n",
       "\t  NA &  NA & 14.3 & 56 & 5 &  5\\\\\n",
       "\t  28 &  NA & 14.9 & 66 & 5 &  6\\\\\n",
       "\t  23 & 299 &  8.6 & 65 & 5 &  7\\\\\n",
       "\t  19 &  99 & 13.8 & 59 & 5 &  8\\\\\n",
       "\t   8 &  19 & 20.1 & 61 & 5 &  9\\\\\n",
       "\t  NA & 194 &  8.6 & 69 & 5 & 10\\\\\n",
       "\t   7 &  NA &  6.9 & 74 & 5 & 11\\\\\n",
       "\t  16 & 256 &  9.7 & 69 & 5 & 12\\\\\n",
       "\t  11 & 290 &  9.2 & 66 & 5 & 13\\\\\n",
       "\t  14 & 274 & 10.9 & 68 & 5 & 14\\\\\n",
       "\t  18 &  65 & 13.2 & 58 & 5 & 15\\\\\n",
       "\t  14 & 334 & 11.5 & 64 & 5 & 16\\\\\n",
       "\t  34 & 307 & 12.0 & 66 & 5 & 17\\\\\n",
       "\t   6 &  78 & 18.4 & 57 & 5 & 18\\\\\n",
       "\t  30 & 322 & 11.5 & 68 & 5 & 19\\\\\n",
       "\t  11 &  44 &  9.7 & 62 & 5 & 20\\\\\n",
       "\t   1 &   8 &  9.7 & 59 & 5 & 21\\\\\n",
       "\t  11 & 320 & 16.6 & 73 & 5 & 22\\\\\n",
       "\t   4 &  25 &  9.7 & 61 & 5 & 23\\\\\n",
       "\t  32 &  92 & 12.0 & 61 & 5 & 24\\\\\n",
       "\t  NA &  66 & 16.6 & 57 & 5 & 25\\\\\n",
       "\t  NA & 266 & 14.9 & 58 & 5 & 26\\\\\n",
       "\t  NA &  NA &  8.0 & 57 & 5 & 27\\\\\n",
       "\t  23 &  13 & 12.0 & 67 & 5 & 28\\\\\n",
       "\t  45 & 252 & 14.9 & 81 & 5 & 29\\\\\n",
       "\t 115 & 223 &  5.7 & 79 & 5 & 30\\\\\n",
       "\t ... & ... & ... & ... & ... & ...\\\\\n",
       "\t 96 & 167 &  6.9 & 91 & 9 &  1\\\\\n",
       "\t 78 & 197 &  5.1 & 92 & 9 &  2\\\\\n",
       "\t 73 & 183 &  2.8 & 93 & 9 &  3\\\\\n",
       "\t 91 & 189 &  4.6 & 93 & 9 &  4\\\\\n",
       "\t 47 &  95 &  7.4 & 87 & 9 &  5\\\\\n",
       "\t 32 &  92 & 15.5 & 84 & 9 &  6\\\\\n",
       "\t 20 & 252 & 10.9 & 80 & 9 &  7\\\\\n",
       "\t 23 & 220 & 10.3 & 78 & 9 &  8\\\\\n",
       "\t 21 & 230 & 10.9 & 75 & 9 &  9\\\\\n",
       "\t 24 & 259 &  9.7 & 73 & 9 & 10\\\\\n",
       "\t 44 & 236 & 14.9 & 81 & 9 & 11\\\\\n",
       "\t 21 & 259 & 15.5 & 76 & 9 & 12\\\\\n",
       "\t 28 & 238 &  6.3 & 77 & 9 & 13\\\\\n",
       "\t  9 &  24 & 10.9 & 71 & 9 & 14\\\\\n",
       "\t 13 & 112 & 11.5 & 71 & 9 & 15\\\\\n",
       "\t 46 & 237 &  6.9 & 78 & 9 & 16\\\\\n",
       "\t 18 & 224 & 13.8 & 67 & 9 & 17\\\\\n",
       "\t 13 &  27 & 10.3 & 76 & 9 & 18\\\\\n",
       "\t 24 & 238 & 10.3 & 68 & 9 & 19\\\\\n",
       "\t 16 & 201 &  8.0 & 82 & 9 & 20\\\\\n",
       "\t 13 & 238 & 12.6 & 64 & 9 & 21\\\\\n",
       "\t 23 &  14 &  9.2 & 71 & 9 & 22\\\\\n",
       "\t 36 & 139 & 10.3 & 81 & 9 & 23\\\\\n",
       "\t  7 &  49 & 10.3 & 69 & 9 & 24\\\\\n",
       "\t 14 &  20 & 16.6 & 63 & 9 & 25\\\\\n",
       "\t 30 & 193 &  6.9 & 70 & 9 & 26\\\\\n",
       "\t NA & 145 & 13.2 & 77 & 9 & 27\\\\\n",
       "\t 14 & 191 & 14.3 & 75 & 9 & 28\\\\\n",
       "\t 18 & 131 &  8.0 & 76 & 9 & 29\\\\\n",
       "\t 20 & 223 & 11.5 & 68 & 9 & 30\\\\\n",
       "\\end{tabular}\n"
      ],
      "text/markdown": [
       "\n",
       "A data.frame: 153 × 6\n",
       "\n",
       "| Ozone &lt;int&gt; | Solar.R &lt;int&gt; | Wind &lt;dbl&gt; | Temp &lt;int&gt; | Month &lt;int&gt; | Day &lt;int&gt; |\n",
       "|---|---|---|---|---|---|\n",
       "|  41 | 190 |  7.4 | 67 | 5 |  1 |\n",
       "|  36 | 118 |  8.0 | 72 | 5 |  2 |\n",
       "|  12 | 149 | 12.6 | 74 | 5 |  3 |\n",
       "|  18 | 313 | 11.5 | 62 | 5 |  4 |\n",
       "|  NA |  NA | 14.3 | 56 | 5 |  5 |\n",
       "|  28 |  NA | 14.9 | 66 | 5 |  6 |\n",
       "|  23 | 299 |  8.6 | 65 | 5 |  7 |\n",
       "|  19 |  99 | 13.8 | 59 | 5 |  8 |\n",
       "|   8 |  19 | 20.1 | 61 | 5 |  9 |\n",
       "|  NA | 194 |  8.6 | 69 | 5 | 10 |\n",
       "|   7 |  NA |  6.9 | 74 | 5 | 11 |\n",
       "|  16 | 256 |  9.7 | 69 | 5 | 12 |\n",
       "|  11 | 290 |  9.2 | 66 | 5 | 13 |\n",
       "|  14 | 274 | 10.9 | 68 | 5 | 14 |\n",
       "|  18 |  65 | 13.2 | 58 | 5 | 15 |\n",
       "|  14 | 334 | 11.5 | 64 | 5 | 16 |\n",
       "|  34 | 307 | 12.0 | 66 | 5 | 17 |\n",
       "|   6 |  78 | 18.4 | 57 | 5 | 18 |\n",
       "|  30 | 322 | 11.5 | 68 | 5 | 19 |\n",
       "|  11 |  44 |  9.7 | 62 | 5 | 20 |\n",
       "|   1 |   8 |  9.7 | 59 | 5 | 21 |\n",
       "|  11 | 320 | 16.6 | 73 | 5 | 22 |\n",
       "|   4 |  25 |  9.7 | 61 | 5 | 23 |\n",
       "|  32 |  92 | 12.0 | 61 | 5 | 24 |\n",
       "|  NA |  66 | 16.6 | 57 | 5 | 25 |\n",
       "|  NA | 266 | 14.9 | 58 | 5 | 26 |\n",
       "|  NA |  NA |  8.0 | 57 | 5 | 27 |\n",
       "|  23 |  13 | 12.0 | 67 | 5 | 28 |\n",
       "|  45 | 252 | 14.9 | 81 | 5 | 29 |\n",
       "| 115 | 223 |  5.7 | 79 | 5 | 30 |\n",
       "| ... | ... | ... | ... | ... | ... |\n",
       "| 96 | 167 |  6.9 | 91 | 9 |  1 |\n",
       "| 78 | 197 |  5.1 | 92 | 9 |  2 |\n",
       "| 73 | 183 |  2.8 | 93 | 9 |  3 |\n",
       "| 91 | 189 |  4.6 | 93 | 9 |  4 |\n",
       "| 47 |  95 |  7.4 | 87 | 9 |  5 |\n",
       "| 32 |  92 | 15.5 | 84 | 9 |  6 |\n",
       "| 20 | 252 | 10.9 | 80 | 9 |  7 |\n",
       "| 23 | 220 | 10.3 | 78 | 9 |  8 |\n",
       "| 21 | 230 | 10.9 | 75 | 9 |  9 |\n",
       "| 24 | 259 |  9.7 | 73 | 9 | 10 |\n",
       "| 44 | 236 | 14.9 | 81 | 9 | 11 |\n",
       "| 21 | 259 | 15.5 | 76 | 9 | 12 |\n",
       "| 28 | 238 |  6.3 | 77 | 9 | 13 |\n",
       "|  9 |  24 | 10.9 | 71 | 9 | 14 |\n",
       "| 13 | 112 | 11.5 | 71 | 9 | 15 |\n",
       "| 46 | 237 |  6.9 | 78 | 9 | 16 |\n",
       "| 18 | 224 | 13.8 | 67 | 9 | 17 |\n",
       "| 13 |  27 | 10.3 | 76 | 9 | 18 |\n",
       "| 24 | 238 | 10.3 | 68 | 9 | 19 |\n",
       "| 16 | 201 |  8.0 | 82 | 9 | 20 |\n",
       "| 13 | 238 | 12.6 | 64 | 9 | 21 |\n",
       "| 23 |  14 |  9.2 | 71 | 9 | 22 |\n",
       "| 36 | 139 | 10.3 | 81 | 9 | 23 |\n",
       "|  7 |  49 | 10.3 | 69 | 9 | 24 |\n",
       "| 14 |  20 | 16.6 | 63 | 9 | 25 |\n",
       "| 30 | 193 |  6.9 | 70 | 9 | 26 |\n",
       "| NA | 145 | 13.2 | 77 | 9 | 27 |\n",
       "| 14 | 191 | 14.3 | 75 | 9 | 28 |\n",
       "| 18 | 131 |  8.0 | 76 | 9 | 29 |\n",
       "| 20 | 223 | 11.5 | 68 | 9 | 30 |\n",
       "\n"
      ],
      "text/plain": [
       "    Ozone Solar.R Wind Temp Month Day\n",
       "1    41   190      7.4 67   5      1 \n",
       "2    36   118      8.0 72   5      2 \n",
       "3    12   149     12.6 74   5      3 \n",
       "4    18   313     11.5 62   5      4 \n",
       "5    NA    NA     14.3 56   5      5 \n",
       "6    28    NA     14.9 66   5      6 \n",
       "7    23   299      8.6 65   5      7 \n",
       "8    19    99     13.8 59   5      8 \n",
       "9     8    19     20.1 61   5      9 \n",
       "10   NA   194      8.6 69   5     10 \n",
       "11    7    NA      6.9 74   5     11 \n",
       "12   16   256      9.7 69   5     12 \n",
       "13   11   290      9.2 66   5     13 \n",
       "14   14   274     10.9 68   5     14 \n",
       "15   18    65     13.2 58   5     15 \n",
       "16   14   334     11.5 64   5     16 \n",
       "17   34   307     12.0 66   5     17 \n",
       "18    6    78     18.4 57   5     18 \n",
       "19   30   322     11.5 68   5     19 \n",
       "20   11    44      9.7 62   5     20 \n",
       "21    1     8      9.7 59   5     21 \n",
       "22   11   320     16.6 73   5     22 \n",
       "23    4    25      9.7 61   5     23 \n",
       "24   32    92     12.0 61   5     24 \n",
       "25   NA    66     16.6 57   5     25 \n",
       "26   NA   266     14.9 58   5     26 \n",
       "27   NA    NA      8.0 57   5     27 \n",
       "28   23    13     12.0 67   5     28 \n",
       "29   45   252     14.9 81   5     29 \n",
       "30  115   223      5.7 79   5     30 \n",
       "... ...   ...     ...  ...  ...   ...\n",
       "124 96    167      6.9 91   9      1 \n",
       "125 78    197      5.1 92   9      2 \n",
       "126 73    183      2.8 93   9      3 \n",
       "127 91    189      4.6 93   9      4 \n",
       "128 47     95      7.4 87   9      5 \n",
       "129 32     92     15.5 84   9      6 \n",
       "130 20    252     10.9 80   9      7 \n",
       "131 23    220     10.3 78   9      8 \n",
       "132 21    230     10.9 75   9      9 \n",
       "133 24    259      9.7 73   9     10 \n",
       "134 44    236     14.9 81   9     11 \n",
       "135 21    259     15.5 76   9     12 \n",
       "136 28    238      6.3 77   9     13 \n",
       "137  9     24     10.9 71   9     14 \n",
       "138 13    112     11.5 71   9     15 \n",
       "139 46    237      6.9 78   9     16 \n",
       "140 18    224     13.8 67   9     17 \n",
       "141 13     27     10.3 76   9     18 \n",
       "142 24    238     10.3 68   9     19 \n",
       "143 16    201      8.0 82   9     20 \n",
       "144 13    238     12.6 64   9     21 \n",
       "145 23     14      9.2 71   9     22 \n",
       "146 36    139     10.3 81   9     23 \n",
       "147  7     49     10.3 69   9     24 \n",
       "148 14     20     16.6 63   9     25 \n",
       "149 30    193      6.9 70   9     26 \n",
       "150 NA    145     13.2 77   9     27 \n",
       "151 14    191     14.3 75   9     28 \n",
       "152 18    131      8.0 76   9     29 \n",
       "153 20    223     11.5 68   9     30 "
      ]
     },
     "metadata": {},
     "output_type": "display_data"
    }
   ],
   "source": [
    "data <- as.data.frame(airquality)\n",
    "data"
   ]
  },
  {
   "cell_type": "markdown",
   "metadata": {},
   "source": [
    "Take a look at the types of your different values within the data frame. You can see, that they all have their own type. Regardless of the others. (`Wind` for example is stored in `double`. All the others are stored as `integer`) This is one of the major differences to metrices.\n",
    "\n",
    "\n",
    "Now if you look at the print of our `data` again, you may notice some strange `NA` values.\n",
    "When an element or value is “not available” or a “missing value” in the statistical sense, a place within a vector, data frame or matrix may be reserved for it by assigning it the special value `NA`. \n",
    "\n",
    "The `is.na()`function helps you determine, wether an element is `NA`or an actual value.\n",
    "With the help of the `na.omit()` function we can ignore rows in a data frame that contain `NA`s. Please use the functions on our `data` to have a look what happens!\n"
   ]
  },
  {
   "cell_type": "code",
   "execution_count": 45,
   "metadata": {},
   "outputs": [],
   "source": [
    "data <- na.omit(data)"
   ]
  },
  {
   "cell_type": "markdown",
   "metadata": {},
   "source": [
    "---\n",
    "**Note**\n",
    "*Why do we need to ignore our `Na`values?*\n",
    "\n",
    "* *All arithmetic functions and operations applied to `NA`s return `NA`.*\n",
    "\n",
    "---"
   ]
  },
  {
   "cell_type": "markdown",
   "metadata": {},
   "source": [
    "## Data Manipulation\n",
    "\n",
    "In case you actually want to start working with your data, we need to establish some basics how to address your different values correctly.\n",
    "\n",
    "We start with only adressing **row 10 to 110 of your data**. *Remember how to do it from your knowledge about matrices and vectors!*\n",
    "\n",
    "Store this subset in a new **variable** (choose a fitting name yourself!)\n",
    "\n",
    "Then print only **number of rows** from this new variable.\n"
   ]
  },
  {
   "cell_type": "code",
   "execution_count": 66,
   "metadata": {
    "scrolled": true
   },
   "outputs": [
    {
     "data": {
      "text/html": [
       "101"
      ],
      "text/latex": [
       "101"
      ],
      "text/markdown": [
       "101"
      ],
      "text/plain": [
       "[1] 101"
      ]
     },
     "metadata": {},
     "output_type": "display_data"
    }
   ],
   "source": [
    "airquality_zeile_10_100 <- data[10:110, ]\n",
    "nrow(airquality_zeile_10_100)\n"
   ]
  },
  {
   "cell_type": "markdown",
   "metadata": {},
   "source": [
    "---\n",
    "**Check** *If your result is 101, then you did it right!*\n",
    "\n",
    "---\n"
   ]
  },
  {
   "cell_type": "markdown",
   "metadata": {},
   "source": [
    "As you may remember from session 01, we can use the functions `head()` to get only the first rows of our data printed, often this is better than printing all your lines, especially with big datasets.\n",
    "Alternatively youc can use `names()` to extract only your column names.\n",
    "\n",
    "We want to adress only a certain column of our dataset. Use `$` to specify the column of our data.\n",
    "\n",
    "`data$Ozone`"
   ]
  },
  {
   "cell_type": "code",
   "execution_count": null,
   "metadata": {},
   "outputs": [],
   "source": []
  },
  {
   "cell_type": "markdown",
   "metadata": {},
   "source": [
    "What happens if you try this? \n",
    "`airquality[, c(\"Ozone\", \"Temp\")]`"
   ]
  },
  {
   "cell_type": "code",
   "execution_count": null,
   "metadata": {},
   "outputs": [],
   "source": []
  },
  {
   "cell_type": "markdown",
   "metadata": {},
   "source": [
    "You can also subset your data. Try this:\n",
    "\n",
    "`airquality[airquality$Temp > 70, ]`\n",
    "\n",
    "Assign the subset to a new **variable** and then print the **number of rows** again!\n"
   ]
  },
  {
   "cell_type": "code",
   "execution_count": 48,
   "metadata": {},
   "outputs": [
    {
     "data": {
      "text/html": [
       "85"
      ],
      "text/latex": [
       "85"
      ],
      "text/markdown": [
       "85"
      ],
      "text/plain": [
       "[1] 85"
      ]
     },
     "metadata": {},
     "output_type": "display_data"
    }
   ],
   "source": [
    "airquality_temp_gr_70 <- data[data$Temp > 70, ]\n",
    "nrow(airquality_temp_gr_70)"
   ]
  },
  {
   "cell_type": "markdown",
   "metadata": {},
   "source": [
    "---\n",
    "**Check** *If your result is 85, then you did it right!*\n",
    "\n",
    "---\n",
    "\n",
    "How about we try this:\n",
    "\n",
    "`airquality_june_13 <- data[data$Month == 6 & data$Day == 13, ]`\n",
    "\n",
    "You can see, that we can make more complex subsets with logical operators.\n",
    "\n",
    "Try to create a subset of the **Ozone** values from the **16th of June**.\n",
    "\n"
   ]
  },
  {
   "cell_type": "code",
   "execution_count": 65,
   "metadata": {},
   "outputs": [
    {
     "data": {
      "text/html": [
       "21"
      ],
      "text/latex": [
       "21"
      ],
      "text/markdown": [
       "21"
      ],
      "text/plain": [
       "[1] 21"
      ]
     },
     "metadata": {},
     "output_type": "display_data"
    }
   ],
   "source": [
    "data[data$Month == 6 & data$Day == 16, \"Ozone\"]"
   ]
  },
  {
   "cell_type": "markdown",
   "metadata": {},
   "source": [
    "---\n",
    "**Check** *Your result should be 21!*\n",
    "\n",
    "---"
   ]
  },
  {
   "cell_type": "markdown",
   "metadata": {},
   "source": [
    "With ` x %in% y` you can compare two vectors. For each element in vector `x`, `%in%` evaluates if the element is contained in vector `y`.\n",
    "Try:\n",
    "\n",
    "`data[data$Month %in% c(6, 7), ]`\n",
    "\n",
    "In this case it is the same as `data[data$Month == 6 | data$Month == 7, ]`\n",
    "\n",
    "Often you can accomplish the same goals in different ways! So don't worry if your way sometimes looks different, than the one of someone else. You will find your style of coding with practice!"
   ]
  },
  {
   "cell_type": "code",
   "execution_count": null,
   "metadata": {},
   "outputs": [],
   "source": []
  },
  {
   "cell_type": "markdown",
   "metadata": {},
   "source": [
    "Of course we can also do calculations on our values in our columns. Try to calculate the `log()` of our `Ozone`.\n"
   ]
  },
  {
   "cell_type": "code",
   "execution_count": null,
   "metadata": {},
   "outputs": [],
   "source": []
  },
  {
   "cell_type": "markdown",
   "metadata": {},
   "source": [
    "Great we have now log transformed data but we want to store it in our data frame `data`.\n",
    "Simply make use of the `$` operator.\n",
    "\n",
    "`data$log_Ozone <- log(data$Ozone)`\n",
    "\n",
    "This should add a new column to your data frame! Check it out!"
   ]
  },
  {
   "cell_type": "code",
   "execution_count": 78,
   "metadata": {},
   "outputs": [
    {
     "data": {
      "text/html": [
       "<table>\n",
       "<caption>A data.frame: 111 × 7</caption>\n",
       "<thead>\n",
       "\t<tr><th></th><th scope=col>Ozone</th><th scope=col>Solar.R</th><th scope=col>Wind</th><th scope=col>Temp</th><th scope=col>Month</th><th scope=col>Day</th><th scope=col>log_Ozone</th></tr>\n",
       "\t<tr><th></th><th scope=col>&lt;int&gt;</th><th scope=col>&lt;int&gt;</th><th scope=col>&lt;dbl&gt;</th><th scope=col>&lt;int&gt;</th><th scope=col>&lt;int&gt;</th><th scope=col>&lt;int&gt;</th><th scope=col>&lt;dbl&gt;</th></tr>\n",
       "</thead>\n",
       "<tbody>\n",
       "\t<tr><th scope=row>1</th><td> 41</td><td>190</td><td> 7.4</td><td>67</td><td>5</td><td> 1</td><td>3.713572</td></tr>\n",
       "\t<tr><th scope=row>2</th><td> 36</td><td>118</td><td> 8.0</td><td>72</td><td>5</td><td> 2</td><td>3.583519</td></tr>\n",
       "\t<tr><th scope=row>3</th><td> 12</td><td>149</td><td>12.6</td><td>74</td><td>5</td><td> 3</td><td>2.484907</td></tr>\n",
       "\t<tr><th scope=row>4</th><td> 18</td><td>313</td><td>11.5</td><td>62</td><td>5</td><td> 4</td><td>2.890372</td></tr>\n",
       "\t<tr><th scope=row>7</th><td> 23</td><td>299</td><td> 8.6</td><td>65</td><td>5</td><td> 7</td><td>3.135494</td></tr>\n",
       "\t<tr><th scope=row>8</th><td> 19</td><td> 99</td><td>13.8</td><td>59</td><td>5</td><td> 8</td><td>2.944439</td></tr>\n",
       "\t<tr><th scope=row>9</th><td>  8</td><td> 19</td><td>20.1</td><td>61</td><td>5</td><td> 9</td><td>2.079442</td></tr>\n",
       "\t<tr><th scope=row>12</th><td> 16</td><td>256</td><td> 9.7</td><td>69</td><td>5</td><td>12</td><td>2.772589</td></tr>\n",
       "\t<tr><th scope=row>13</th><td> 11</td><td>290</td><td> 9.2</td><td>66</td><td>5</td><td>13</td><td>2.397895</td></tr>\n",
       "\t<tr><th scope=row>14</th><td> 14</td><td>274</td><td>10.9</td><td>68</td><td>5</td><td>14</td><td>2.639057</td></tr>\n",
       "\t<tr><th scope=row>15</th><td> 18</td><td> 65</td><td>13.2</td><td>58</td><td>5</td><td>15</td><td>2.890372</td></tr>\n",
       "\t<tr><th scope=row>16</th><td> 14</td><td>334</td><td>11.5</td><td>64</td><td>5</td><td>16</td><td>2.639057</td></tr>\n",
       "\t<tr><th scope=row>17</th><td> 34</td><td>307</td><td>12.0</td><td>66</td><td>5</td><td>17</td><td>3.526361</td></tr>\n",
       "\t<tr><th scope=row>18</th><td>  6</td><td> 78</td><td>18.4</td><td>57</td><td>5</td><td>18</td><td>1.791759</td></tr>\n",
       "\t<tr><th scope=row>19</th><td> 30</td><td>322</td><td>11.5</td><td>68</td><td>5</td><td>19</td><td>3.401197</td></tr>\n",
       "\t<tr><th scope=row>20</th><td> 11</td><td> 44</td><td> 9.7</td><td>62</td><td>5</td><td>20</td><td>2.397895</td></tr>\n",
       "\t<tr><th scope=row>21</th><td>  1</td><td>  8</td><td> 9.7</td><td>59</td><td>5</td><td>21</td><td>0.000000</td></tr>\n",
       "\t<tr><th scope=row>22</th><td> 11</td><td>320</td><td>16.6</td><td>73</td><td>5</td><td>22</td><td>2.397895</td></tr>\n",
       "\t<tr><th scope=row>23</th><td>  4</td><td> 25</td><td> 9.7</td><td>61</td><td>5</td><td>23</td><td>1.386294</td></tr>\n",
       "\t<tr><th scope=row>24</th><td> 32</td><td> 92</td><td>12.0</td><td>61</td><td>5</td><td>24</td><td>3.465736</td></tr>\n",
       "\t<tr><th scope=row>28</th><td> 23</td><td> 13</td><td>12.0</td><td>67</td><td>5</td><td>28</td><td>3.135494</td></tr>\n",
       "\t<tr><th scope=row>29</th><td> 45</td><td>252</td><td>14.9</td><td>81</td><td>5</td><td>29</td><td>3.806662</td></tr>\n",
       "\t<tr><th scope=row>30</th><td>115</td><td>223</td><td> 5.7</td><td>79</td><td>5</td><td>30</td><td>4.744932</td></tr>\n",
       "\t<tr><th scope=row>31</th><td> 37</td><td>279</td><td> 7.4</td><td>76</td><td>5</td><td>31</td><td>3.610918</td></tr>\n",
       "\t<tr><th scope=row>38</th><td> 29</td><td>127</td><td> 9.7</td><td>82</td><td>6</td><td> 7</td><td>3.367296</td></tr>\n",
       "\t<tr><th scope=row>40</th><td> 71</td><td>291</td><td>13.8</td><td>90</td><td>6</td><td> 9</td><td>4.262680</td></tr>\n",
       "\t<tr><th scope=row>41</th><td> 39</td><td>323</td><td>11.5</td><td>87</td><td>6</td><td>10</td><td>3.663562</td></tr>\n",
       "\t<tr><th scope=row>44</th><td> 23</td><td>148</td><td> 8.0</td><td>82</td><td>6</td><td>13</td><td>3.135494</td></tr>\n",
       "\t<tr><th scope=row>47</th><td> 21</td><td>191</td><td>14.9</td><td>77</td><td>6</td><td>16</td><td>3.044522</td></tr>\n",
       "\t<tr><th scope=row>48</th><td> 37</td><td>284</td><td>20.7</td><td>72</td><td>6</td><td>17</td><td>3.610918</td></tr>\n",
       "\t<tr><th scope=row>...</th><td>...</td><td>...</td><td>...</td><td>...</td><td>...</td><td>...</td><td>...</td></tr>\n",
       "\t<tr><th scope=row>123</th><td>85</td><td>188</td><td> 6.3</td><td>94</td><td>8</td><td>31</td><td>4.442651</td></tr>\n",
       "\t<tr><th scope=row>124</th><td>96</td><td>167</td><td> 6.9</td><td>91</td><td>9</td><td> 1</td><td>4.564348</td></tr>\n",
       "\t<tr><th scope=row>125</th><td>78</td><td>197</td><td> 5.1</td><td>92</td><td>9</td><td> 2</td><td>4.356709</td></tr>\n",
       "\t<tr><th scope=row>126</th><td>73</td><td>183</td><td> 2.8</td><td>93</td><td>9</td><td> 3</td><td>4.290459</td></tr>\n",
       "\t<tr><th scope=row>127</th><td>91</td><td>189</td><td> 4.6</td><td>93</td><td>9</td><td> 4</td><td>4.510860</td></tr>\n",
       "\t<tr><th scope=row>128</th><td>47</td><td> 95</td><td> 7.4</td><td>87</td><td>9</td><td> 5</td><td>3.850148</td></tr>\n",
       "\t<tr><th scope=row>129</th><td>32</td><td> 92</td><td>15.5</td><td>84</td><td>9</td><td> 6</td><td>3.465736</td></tr>\n",
       "\t<tr><th scope=row>130</th><td>20</td><td>252</td><td>10.9</td><td>80</td><td>9</td><td> 7</td><td>2.995732</td></tr>\n",
       "\t<tr><th scope=row>131</th><td>23</td><td>220</td><td>10.3</td><td>78</td><td>9</td><td> 8</td><td>3.135494</td></tr>\n",
       "\t<tr><th scope=row>132</th><td>21</td><td>230</td><td>10.9</td><td>75</td><td>9</td><td> 9</td><td>3.044522</td></tr>\n",
       "\t<tr><th scope=row>133</th><td>24</td><td>259</td><td> 9.7</td><td>73</td><td>9</td><td>10</td><td>3.178054</td></tr>\n",
       "\t<tr><th scope=row>134</th><td>44</td><td>236</td><td>14.9</td><td>81</td><td>9</td><td>11</td><td>3.784190</td></tr>\n",
       "\t<tr><th scope=row>135</th><td>21</td><td>259</td><td>15.5</td><td>76</td><td>9</td><td>12</td><td>3.044522</td></tr>\n",
       "\t<tr><th scope=row>136</th><td>28</td><td>238</td><td> 6.3</td><td>77</td><td>9</td><td>13</td><td>3.332205</td></tr>\n",
       "\t<tr><th scope=row>137</th><td> 9</td><td> 24</td><td>10.9</td><td>71</td><td>9</td><td>14</td><td>2.197225</td></tr>\n",
       "\t<tr><th scope=row>138</th><td>13</td><td>112</td><td>11.5</td><td>71</td><td>9</td><td>15</td><td>2.564949</td></tr>\n",
       "\t<tr><th scope=row>139</th><td>46</td><td>237</td><td> 6.9</td><td>78</td><td>9</td><td>16</td><td>3.828641</td></tr>\n",
       "\t<tr><th scope=row>140</th><td>18</td><td>224</td><td>13.8</td><td>67</td><td>9</td><td>17</td><td>2.890372</td></tr>\n",
       "\t<tr><th scope=row>141</th><td>13</td><td> 27</td><td>10.3</td><td>76</td><td>9</td><td>18</td><td>2.564949</td></tr>\n",
       "\t<tr><th scope=row>142</th><td>24</td><td>238</td><td>10.3</td><td>68</td><td>9</td><td>19</td><td>3.178054</td></tr>\n",
       "\t<tr><th scope=row>143</th><td>16</td><td>201</td><td> 8.0</td><td>82</td><td>9</td><td>20</td><td>2.772589</td></tr>\n",
       "\t<tr><th scope=row>144</th><td>13</td><td>238</td><td>12.6</td><td>64</td><td>9</td><td>21</td><td>2.564949</td></tr>\n",
       "\t<tr><th scope=row>145</th><td>23</td><td> 14</td><td> 9.2</td><td>71</td><td>9</td><td>22</td><td>3.135494</td></tr>\n",
       "\t<tr><th scope=row>146</th><td>36</td><td>139</td><td>10.3</td><td>81</td><td>9</td><td>23</td><td>3.583519</td></tr>\n",
       "\t<tr><th scope=row>147</th><td> 7</td><td> 49</td><td>10.3</td><td>69</td><td>9</td><td>24</td><td>1.945910</td></tr>\n",
       "\t<tr><th scope=row>148</th><td>14</td><td> 20</td><td>16.6</td><td>63</td><td>9</td><td>25</td><td>2.639057</td></tr>\n",
       "\t<tr><th scope=row>149</th><td>30</td><td>193</td><td> 6.9</td><td>70</td><td>9</td><td>26</td><td>3.401197</td></tr>\n",
       "\t<tr><th scope=row>151</th><td>14</td><td>191</td><td>14.3</td><td>75</td><td>9</td><td>28</td><td>2.639057</td></tr>\n",
       "\t<tr><th scope=row>152</th><td>18</td><td>131</td><td> 8.0</td><td>76</td><td>9</td><td>29</td><td>2.890372</td></tr>\n",
       "\t<tr><th scope=row>153</th><td>20</td><td>223</td><td>11.5</td><td>68</td><td>9</td><td>30</td><td>2.995732</td></tr>\n",
       "</tbody>\n",
       "</table>\n"
      ],
      "text/latex": [
       "A data.frame: 111 × 7\n",
       "\\begin{tabular}{r|lllllll}\n",
       "  & Ozone & Solar.R & Wind & Temp & Month & Day & log\\_Ozone\\\\\n",
       "  & <int> & <int> & <dbl> & <int> & <int> & <int> & <dbl>\\\\\n",
       "\\hline\n",
       "\t1 &  41 & 190 &  7.4 & 67 & 5 &  1 & 3.713572\\\\\n",
       "\t2 &  36 & 118 &  8.0 & 72 & 5 &  2 & 3.583519\\\\\n",
       "\t3 &  12 & 149 & 12.6 & 74 & 5 &  3 & 2.484907\\\\\n",
       "\t4 &  18 & 313 & 11.5 & 62 & 5 &  4 & 2.890372\\\\\n",
       "\t7 &  23 & 299 &  8.6 & 65 & 5 &  7 & 3.135494\\\\\n",
       "\t8 &  19 &  99 & 13.8 & 59 & 5 &  8 & 2.944439\\\\\n",
       "\t9 &   8 &  19 & 20.1 & 61 & 5 &  9 & 2.079442\\\\\n",
       "\t12 &  16 & 256 &  9.7 & 69 & 5 & 12 & 2.772589\\\\\n",
       "\t13 &  11 & 290 &  9.2 & 66 & 5 & 13 & 2.397895\\\\\n",
       "\t14 &  14 & 274 & 10.9 & 68 & 5 & 14 & 2.639057\\\\\n",
       "\t15 &  18 &  65 & 13.2 & 58 & 5 & 15 & 2.890372\\\\\n",
       "\t16 &  14 & 334 & 11.5 & 64 & 5 & 16 & 2.639057\\\\\n",
       "\t17 &  34 & 307 & 12.0 & 66 & 5 & 17 & 3.526361\\\\\n",
       "\t18 &   6 &  78 & 18.4 & 57 & 5 & 18 & 1.791759\\\\\n",
       "\t19 &  30 & 322 & 11.5 & 68 & 5 & 19 & 3.401197\\\\\n",
       "\t20 &  11 &  44 &  9.7 & 62 & 5 & 20 & 2.397895\\\\\n",
       "\t21 &   1 &   8 &  9.7 & 59 & 5 & 21 & 0.000000\\\\\n",
       "\t22 &  11 & 320 & 16.6 & 73 & 5 & 22 & 2.397895\\\\\n",
       "\t23 &   4 &  25 &  9.7 & 61 & 5 & 23 & 1.386294\\\\\n",
       "\t24 &  32 &  92 & 12.0 & 61 & 5 & 24 & 3.465736\\\\\n",
       "\t28 &  23 &  13 & 12.0 & 67 & 5 & 28 & 3.135494\\\\\n",
       "\t29 &  45 & 252 & 14.9 & 81 & 5 & 29 & 3.806662\\\\\n",
       "\t30 & 115 & 223 &  5.7 & 79 & 5 & 30 & 4.744932\\\\\n",
       "\t31 &  37 & 279 &  7.4 & 76 & 5 & 31 & 3.610918\\\\\n",
       "\t38 &  29 & 127 &  9.7 & 82 & 6 &  7 & 3.367296\\\\\n",
       "\t40 &  71 & 291 & 13.8 & 90 & 6 &  9 & 4.262680\\\\\n",
       "\t41 &  39 & 323 & 11.5 & 87 & 6 & 10 & 3.663562\\\\\n",
       "\t44 &  23 & 148 &  8.0 & 82 & 6 & 13 & 3.135494\\\\\n",
       "\t47 &  21 & 191 & 14.9 & 77 & 6 & 16 & 3.044522\\\\\n",
       "\t48 &  37 & 284 & 20.7 & 72 & 6 & 17 & 3.610918\\\\\n",
       "\t... & ... & ... & ... & ... & ... & ... & ...\\\\\n",
       "\t123 & 85 & 188 &  6.3 & 94 & 8 & 31 & 4.442651\\\\\n",
       "\t124 & 96 & 167 &  6.9 & 91 & 9 &  1 & 4.564348\\\\\n",
       "\t125 & 78 & 197 &  5.1 & 92 & 9 &  2 & 4.356709\\\\\n",
       "\t126 & 73 & 183 &  2.8 & 93 & 9 &  3 & 4.290459\\\\\n",
       "\t127 & 91 & 189 &  4.6 & 93 & 9 &  4 & 4.510860\\\\\n",
       "\t128 & 47 &  95 &  7.4 & 87 & 9 &  5 & 3.850148\\\\\n",
       "\t129 & 32 &  92 & 15.5 & 84 & 9 &  6 & 3.465736\\\\\n",
       "\t130 & 20 & 252 & 10.9 & 80 & 9 &  7 & 2.995732\\\\\n",
       "\t131 & 23 & 220 & 10.3 & 78 & 9 &  8 & 3.135494\\\\\n",
       "\t132 & 21 & 230 & 10.9 & 75 & 9 &  9 & 3.044522\\\\\n",
       "\t133 & 24 & 259 &  9.7 & 73 & 9 & 10 & 3.178054\\\\\n",
       "\t134 & 44 & 236 & 14.9 & 81 & 9 & 11 & 3.784190\\\\\n",
       "\t135 & 21 & 259 & 15.5 & 76 & 9 & 12 & 3.044522\\\\\n",
       "\t136 & 28 & 238 &  6.3 & 77 & 9 & 13 & 3.332205\\\\\n",
       "\t137 &  9 &  24 & 10.9 & 71 & 9 & 14 & 2.197225\\\\\n",
       "\t138 & 13 & 112 & 11.5 & 71 & 9 & 15 & 2.564949\\\\\n",
       "\t139 & 46 & 237 &  6.9 & 78 & 9 & 16 & 3.828641\\\\\n",
       "\t140 & 18 & 224 & 13.8 & 67 & 9 & 17 & 2.890372\\\\\n",
       "\t141 & 13 &  27 & 10.3 & 76 & 9 & 18 & 2.564949\\\\\n",
       "\t142 & 24 & 238 & 10.3 & 68 & 9 & 19 & 3.178054\\\\\n",
       "\t143 & 16 & 201 &  8.0 & 82 & 9 & 20 & 2.772589\\\\\n",
       "\t144 & 13 & 238 & 12.6 & 64 & 9 & 21 & 2.564949\\\\\n",
       "\t145 & 23 &  14 &  9.2 & 71 & 9 & 22 & 3.135494\\\\\n",
       "\t146 & 36 & 139 & 10.3 & 81 & 9 & 23 & 3.583519\\\\\n",
       "\t147 &  7 &  49 & 10.3 & 69 & 9 & 24 & 1.945910\\\\\n",
       "\t148 & 14 &  20 & 16.6 & 63 & 9 & 25 & 2.639057\\\\\n",
       "\t149 & 30 & 193 &  6.9 & 70 & 9 & 26 & 3.401197\\\\\n",
       "\t151 & 14 & 191 & 14.3 & 75 & 9 & 28 & 2.639057\\\\\n",
       "\t152 & 18 & 131 &  8.0 & 76 & 9 & 29 & 2.890372\\\\\n",
       "\t153 & 20 & 223 & 11.5 & 68 & 9 & 30 & 2.995732\\\\\n",
       "\\end{tabular}\n"
      ],
      "text/markdown": [
       "\n",
       "A data.frame: 111 × 7\n",
       "\n",
       "| <!--/--> | Ozone &lt;int&gt; | Solar.R &lt;int&gt; | Wind &lt;dbl&gt; | Temp &lt;int&gt; | Month &lt;int&gt; | Day &lt;int&gt; | log_Ozone &lt;dbl&gt; |\n",
       "|---|---|---|---|---|---|---|---|\n",
       "| 1 |  41 | 190 |  7.4 | 67 | 5 |  1 | 3.713572 |\n",
       "| 2 |  36 | 118 |  8.0 | 72 | 5 |  2 | 3.583519 |\n",
       "| 3 |  12 | 149 | 12.6 | 74 | 5 |  3 | 2.484907 |\n",
       "| 4 |  18 | 313 | 11.5 | 62 | 5 |  4 | 2.890372 |\n",
       "| 7 |  23 | 299 |  8.6 | 65 | 5 |  7 | 3.135494 |\n",
       "| 8 |  19 |  99 | 13.8 | 59 | 5 |  8 | 2.944439 |\n",
       "| 9 |   8 |  19 | 20.1 | 61 | 5 |  9 | 2.079442 |\n",
       "| 12 |  16 | 256 |  9.7 | 69 | 5 | 12 | 2.772589 |\n",
       "| 13 |  11 | 290 |  9.2 | 66 | 5 | 13 | 2.397895 |\n",
       "| 14 |  14 | 274 | 10.9 | 68 | 5 | 14 | 2.639057 |\n",
       "| 15 |  18 |  65 | 13.2 | 58 | 5 | 15 | 2.890372 |\n",
       "| 16 |  14 | 334 | 11.5 | 64 | 5 | 16 | 2.639057 |\n",
       "| 17 |  34 | 307 | 12.0 | 66 | 5 | 17 | 3.526361 |\n",
       "| 18 |   6 |  78 | 18.4 | 57 | 5 | 18 | 1.791759 |\n",
       "| 19 |  30 | 322 | 11.5 | 68 | 5 | 19 | 3.401197 |\n",
       "| 20 |  11 |  44 |  9.7 | 62 | 5 | 20 | 2.397895 |\n",
       "| 21 |   1 |   8 |  9.7 | 59 | 5 | 21 | 0.000000 |\n",
       "| 22 |  11 | 320 | 16.6 | 73 | 5 | 22 | 2.397895 |\n",
       "| 23 |   4 |  25 |  9.7 | 61 | 5 | 23 | 1.386294 |\n",
       "| 24 |  32 |  92 | 12.0 | 61 | 5 | 24 | 3.465736 |\n",
       "| 28 |  23 |  13 | 12.0 | 67 | 5 | 28 | 3.135494 |\n",
       "| 29 |  45 | 252 | 14.9 | 81 | 5 | 29 | 3.806662 |\n",
       "| 30 | 115 | 223 |  5.7 | 79 | 5 | 30 | 4.744932 |\n",
       "| 31 |  37 | 279 |  7.4 | 76 | 5 | 31 | 3.610918 |\n",
       "| 38 |  29 | 127 |  9.7 | 82 | 6 |  7 | 3.367296 |\n",
       "| 40 |  71 | 291 | 13.8 | 90 | 6 |  9 | 4.262680 |\n",
       "| 41 |  39 | 323 | 11.5 | 87 | 6 | 10 | 3.663562 |\n",
       "| 44 |  23 | 148 |  8.0 | 82 | 6 | 13 | 3.135494 |\n",
       "| 47 |  21 | 191 | 14.9 | 77 | 6 | 16 | 3.044522 |\n",
       "| 48 |  37 | 284 | 20.7 | 72 | 6 | 17 | 3.610918 |\n",
       "| ... | ... | ... | ... | ... | ... | ... | ... |\n",
       "| 123 | 85 | 188 |  6.3 | 94 | 8 | 31 | 4.442651 |\n",
       "| 124 | 96 | 167 |  6.9 | 91 | 9 |  1 | 4.564348 |\n",
       "| 125 | 78 | 197 |  5.1 | 92 | 9 |  2 | 4.356709 |\n",
       "| 126 | 73 | 183 |  2.8 | 93 | 9 |  3 | 4.290459 |\n",
       "| 127 | 91 | 189 |  4.6 | 93 | 9 |  4 | 4.510860 |\n",
       "| 128 | 47 |  95 |  7.4 | 87 | 9 |  5 | 3.850148 |\n",
       "| 129 | 32 |  92 | 15.5 | 84 | 9 |  6 | 3.465736 |\n",
       "| 130 | 20 | 252 | 10.9 | 80 | 9 |  7 | 2.995732 |\n",
       "| 131 | 23 | 220 | 10.3 | 78 | 9 |  8 | 3.135494 |\n",
       "| 132 | 21 | 230 | 10.9 | 75 | 9 |  9 | 3.044522 |\n",
       "| 133 | 24 | 259 |  9.7 | 73 | 9 | 10 | 3.178054 |\n",
       "| 134 | 44 | 236 | 14.9 | 81 | 9 | 11 | 3.784190 |\n",
       "| 135 | 21 | 259 | 15.5 | 76 | 9 | 12 | 3.044522 |\n",
       "| 136 | 28 | 238 |  6.3 | 77 | 9 | 13 | 3.332205 |\n",
       "| 137 |  9 |  24 | 10.9 | 71 | 9 | 14 | 2.197225 |\n",
       "| 138 | 13 | 112 | 11.5 | 71 | 9 | 15 | 2.564949 |\n",
       "| 139 | 46 | 237 |  6.9 | 78 | 9 | 16 | 3.828641 |\n",
       "| 140 | 18 | 224 | 13.8 | 67 | 9 | 17 | 2.890372 |\n",
       "| 141 | 13 |  27 | 10.3 | 76 | 9 | 18 | 2.564949 |\n",
       "| 142 | 24 | 238 | 10.3 | 68 | 9 | 19 | 3.178054 |\n",
       "| 143 | 16 | 201 |  8.0 | 82 | 9 | 20 | 2.772589 |\n",
       "| 144 | 13 | 238 | 12.6 | 64 | 9 | 21 | 2.564949 |\n",
       "| 145 | 23 |  14 |  9.2 | 71 | 9 | 22 | 3.135494 |\n",
       "| 146 | 36 | 139 | 10.3 | 81 | 9 | 23 | 3.583519 |\n",
       "| 147 |  7 |  49 | 10.3 | 69 | 9 | 24 | 1.945910 |\n",
       "| 148 | 14 |  20 | 16.6 | 63 | 9 | 25 | 2.639057 |\n",
       "| 149 | 30 | 193 |  6.9 | 70 | 9 | 26 | 3.401197 |\n",
       "| 151 | 14 | 191 | 14.3 | 75 | 9 | 28 | 2.639057 |\n",
       "| 152 | 18 | 131 |  8.0 | 76 | 9 | 29 | 2.890372 |\n",
       "| 153 | 20 | 223 | 11.5 | 68 | 9 | 30 | 2.995732 |\n",
       "\n"
      ],
      "text/plain": [
       "    Ozone Solar.R Wind Temp Month Day log_Ozone\n",
       "1    41   190      7.4 67   5      1  3.713572 \n",
       "2    36   118      8.0 72   5      2  3.583519 \n",
       "3    12   149     12.6 74   5      3  2.484907 \n",
       "4    18   313     11.5 62   5      4  2.890372 \n",
       "7    23   299      8.6 65   5      7  3.135494 \n",
       "8    19    99     13.8 59   5      8  2.944439 \n",
       "9     8    19     20.1 61   5      9  2.079442 \n",
       "12   16   256      9.7 69   5     12  2.772589 \n",
       "13   11   290      9.2 66   5     13  2.397895 \n",
       "14   14   274     10.9 68   5     14  2.639057 \n",
       "15   18    65     13.2 58   5     15  2.890372 \n",
       "16   14   334     11.5 64   5     16  2.639057 \n",
       "17   34   307     12.0 66   5     17  3.526361 \n",
       "18    6    78     18.4 57   5     18  1.791759 \n",
       "19   30   322     11.5 68   5     19  3.401197 \n",
       "20   11    44      9.7 62   5     20  2.397895 \n",
       "21    1     8      9.7 59   5     21  0.000000 \n",
       "22   11   320     16.6 73   5     22  2.397895 \n",
       "23    4    25      9.7 61   5     23  1.386294 \n",
       "24   32    92     12.0 61   5     24  3.465736 \n",
       "28   23    13     12.0 67   5     28  3.135494 \n",
       "29   45   252     14.9 81   5     29  3.806662 \n",
       "30  115   223      5.7 79   5     30  4.744932 \n",
       "31   37   279      7.4 76   5     31  3.610918 \n",
       "38   29   127      9.7 82   6      7  3.367296 \n",
       "40   71   291     13.8 90   6      9  4.262680 \n",
       "41   39   323     11.5 87   6     10  3.663562 \n",
       "44   23   148      8.0 82   6     13  3.135494 \n",
       "47   21   191     14.9 77   6     16  3.044522 \n",
       "48   37   284     20.7 72   6     17  3.610918 \n",
       "... ...   ...     ...  ...  ...   ... ...      \n",
       "123 85    188      6.3 94   8     31  4.442651 \n",
       "124 96    167      6.9 91   9      1  4.564348 \n",
       "125 78    197      5.1 92   9      2  4.356709 \n",
       "126 73    183      2.8 93   9      3  4.290459 \n",
       "127 91    189      4.6 93   9      4  4.510860 \n",
       "128 47     95      7.4 87   9      5  3.850148 \n",
       "129 32     92     15.5 84   9      6  3.465736 \n",
       "130 20    252     10.9 80   9      7  2.995732 \n",
       "131 23    220     10.3 78   9      8  3.135494 \n",
       "132 21    230     10.9 75   9      9  3.044522 \n",
       "133 24    259      9.7 73   9     10  3.178054 \n",
       "134 44    236     14.9 81   9     11  3.784190 \n",
       "135 21    259     15.5 76   9     12  3.044522 \n",
       "136 28    238      6.3 77   9     13  3.332205 \n",
       "137  9     24     10.9 71   9     14  2.197225 \n",
       "138 13    112     11.5 71   9     15  2.564949 \n",
       "139 46    237      6.9 78   9     16  3.828641 \n",
       "140 18    224     13.8 67   9     17  2.890372 \n",
       "141 13     27     10.3 76   9     18  2.564949 \n",
       "142 24    238     10.3 68   9     19  3.178054 \n",
       "143 16    201      8.0 82   9     20  2.772589 \n",
       "144 13    238     12.6 64   9     21  2.564949 \n",
       "145 23     14      9.2 71   9     22  3.135494 \n",
       "146 36    139     10.3 81   9     23  3.583519 \n",
       "147  7     49     10.3 69   9     24  1.945910 \n",
       "148 14     20     16.6 63   9     25  2.639057 \n",
       "149 30    193      6.9 70   9     26  3.401197 \n",
       "151 14    191     14.3 75   9     28  2.639057 \n",
       "152 18    131      8.0 76   9     29  2.890372 \n",
       "153 20    223     11.5 68   9     30  2.995732 "
      ]
     },
     "metadata": {},
     "output_type": "display_data"
    }
   ],
   "source": [
    "data$log_Ozone <- log(data$Ozone)\n",
    "\n",
    "data"
   ]
  },
  {
   "cell_type": "markdown",
   "metadata": {},
   "source": [
    "# Summary\n",
    "\n",
    "* A matrix is a two-dimensional Array with two additional attributes specifying the 2 dimensions: nrow und ncol\n",
    "* Data frames store your information in columns that heep their own type\n",
    "* NA means \"not available\" and NA-values should be ignored in data, if you want to do any arithmetics\n",
    "\n",
    "\n",
    "# List of functions Used\n",
    "**Matrices**\n",
    "\n",
    "`matrix(m:n, nrow = x, ncol = y)`\n",
    "\n",
    "`dim(matrix)` `nrow(matrix)` `ncol(matrix)` `cbind(matrix1,matrix2)`\n",
    "\n",
    "`class()` `typeof()`\n",
    "\n",
    "**Data frame**\n",
    "\n",
    "`as.data.frame()`\n",
    "\n",
    "`is.na()` `na.omit()`\n",
    "\n",
    "**Data manipulation**\n",
    "\n",
    "`head()` `names()`\n",
    "\n",
    "`$`\n"
   ]
  }
 ],
 "metadata": {
  "kernelspec": {
   "display_name": "R",
   "language": "R",
   "name": "ir"
  },
  "language_info": {
   "codemirror_mode": "r",
   "file_extension": ".r",
   "mimetype": "text/x-r-source",
   "name": "R",
   "pygments_lexer": "r",
   "version": "3.6.1"
  }
 },
 "nbformat": 4,
 "nbformat_minor": 2
}

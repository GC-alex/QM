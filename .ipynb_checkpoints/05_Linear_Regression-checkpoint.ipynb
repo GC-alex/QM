{
 "cells": [
  {
   "cell_type": "markdown",
   "metadata": {},
   "source": [
    "# 05 Linear Regression\n",
    "\n",
    "\n",
    "* What is a linear Regression\n",
    "* The lm() function and its extractor functions\n",
    "* Plotting regression lines\n",
    "* Prediction versus confidence bands\n",
    "* Model diagnostics with R\n",
    "\n",
    "\n",
    "\n",
    "\n",
    "---\n",
    "\n",
    "**In this session we will start with statistics basics and  with linear regression in particuliar.**\n",
    "\n",
    "![](https://raw.githubusercontent.com/GC-alex/QM/master/figs/header_sized_small.jpg)\n",
    "\n",
    "\n",
    "---\n"
   ]
  },
  {
   "cell_type": "markdown",
   "metadata": {},
   "source": [
    "## What is Linear Regression?\n",
    "\n",
    "Linear Regression is a statisticial model, which is based on the assumption of a *linear* relationship between a *response* variable and one *predictor* variable.\n",
    "\n",
    "One example would be the relationsip between elevation and rainfall in Germany. A rise in elevation is often connected to a rise in precipitation. \n",
    "\n",
    "\n",
    "\n",
    "### The Linear Regression Model is given by:\n",
    "\n",
    "$y_i = \\beta_{0} + \\beta_{1}x_i + \\epsilon_i$\n",
    "\n",
    "Let's have a look at it's parts:\n",
    "\n",
    "$y$ is the *response* variable (in our example: precipitation)\n",
    "\n",
    "$x_i$ is the *predictor variable* (in our example: elevation)\n",
    "\n",
    "$\\beta$ are the *parameters*\n",
    "\n",
    "$\\epsilon$ is the *residual error*, i.e. that part of the response which remains unexplained by the predictors.\n",
    "\n",
    "----\n",
    "\n",
    "# [[[[[[[[[ PLACEHOLDER IMAGE NEEDED: Image witha a graphical representation of Linear Rregression - from the Script maybe? Or self creating?]]]\n",
    "\n",
    "$\\beta_{0}$ being the intercept, where the line intersects the vertical axis(𝑥=0)  ,  and $\\beta_{1}$ being the slope of the line\n",
    "\n",
    "---\n",
    "\n",
    "### Description vs. Prediction\n",
    "\n",
    "This Linear Regression is often used to **describe** data in terms of a general relationship or trend. As our data is part of the overall population, we then use our knowledge of the data and apply it on the population. **Predictions** on the other hand, should be made with more caution. Linear Regression is a rather simple model and has, as any model its limitations. Especially long-distance predictions should be read carefully. \n",
    "\n",
    "---\n",
    "\n",
    "### More Indepth \n",
    "\n",
    "As this jupyter-course focuses on the coding aspect of statistics, please feel free to read more indepth about the statistical concepts in literature. **( PUTTING UP LITERATURE???? - like the Script??? )**"
   ]
  },
  {
   "cell_type": "markdown",
   "metadata": {},
   "source": [
    "## Explore the Linear Model Anscombe Dataset\n",
    "This session, we will work with the `anscombe`dataset, which is part of base R.\n",
    "\n",
    "Please load the dataset and then we want to transform it from **wideformat** into a **longformat** (`anscombe.long`)  by using the `tidyverse`package.\n",
    "You can do your own approach or use the step-by-step code provided further down.\n",
    "\n",
    "\n",
    "---\n",
    "\n",
    ">**Hint:** Creating an ID Column first, might help you with this task."
   ]
  },
  {
   "cell_type": "code",
   "execution_count": 2,
   "metadata": {},
   "outputs": [
    {
     "name": "stderr",
     "output_type": "stream",
     "text": [
      "Warning message:\n",
      "\"package 'tidyverse' was built under R version 3.6.3\"\n",
      "-- \u001b[1mAttaching packages\u001b[22m --------------------------------------- tidyverse 1.3.0 --\n",
      "\n",
      "\u001b[32mv\u001b[39m \u001b[34mggplot2\u001b[39m 3.2.1     \u001b[32mv\u001b[39m \u001b[34mpurrr  \u001b[39m 0.3.3\n",
      "\u001b[32mv\u001b[39m \u001b[34mtibble \u001b[39m 2.1.3     \u001b[32mv\u001b[39m \u001b[34mdplyr  \u001b[39m 0.8.3\n",
      "\u001b[32mv\u001b[39m \u001b[34mtidyr  \u001b[39m 1.0.0     \u001b[32mv\u001b[39m \u001b[34mstringr\u001b[39m 1.4.0\n",
      "\u001b[32mv\u001b[39m \u001b[34mreadr  \u001b[39m 1.3.1     \u001b[32mv\u001b[39m \u001b[34mforcats\u001b[39m 0.4.0\n",
      "\n",
      "-- \u001b[1mConflicts\u001b[22m ------------------------------------------ tidyverse_conflicts() --\n",
      "\u001b[31mx\u001b[39m \u001b[34mdplyr\u001b[39m::\u001b[32mfilter()\u001b[39m masks \u001b[34mstats\u001b[39m::filter()\n",
      "\u001b[31mx\u001b[39m \u001b[34mdplyr\u001b[39m::\u001b[32mlag()\u001b[39m    masks \u001b[34mstats\u001b[39m::lag()\n",
      "\n"
     ]
    },
    {
     "data": {
      "text/html": [
       "<table>\n",
       "<caption>A data.frame: 6 × 8</caption>\n",
       "<thead>\n",
       "\t<tr><th></th><th scope=col>x1</th><th scope=col>x2</th><th scope=col>x3</th><th scope=col>x4</th><th scope=col>y1</th><th scope=col>y2</th><th scope=col>y3</th><th scope=col>y4</th></tr>\n",
       "\t<tr><th></th><th scope=col>&lt;dbl&gt;</th><th scope=col>&lt;dbl&gt;</th><th scope=col>&lt;dbl&gt;</th><th scope=col>&lt;dbl&gt;</th><th scope=col>&lt;dbl&gt;</th><th scope=col>&lt;dbl&gt;</th><th scope=col>&lt;dbl&gt;</th><th scope=col>&lt;dbl&gt;</th></tr>\n",
       "</thead>\n",
       "<tbody>\n",
       "\t<tr><th scope=row>1</th><td>10</td><td>10</td><td>10</td><td>8</td><td>8.04</td><td>9.14</td><td> 7.46</td><td>6.58</td></tr>\n",
       "\t<tr><th scope=row>2</th><td> 8</td><td> 8</td><td> 8</td><td>8</td><td>6.95</td><td>8.14</td><td> 6.77</td><td>5.76</td></tr>\n",
       "\t<tr><th scope=row>3</th><td>13</td><td>13</td><td>13</td><td>8</td><td>7.58</td><td>8.74</td><td>12.74</td><td>7.71</td></tr>\n",
       "\t<tr><th scope=row>4</th><td> 9</td><td> 9</td><td> 9</td><td>8</td><td>8.81</td><td>8.77</td><td> 7.11</td><td>8.84</td></tr>\n",
       "\t<tr><th scope=row>5</th><td>11</td><td>11</td><td>11</td><td>8</td><td>8.33</td><td>9.26</td><td> 7.81</td><td>8.47</td></tr>\n",
       "\t<tr><th scope=row>6</th><td>14</td><td>14</td><td>14</td><td>8</td><td>9.96</td><td>8.10</td><td> 8.84</td><td>7.04</td></tr>\n",
       "</tbody>\n",
       "</table>\n"
      ],
      "text/latex": [
       "A data.frame: 6 × 8\n",
       "\\begin{tabular}{r|llllllll}\n",
       "  & x1 & x2 & x3 & x4 & y1 & y2 & y3 & y4\\\\\n",
       "  & <dbl> & <dbl> & <dbl> & <dbl> & <dbl> & <dbl> & <dbl> & <dbl>\\\\\n",
       "\\hline\n",
       "\t1 & 10 & 10 & 10 & 8 & 8.04 & 9.14 &  7.46 & 6.58\\\\\n",
       "\t2 &  8 &  8 &  8 & 8 & 6.95 & 8.14 &  6.77 & 5.76\\\\\n",
       "\t3 & 13 & 13 & 13 & 8 & 7.58 & 8.74 & 12.74 & 7.71\\\\\n",
       "\t4 &  9 &  9 &  9 & 8 & 8.81 & 8.77 &  7.11 & 8.84\\\\\n",
       "\t5 & 11 & 11 & 11 & 8 & 8.33 & 9.26 &  7.81 & 8.47\\\\\n",
       "\t6 & 14 & 14 & 14 & 8 & 9.96 & 8.10 &  8.84 & 7.04\\\\\n",
       "\\end{tabular}\n"
      ],
      "text/markdown": [
       "\n",
       "A data.frame: 6 × 8\n",
       "\n",
       "| <!--/--> | x1 &lt;dbl&gt; | x2 &lt;dbl&gt; | x3 &lt;dbl&gt; | x4 &lt;dbl&gt; | y1 &lt;dbl&gt; | y2 &lt;dbl&gt; | y3 &lt;dbl&gt; | y4 &lt;dbl&gt; |\n",
       "|---|---|---|---|---|---|---|---|---|\n",
       "| 1 | 10 | 10 | 10 | 8 | 8.04 | 9.14 |  7.46 | 6.58 |\n",
       "| 2 |  8 |  8 |  8 | 8 | 6.95 | 8.14 |  6.77 | 5.76 |\n",
       "| 3 | 13 | 13 | 13 | 8 | 7.58 | 8.74 | 12.74 | 7.71 |\n",
       "| 4 |  9 |  9 |  9 | 8 | 8.81 | 8.77 |  7.11 | 8.84 |\n",
       "| 5 | 11 | 11 | 11 | 8 | 8.33 | 9.26 |  7.81 | 8.47 |\n",
       "| 6 | 14 | 14 | 14 | 8 | 9.96 | 8.10 |  8.84 | 7.04 |\n",
       "\n"
      ],
      "text/plain": [
       "  x1 x2 x3 x4 y1   y2   y3    y4  \n",
       "1 10 10 10 8  8.04 9.14  7.46 6.58\n",
       "2  8  8  8 8  6.95 8.14  6.77 5.76\n",
       "3 13 13 13 8  7.58 8.74 12.74 7.71\n",
       "4  9  9  9 8  8.81 8.77  7.11 8.84\n",
       "5 11 11 11 8  8.33 9.26  7.81 8.47\n",
       "6 14 14 14 8  9.96 8.10  8.84 7.04"
      ]
     },
     "metadata": {},
     "output_type": "display_data"
    },
    {
     "data": {
      "text/html": [
       "<table>\n",
       "<caption>A data.frame: 6 × 3</caption>\n",
       "<thead>\n",
       "\t<tr><th></th><th scope=col>id</th><th scope=col>key</th><th scope=col>value</th></tr>\n",
       "\t<tr><th></th><th scope=col>&lt;int&gt;</th><th scope=col>&lt;chr&gt;</th><th scope=col>&lt;dbl&gt;</th></tr>\n",
       "</thead>\n",
       "<tbody>\n",
       "\t<tr><th scope=row>1</th><td>1</td><td>x1</td><td>10</td></tr>\n",
       "\t<tr><th scope=row>2</th><td>2</td><td>x1</td><td> 8</td></tr>\n",
       "\t<tr><th scope=row>3</th><td>3</td><td>x1</td><td>13</td></tr>\n",
       "\t<tr><th scope=row>4</th><td>4</td><td>x1</td><td> 9</td></tr>\n",
       "\t<tr><th scope=row>5</th><td>5</td><td>x1</td><td>11</td></tr>\n",
       "\t<tr><th scope=row>6</th><td>6</td><td>x1</td><td>14</td></tr>\n",
       "</tbody>\n",
       "</table>\n"
      ],
      "text/latex": [
       "A data.frame: 6 × 3\n",
       "\\begin{tabular}{r|lll}\n",
       "  & id & key & value\\\\\n",
       "  & <int> & <chr> & <dbl>\\\\\n",
       "\\hline\n",
       "\t1 & 1 & x1 & 10\\\\\n",
       "\t2 & 2 & x1 &  8\\\\\n",
       "\t3 & 3 & x1 & 13\\\\\n",
       "\t4 & 4 & x1 &  9\\\\\n",
       "\t5 & 5 & x1 & 11\\\\\n",
       "\t6 & 6 & x1 & 14\\\\\n",
       "\\end{tabular}\n"
      ],
      "text/markdown": [
       "\n",
       "A data.frame: 6 × 3\n",
       "\n",
       "| <!--/--> | id &lt;int&gt; | key &lt;chr&gt; | value &lt;dbl&gt; |\n",
       "|---|---|---|---|\n",
       "| 1 | 1 | x1 | 10 |\n",
       "| 2 | 2 | x1 |  8 |\n",
       "| 3 | 3 | x1 | 13 |\n",
       "| 4 | 4 | x1 |  9 |\n",
       "| 5 | 5 | x1 | 11 |\n",
       "| 6 | 6 | x1 | 14 |\n",
       "\n"
      ],
      "text/plain": [
       "  id key value\n",
       "1 1  x1  10   \n",
       "2 2  x1   8   \n",
       "3 3  x1  13   \n",
       "4 4  x1   9   \n",
       "5 5  x1  11   \n",
       "6 6  x1  14   "
      ]
     },
     "metadata": {},
     "output_type": "display_data"
    },
    {
     "data": {
      "text/html": [
       "<table>\n",
       "<caption>A data.frame: 6 × 4</caption>\n",
       "<thead>\n",
       "\t<tr><th></th><th scope=col>id</th><th scope=col>var</th><th scope=col>dataset</th><th scope=col>value</th></tr>\n",
       "\t<tr><th></th><th scope=col>&lt;int&gt;</th><th scope=col>&lt;chr&gt;</th><th scope=col>&lt;chr&gt;</th><th scope=col>&lt;dbl&gt;</th></tr>\n",
       "</thead>\n",
       "<tbody>\n",
       "\t<tr><th scope=row>1</th><td>1</td><td>x</td><td>1</td><td>10</td></tr>\n",
       "\t<tr><th scope=row>2</th><td>2</td><td>x</td><td>1</td><td> 8</td></tr>\n",
       "\t<tr><th scope=row>3</th><td>3</td><td>x</td><td>1</td><td>13</td></tr>\n",
       "\t<tr><th scope=row>4</th><td>4</td><td>x</td><td>1</td><td> 9</td></tr>\n",
       "\t<tr><th scope=row>5</th><td>5</td><td>x</td><td>1</td><td>11</td></tr>\n",
       "\t<tr><th scope=row>6</th><td>6</td><td>x</td><td>1</td><td>14</td></tr>\n",
       "</tbody>\n",
       "</table>\n"
      ],
      "text/latex": [
       "A data.frame: 6 × 4\n",
       "\\begin{tabular}{r|llll}\n",
       "  & id & var & dataset & value\\\\\n",
       "  & <int> & <chr> & <chr> & <dbl>\\\\\n",
       "\\hline\n",
       "\t1 & 1 & x & 1 & 10\\\\\n",
       "\t2 & 2 & x & 1 &  8\\\\\n",
       "\t3 & 3 & x & 1 & 13\\\\\n",
       "\t4 & 4 & x & 1 &  9\\\\\n",
       "\t5 & 5 & x & 1 & 11\\\\\n",
       "\t6 & 6 & x & 1 & 14\\\\\n",
       "\\end{tabular}\n"
      ],
      "text/markdown": [
       "\n",
       "A data.frame: 6 × 4\n",
       "\n",
       "| <!--/--> | id &lt;int&gt; | var &lt;chr&gt; | dataset &lt;chr&gt; | value &lt;dbl&gt; |\n",
       "|---|---|---|---|---|\n",
       "| 1 | 1 | x | 1 | 10 |\n",
       "| 2 | 2 | x | 1 |  8 |\n",
       "| 3 | 3 | x | 1 | 13 |\n",
       "| 4 | 4 | x | 1 |  9 |\n",
       "| 5 | 5 | x | 1 | 11 |\n",
       "| 6 | 6 | x | 1 | 14 |\n",
       "\n"
      ],
      "text/plain": [
       "  id var dataset value\n",
       "1 1  x   1       10   \n",
       "2 2  x   1        8   \n",
       "3 3  x   1       13   \n",
       "4 4  x   1        9   \n",
       "5 5  x   1       11   \n",
       "6 6  x   1       14   "
      ]
     },
     "metadata": {},
     "output_type": "display_data"
    },
    {
     "data": {
      "text/html": [
       "<table>\n",
       "<caption>A data.frame: 6 × 4</caption>\n",
       "<thead>\n",
       "\t<tr><th></th><th scope=col>id</th><th scope=col>dataset</th><th scope=col>x</th><th scope=col>y</th></tr>\n",
       "\t<tr><th></th><th scope=col>&lt;int&gt;</th><th scope=col>&lt;chr&gt;</th><th scope=col>&lt;dbl&gt;</th><th scope=col>&lt;dbl&gt;</th></tr>\n",
       "</thead>\n",
       "<tbody>\n",
       "\t<tr><th scope=row>1</th><td>1</td><td>1</td><td>10</td><td>8.04</td></tr>\n",
       "\t<tr><th scope=row>2</th><td>1</td><td>2</td><td>10</td><td>9.14</td></tr>\n",
       "\t<tr><th scope=row>3</th><td>1</td><td>3</td><td>10</td><td>7.46</td></tr>\n",
       "\t<tr><th scope=row>4</th><td>1</td><td>4</td><td> 8</td><td>6.58</td></tr>\n",
       "\t<tr><th scope=row>5</th><td>2</td><td>1</td><td> 8</td><td>6.95</td></tr>\n",
       "\t<tr><th scope=row>6</th><td>2</td><td>2</td><td> 8</td><td>8.14</td></tr>\n",
       "</tbody>\n",
       "</table>\n"
      ],
      "text/latex": [
       "A data.frame: 6 × 4\n",
       "\\begin{tabular}{r|llll}\n",
       "  & id & dataset & x & y\\\\\n",
       "  & <int> & <chr> & <dbl> & <dbl>\\\\\n",
       "\\hline\n",
       "\t1 & 1 & 1 & 10 & 8.04\\\\\n",
       "\t2 & 1 & 2 & 10 & 9.14\\\\\n",
       "\t3 & 1 & 3 & 10 & 7.46\\\\\n",
       "\t4 & 1 & 4 &  8 & 6.58\\\\\n",
       "\t5 & 2 & 1 &  8 & 6.95\\\\\n",
       "\t6 & 2 & 2 &  8 & 8.14\\\\\n",
       "\\end{tabular}\n"
      ],
      "text/markdown": [
       "\n",
       "A data.frame: 6 × 4\n",
       "\n",
       "| <!--/--> | id &lt;int&gt; | dataset &lt;chr&gt; | x &lt;dbl&gt; | y &lt;dbl&gt; |\n",
       "|---|---|---|---|---|\n",
       "| 1 | 1 | 1 | 10 | 8.04 |\n",
       "| 2 | 1 | 2 | 10 | 9.14 |\n",
       "| 3 | 1 | 3 | 10 | 7.46 |\n",
       "| 4 | 1 | 4 |  8 | 6.58 |\n",
       "| 5 | 2 | 1 |  8 | 6.95 |\n",
       "| 6 | 2 | 2 |  8 | 8.14 |\n",
       "\n"
      ],
      "text/plain": [
       "  id dataset x  y   \n",
       "1 1  1       10 8.04\n",
       "2 1  2       10 9.14\n",
       "3 1  3       10 7.46\n",
       "4 1  4        8 6.58\n",
       "5 2  1        8 6.95\n",
       "6 2  2        8 8.14"
      ]
     },
     "metadata": {},
     "output_type": "display_data"
    }
   ],
   "source": [
    "library(tidyverse)\n",
    "data(anscombe)\n",
    "head(anscombe)\n",
    "anscombe$id <- 1:11  # create id to have  \n",
    "\n",
    "temp1 <- gather(anscombe, key, value, -id) # turn into long format\n",
    "head(temp1)\n",
    "temp2 <- extract(temp1, key, c(\"var\", \"dataset\"), \"(.)(.)\") # extract dataset id from variable names\n",
    "head(temp2)\n",
    "anscombe.long <- spread(temp2, var, value) # spread variables to seperate x and y columns, that's where our previously assigned ID-column is needed\n",
    "head(anscombe.long)\n"
   ]
  },
  {
   "cell_type": "markdown",
   "metadata": {},
   "source": [
    "`data(anscombe)\n",
    "head(anscombe)\n",
    "anscombe$id <- 1:11  # create id to have`  \n",
    "\n",
    "`temp1 <- gather(anscombe, key, value, -id) # turn into long format\n",
    "head(temp1)\n",
    "temp2 <- extract(temp1, key, c(\"var\", \"dataset\"), \"(.)(.)\") # extract dataset id from variable names\n",
    "head(temp2)\n",
    "anscombe.long <- spread(temp2, var, value) # spread variables to seperate x and y columns, that's where our previously assigned ID-column is needed\n",
    "head(anscombe.long)` \n"
   ]
  },
  {
   "cell_type": "markdown",
   "metadata": {},
   "source": [
    "### The `lm()` - function\n",
    "Let's have a look at **dataset 1** to do our first **linear regression**.\n",
    "As you can see it is a scatterplot, consistent of eleven observations."
   ]
  },
  {
   "cell_type": "code",
   "execution_count": 3,
   "metadata": {},
   "outputs": [
    {
     "data": {
      "image/png": "iVBORw0KGgoAAAANSUhEUgAAA0gAAANICAMAAADKOT/pAAAAM1BMVEUAAAAzMzNNTU1oaGh8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\nnDvhhOTcCfcf44wkPDLSmIkAAAAASUVORK5CYII=",
      "text/plain": [
       "plot without title"
      ]
     },
     "metadata": {
      "image/png": {
       "height": 420,
       "width": 420
      }
     },
     "output_type": "display_data"
    }
   ],
   "source": [
    "ans1 <- anscombe.long[anscombe.long$dataset==1,]\n",
    "ggplot(ans1, aes(x=x, y=y)) + geom_point()"
   ]
  },
  {
   "cell_type": "markdown",
   "metadata": {},
   "source": [
    "The `lm()`function, is the implemented function in R, to calculate our Linear Model. \n",
    "\n",
    "\n",
    "`lmodel.ans1 <- lm(y ~ x, data = ans1) # fits the model\n",
    "lmodel.ans1 `\n",
    "\n",
    "We *fit* the model with the *formular* `y ~ x`, which can be read as \"*y described by x*\". Which is exactly what we looked at in the beginning of this session.\n",
    "\n",
    "The result of this `lm()` is a *model object*. When printing the model object you get the **model formula** and the **coefficients** (intercept $\\beta_{0}$  and slope $\\beta_{1}$)."
   ]
  },
  {
   "cell_type": "code",
   "execution_count": 4,
   "metadata": {},
   "outputs": [
    {
     "data": {
      "text/plain": [
       "\n",
       "Call:\n",
       "lm(formula = y ~ x, data = ans1)\n",
       "\n",
       "Coefficients:\n",
       "(Intercept)            x  \n",
       "     3.0001       0.5001  \n"
      ]
     },
     "metadata": {},
     "output_type": "display_data"
    }
   ],
   "source": [
    "lmodel.ans1 <- lm(y ~ x, data = ans1) # fits the model\n",
    "lmodel.ans1"
   ]
  },
  {
   "cell_type": "markdown",
   "metadata": {},
   "source": [
    "These coefficients describe our model but as we are not computers, but people, a visiual representation might help us better to understand our Linear Regression Model.\n",
    "Let's add a regression line to our scatterplot.\n",
    "\n",
    "`ggplot(ans1, aes(x = x, y = y)) +\n",
    "  geom_point() +\n",
    "  geom_abline(intercept = 3.0001, slope = 0.5001, col = \"red\")`\n",
    "  \n",
    "\n",
    "---\n",
    ">**Hint** *This plotting version does take the absolute values of your model. To make it more nicely, in case your model is changing some of it's preconditions, you can also call upon the coefficients directly.         \n",
    "Use `geom_abline(intercept= lmodel.ans1$coefficients[1], slope = lmodel.ans1$coefficients[2], col = \"red\")` for this.\n",
    "You can see, our intercept is the first (1) coefficient and the slope is coefficient 2.* \n",
    "\n"
   ]
  },
  {
   "cell_type": "code",
   "execution_count": 22,
   "metadata": {},
   "outputs": [
    {
     "data": {
      "image/png": "iVBORw0KGgoAAAANSUhEUgAAA0gAAANICAMAAADKOT/pAAAANlBMVEUAAAAzMzNNTU1oaGh8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\nRU5ErkJggg==",
      "text/plain": [
       "plot without title"
      ]
     },
     "metadata": {
      "image/png": {
       "height": 420,
       "width": 420
      }
     },
     "output_type": "display_data"
    }
   ],
   "source": [
    "ggplot(ans1, aes(x = x, y = y)) +\n",
    "  geom_point() +\n",
    "  geom_abline(intercept= lmodel.ans1$coefficients[1], slope = lmodel.ans1$coefficients[2], col = \"red\")"
   ]
  },
  {
   "cell_type": "markdown",
   "metadata": {},
   "source": [
    "The red line show our linear regression line, based on our model. But how is it actually calculated? Basically we by minimise the **Sum of Squared Errors (SSE)**, also called the method of **Least Squares**.\n",
    "\n",
    "Graphically, it means that we try different lines with different intercepts (𝛽0) and slopes (𝛽1) and ultimately choose the one where the sum over all vertical distances squared (𝜖𝑖) is smallest. Look at the plot. The red lines connecting our scatterplot with the regression line are the ones to be minimized (difference between observed and fitted values) \n",
    "Mathematically it looks like this:\n",
    "\n",
    "$SSE = \\sum_{i=1}^{n}(y_{i} − \\hat{y}_{i})^2 = \\sum_{i=1}^{n}(\\epsilon_i)^2 = \\sum_{i=1}^{n}(y_{i} − (\\beta_0+ \\beta_1 x_i))^2$\n",
    "\n",
    "The terms $\\epsilon_i = y_{i} − (\\beta_0+ \\beta_1 x_i)$ are called the residuals - that part of the variation in the data which the linear model cannot explain. Or also how much the data points are varying around the regression line."
   ]
  },
  {
   "cell_type": "code",
   "execution_count": 34,
   "metadata": {},
   "outputs": [
    {
     "data": {
      "image/png": "iVBORw0KGgoAAAANSUhEUgAAA0gAAANICAMAAADKOT/pAAAAPFBMVEUAAAAzMzNNTU1oaGh8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\nEiEG+T8fJlQA8wEWPQAAAABJRU5ErkJggg==",
      "text/plain": [
       "plot without title"
      ]
     },
     "metadata": {
      "image/png": {
       "height": 420,
       "width": 420
      }
     },
     "output_type": "display_data"
    }
   ],
   "source": [
    "xm <- mean(ans1$x) \n",
    "ym <- mean(ans1$y)\n",
    "n <- length(ans1$x)\n",
    "\n",
    "#residuals\n",
    "res.lm <- data.frame(x = rep(ans1$x, each=2),\n",
    "                     y = c(rbind(fitted(lmd), ans1$y)),\n",
    "                     group = rep(1:n, each=2))\n",
    "\n",
    "\n",
    "ggplot(ans1, aes(x = x, y = y)) +\n",
    "  geom_abline(intercept=coefficients(lmodel.ans1)[1], slope=coefficients(lmodel.ans1)[2], col='darkgrey') + \n",
    "  geom_line(data = res.lm, aes(x = x, y = y, group = group), col='red') +\n",
    "  geom_point(size=2)+ ggtitle(\"SSE\")"
   ]
  },
  {
   "cell_type": "markdown",
   "metadata": {},
   "source": [
    "### ANCOVA - Significance of regression\n",
    "\n",
    "Once we modelled our regression, we need to check whether these estimates are **statistically significant** or have arisen by chance from the (assumed) random process of sampling the data. \n",
    "For this, the **Analysis of Variance (ANCOVA)** is used.\n",
    "\n",
    "$SSY = \\sum_{i=1}^{n}(y_{i}-\\bar{y})^2$ is a measure of the total variance of the data - how much the data points are varying around the overall mean\n"
   ]
  },
  {
   "cell_type": "code",
   "execution_count": 32,
   "metadata": {},
   "outputs": [
    {
     "data": {
      "image/png": "iVBORw0KGgoAAAANSUhEUgAAA0gAAANICAMAAADKOT/pAAAAOVBMVEUAAAAAms0zMzNNTU1o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\nAElFTkSuQmCC",
      "text/plain": [
       "plot without title"
      ]
     },
     "metadata": {
      "image/png": {
       "height": 420,
       "width": 420
      }
     },
     "output_type": "display_data"
    }
   ],
   "source": [
    "# residuals of the null model, therefore to the overall mean\n",
    "res.null <- data.frame(x = rep(ans1$x, each=2),\n",
    "                  y = c(rbind(rep(ym, length(ans1$y)),ans1$y)),\n",
    "                  group = rep(1:n, each=2))\n",
    "\n",
    "ggplot(ans1, aes(x = x, y = y)) +\n",
    "    geom_hline(yintercept = ym, col='black') +\n",
    "    geom_line(data = res.null, aes(x = x, y = y, group = group), col='deepskyblue3', lwd=1.5) +\n",
    "    geom_point(size=2) + ggtitle(\"SSY\")\n",
    "\n"
   ]
  },
  {
   "cell_type": "markdown",
   "metadata": {},
       "<tbody>\n",
   "source": [
    "To get the **ANCOVA**, we begin by constructing the **ANOVA table**. This is often done in the background in software like R and not actually looked at that much but we want to peek into the theory.\n",
    "\n",
    "**ANOVA table for linear regression**\n",
    "\n",
    "| Source |Sum of Squares (SS) |Degrees of freedom (df)| Mean Squares (MS)|F statistic ($F_s$)| $Pr(Z>= F_s)$|\n",
    "|------------|:----------------:|:-----------------------:|:-----------------:|:-------------:|:----------------:|\n",
    "| Regression |  $SSR = SSY-SSE$ | 1     | $\\frac{SSR}{dfSSR}$   | $\\frac{SSR}{dfSSR}/s^2$ | $1-F(F_s,1,n-2)$\n",
    "| Error      |  $SSE$           | n-2                       | $\\frac{SSE}{dfSSE} = s^2$ \n",
    "| Total      |  $SSY$           | n-1     \n",
    "\n",
    "$SSE$ - how much the data points are varying around the regression line\n",
    "\n",
    "$SSY$ - measure of the total variance of the data\n",
    "\n",
    "$SSR = SSY - SSE$ - variance explained by the model\n",
    "\n",
    "**Degrees of Freedom** - can be understood as the *number of free parameters* for the respective term that is controlled by the (assumed) random process of sampling the data. It is the number of possibilities for the chance process to unfold. $SSS$ requires one parameter $\\bar{y}$ to be calculated from the data (see above). Hence the degrees of freedom are $n−1$; if I know $\\bar{y}$ then there are $n−1$ data points left that can be generated by chance, the $n$th one I can calculate from all the others and $\\bar{y}$. \n",
    "\n",
    "The degrees of freedom are used to normalise the variance terms in the fourth column the table, where $s^2$ is called the **error variance**. \n",
    "\n",
    "#### But how do we see, that our model is significant? \n",
    "For a significant regression we want the *regression variance*(explained by the model) to be much larger than the *error variance* (unexplained by the model). This is an **$F$-Testproblem**, testing whether the variance explained by the model is *significantly different* from the variance unexplained by the model. The ratio of the two variances serves as the **$F$ statistic** ($F_s$).\n",
    "\n",
    "**p-value** - The p-value of the F-Test is the probability of getting $F_s$ or a larger value by chance (and therefore an even better model) if the Null hypothesis ($H_0$) is true. $H_0$ here is that the two variances are equal.\n",
    "\n",
    "Calling `anova()` on an object returned by `lm()` computes the **ANOVA** tables."
   ]
  },
  {
   "cell_type": "code",
   "execution_count": null,
   "metadata": {},
   "outputs": [],
   "source": []
  },
  {
   "cell_type": "markdown",
   "metadata": {},
   "source": [
    "The $SSE$ is 13.763, the *mean squared error* is 1.529 (with 9 degrees of freedom), and the $SSY$ is 27.51.\n",
    "\n",
    "The F-value ($F_s$) is 17.99.\n",
    "\n",
    "As the p-value is very small, we safely reject the null hypothesis $H_0 : \\beta_1 = 0$, indicating a significant effect of $x$ on $y$. However, be aware that the p-value does not indicate the effect size! The effect size (change in $y$ with one unit change in $x$) is given by the regression slope ($\\beta_1$).\n",
    "But interpreting the **p-value** is a little tricky.  Strictly speaking, the p-value is not the probability of the Null hypothesis being true; it is the probability of the data to come about if the Null hypothesis were true. Ina linear regression the Null Model would be, that the mean is the best model to describe the data."
   ]
  },
  {
   "cell_type": "code",
   "execution_count": null,
   "metadata": {},
   "outputs": [],
   "source": []
  }
 ],
 "metadata": {
  "kernelspec": {
   "display_name": "R",
   "language": "R",
   "name": "ir"
  },
  "language_info": {
   "codemirror_mode": "r",
   "file_extension": ".r",
   "mimetype": "text/x-r-source",
   "name": "R",
   "pygments_lexer": "r",
   "version": "3.6.1"
  }
 },
 "nbformat": 4,
 "nbformat_minor": 2
}

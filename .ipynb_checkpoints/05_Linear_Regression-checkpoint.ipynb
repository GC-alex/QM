{
 "cells": [
  {
   "cell_type": "markdown",
   "metadata": {},
   "source": [
    "# 05 Linear Regression\n",
    "\n",
    "\n",
    "* What is a linear Regression\n",
    "* The lm() function and its extractor functions\n",
    "* Plotting regression lines\n",
    "* Prediction versus confidence bands\n",
    "* Model diagnostics with R\n",
    "\n",
    "\n",
    "\n",
    "\n",
    "---\n",
    "\n",
    "**In this session we will start with statistics basics and  with linear regression in particuliar.**\n",
    "\n",
    "![](https://raw.githubusercontent.com/GC-alex/QM/master/figs/header_sized_small.jpg)\n",
    "\n",
    "\n",
    "---\n"
   ]
  },
  {
   "cell_type": "markdown",
   "metadata": {},
   "source": [
    "## What is Linear Regression?\n",
    "\n",
    "Linear Regression is a statisticial model, which is based on the assumption of a *linear* relationship between a *response* variable and one *predictor* variable.\n",
    "\n",
    "One example would be the relationsip between elevation and rainfall in Germany. A rise in precipitation is often connected to a rise in elevation. \n",
    "\n",
    "\n",
    "\n",
    "### The Linear Regression Model is given by:\n",
    "\n",
    "$y_i = \\beta_{0} + \\beta_{1}x_i + \\epsilon_i$\n",
    "\n",
    "Let's have a look at it's parts:\n",
    "\n",
    "$y$ is the *response* variable (in our example: precipitation)\n",
    "\n",
    "$x_i$ is the *predictor variable* (in our example: elevation)\n",
    "\n",
    "$\\beta$ are the *parameters*\n",
    "\n",
    "$\\epsilon$ is the *residual error*, i.e. that part of the response which remains unexplained by the predictors.\n",
    "\n",
    "----\n",
    "\n",
    "# [[[[[[[[[ PLACEHOLDER IMAGE NEEDED: Image witha a graphical representation of Linear Rregression - from the Script maybe? Or self creating?]]]\n",
    "\n",
    "$\\beta_{0}$ being the intercept, where the line intersects the vertical axis(𝑥=0)  ,  and $\\beta_{1}$ being the slope of the line\n",
    "\n",
    "---\n",
    "\n",
    "### Description vs. Prediction\n",
    "\n",
    "This Linear Regression is often used to **describe** data in terms of a general relationship or trend. As our data is part of the overall population, we then use our knowledge of the data and apply it on the population. **Predictions** on the other hand, should be made with more caution. Linear Regression is a rather simple model and has, as any model its limitations. Especially long-distance predictions should be read carefully. \n",
    "\n",
    "---\n",
    "\n",
    "### More Indepth \n",
    "\n",
    "As this jupyter-course focuses on the coding aspect of statistics, please feel free to read more indepth about the statistical concepts in literature. **( PUTTING UP LITERATURE???? - like the Script??? )**"
   ]
  },
  {
   "cell_type": "markdown",
   "metadata": {},
   "source": [
    "This session, we will work with the `anscombe`dataset, which is part of base R.\n",
    "\n",
    "Please load the dataset and then we want to transform it from **wideformat** into a **longformat** by using the `tidyverse`package.\n",
    "You can do your own approach or use the step-by-step code provided further down.\n",
    "\n",
    "---\n",
    "\n",
    ">**Hint:** Creating an ID Column first, might help you with this task."
   ]
  },
  {
   "cell_type": "code",
   "execution_count": null,
   "metadata": {
    "collapsed": true
   },
   "outputs": [],
   "source": [
    "\n"
   ]
  },
  {
   "cell_type": "markdown",
   "metadata": {},
   "source": [
    "`data(anscombe)\n",
    "head(anscombe)\n",
    "anscombe$id <- 1:11  # create id to have`  \n",
    "\n",
    "`temp1 <- gather(anscombe, key, value, -id) # turn into long format\n",
    "head(temp1)\n",
    "temp2 <- extract(temp1, key, c(\"var\", \"dataset\"), \"(.)(.)\") # extract dataset id from variable names\n",
    "head(temp2)\n",
    "anscombe.long <- spread(temp2, var, value) # spread variables to seperate x and y columns, that's where our previously assigned ID-column is needed\n",
    "head(anscombe.long)` \n"
   ]
  },
  {
   "cell_type": "code",
   "execution_count": null,
   "metadata": {},
   "outputs": [],
   "source": [
    "\n"
   ]
  }
 ],
 "metadata": {
  "kernelspec": {
   "display_name": "R",
   "language": "R",
   "name": "ir"
  },
  "language_info": {
   "codemirror_mode": "r",
   "file_extension": ".r",
   "mimetype": "text/x-r-source",
   "name": "R",
   "pygments_lexer": "r",
   "version": "3.6.1"
  }
 },
 "nbformat": 4,
 "nbformat_minor": 2
}

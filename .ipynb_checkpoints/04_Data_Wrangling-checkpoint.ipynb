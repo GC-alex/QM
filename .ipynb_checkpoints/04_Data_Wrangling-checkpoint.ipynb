{
 "cells": [
  {
   "cell_type": "markdown",
   "metadata": {},
   "source": [
    "\n",
    "\n",
    "# 04 Data Wrangling\n",
    "\n",
    "\n",
    "* Load packages\n",
    "* Visualization\n",
    "* Tidy data\n",
    "* Data wrangling\n",
    "\n",
    "\n",
    "---\n",
    "\n",
    "**In this session we will start using packages, focus on visualization and third, get a better understanding of how to manage our data tables more efficiently.**\n",
    "\n",
    "![](https://raw.githubusercontent.com/GC-alex/QM/master/figs/header_sized_small.jpg)\n",
    "\n",
    "\n",
    "---\n",
    "\n",
    "# Packages\n",
    "\n",
    "A **package** is a collection of previously programmed functions, often including functions for specific tasks. \n",
    "The R community provides hundreds of them, all for their own purpose and free for you to use.\n",
    "\n",
    "If you take a carefull look at our previous sessions (01 Introduction to R), we already used some packages for the more advanced plots. You can spot them, because we used them with the `library()`function.\n",
    "\n",
    "Some Packages we already used:\n",
    "**ggplot2**,\n",
    "**maps**,\n",
    "**dplyr**\n",
    "\n",
    "Most packages need to be installed on your local machine before you can use them. Simply use the `install.packages(\"name_of_package\")` function for this purpose. Once installed, you can always use the stored functions with the `library()`function. In our **JupyterNotebooks**, please refer from installing packages and simply load installed packages. On your local R, feel free to install as many packages as you like.\n",
    "\n",
    "---\n",
    "**Note:**\n",
    "\n",
    "*But which packages are installed here? Simply check the **install.R** file in the repository - please don't try to make any changes in this file.*\n",
    "\n",
    "---\n",
    "\n",
    "\n",
    "\n",
    "# Visualization\n",
    "\n",
    "In the first session you already made your first plot. But now we want to dig further into R's capabilities.\n",
    "R has some nice inbuilt function to vizualize our data. Let's try the following functions on our data `airquality`\n",
    "Just take a variable of the dataset, that you want to explore deeper. \n",
    "\n",
    "`hist()` - take one variable of your dataset!\n",
    "\n",
    "`plot()` - take one variable for the x-axis and a second for the y-axis!\n",
    "\n",
    "`boxplot()` - take one variable and the Months!\n",
    "\n",
    "\n",
    "\n",
    "---\n",
    "**Note**\n",
    "* *You forgot which variables there are in the airquality dataset? Use the `head()`function!*\n",
    "* *The boxplot needs a `~` instead of a comma to seperate the variable and the month!*\n",
    "---"
   ]
  },
  {
   "cell_type": "code",
   "execution_count": null,
   "metadata": {},
   "outputs": [],
   "source": []
  },
  {
   "cell_type": "code",
   "execution_count": null,
   "metadata": {},
   "outputs": [],
   "source": []
  },
  {
   "cell_type": "code",
   "execution_count": null,
   "metadata": {},
   "outputs": [],
   "source": []
  },
  {
   "cell_type": "markdown",
   "metadata": {},
   "source": [
    "Now let's try to use a package called `ggplot2`. It creates much nicer plots than the standard R ones but it takes more effort to make them.\n",
    "Use the `library()` function on the name of our package \n",
    "\n",
    "Now let's do a histogramm-plot with **ggplot2**:\n",
    "\n",
    "`ggplot(data = airquality, aes(x = Ozone)) +\n",
    "  geom_histogram()`"
   ]
  },
  {
   "cell_type": "code",
   "execution_count": null,
   "metadata": {},
   "outputs": [],
   "source": []
  },
  {
   "cell_type": "markdown",
   "metadata": {},
   "source": [
    "`ggplot()` is our function but it needs more specifique inputs, than our functions that we used before in our standard R. \n",
    "\n",
    "`data=` is our used dataset. `aes()` means *aesthetics* and specifies things such as colours, sizes or in this case simply which exact column to plot. `geom_histogram()` gets added via a `+` and specifies your *diagram type*.\n",
    "\n",
    "Please try a scatterplot with the `geom_point()` *diagram type* and `y= Temp` as an added *aesthetics*. "
   ]
  },
  {
   "cell_type": "code",
   "execution_count": null,
   "metadata": {},
   "outputs": [],
   "source": []
  },
  {
   "cell_type": "markdown",
   "metadata": {},
   "source": [
    "Let's try a boxplot now! This time we are using `x = factor(Month)` and y with Ozone, as our *aesthetics*. `geom_boxplot()`as *diagram type* creates the boxplot."
   ]
  },
  {
   "cell_type": "code",
   "execution_count": null,
   "metadata": {},
   "outputs": [],
   "source": []
  },
  {
   "cell_type": "markdown",
   "metadata": {},
   "source": [
    "Compare all the plots, that you just created!\n",
    "\n",
    "\n",
    "You can also use factor variables to change aesthetics of the `geom_point` and `geom_line` layers.\n",
    "\n",
    "Try the following!\n",
    "`ggplot(data = airquality, aes(x = Ozone, y = Temp, col = factor(Month))) + geom_point()`"
   ]
  },
  {
   "cell_type": "code",
   "execution_count": null,
   "metadata": {},
   "outputs": [],
   "source": []
  },
  {
   "cell_type": "markdown",
   "metadata": {},
   "source": [
    "Can you find out which part of the code, you have to replace to get `shape`s instead of colours?"
   ]
  },
  {
   "cell_type": "code",
   "execution_count": null,
   "metadata": {},
   "outputs": [],
   "source": []
  },
  {
   "cell_type": "markdown",
   "metadata": {},
   "source": [
    "We can do the same for `geom_line` diagram types. In this case the aesthetics are called `fill` instead of `col`and `linetype` instead of `shape`. \n",
    "\n",
    "---\n",
    "**Note**\n",
    "\n",
    "You want to create a `geom_line` plot? Don't forget to use the right data for that: you can try `Day` and `Temp`!\n",
    "\n",
    "---\n",
    "\n",
    "\n",
    "Let's build a `geom_point` scatterplot with x = `Ozone`, `y= Temp`, `col = Wind` and `size = Solar.R`!\n"
   ]
  },
  {
   "cell_type": "code",
   "execution_count": null,
   "metadata": {},
   "outputs": [],
   "source": []
  },
  {
   "cell_type": "markdown",
   "metadata": {},
   "source": [
    "Now we created many plots, but none of them really looks nice. Let's change that and add a title and axis descriptions. \n",
    "\n",
    "`ggplot(data = airquality, aes(x = Ozone, y = Temp, col = factor(Month))) +\n",
    "  geom_point() +\n",
    "  labs(x = \"Ozone concentration [ppm]\", \n",
    "       y = \"Temperature [°F]\", \n",
    "       title = \"Relationship between Ozone und Temperture in New York\")`"
   ]
  },
  {
   "cell_type": "code",
   "execution_count": null,
   "metadata": {},
   "outputs": [],
   "source": []
  },
  {
   "cell_type": "markdown",
   "metadata": {},
   "source": [
    "As you can see every `+` adds another layer to your plot. Therfore you can easily build up your diagram step by step to easily include all the features you like to plot.\n",
    "\n"
   ]
  },
  {
   "cell_type": "markdown",
   "metadata": {},
   "source": [
    "## Data Wrangling\n",
    "\n",
    "Often, gathered data is compiled in different structures and matrices. To use this data in an easy way for ggplot or other functions, we need to wrangle it into our prefered shape. \n",
    "Here, we want to introduce `tidyverse` and the new data format called a `tibble`. \n",
    "\n",
    "Please take a first look at the data `msleep` from the ggplot2 package.\n",
    "You can use the `glimpse()`function for this.\n",
    "**Dont forget to load the `tidyverse` package!**\n",
    "\n",
    "____\n",
    "\n",
    "**Note**: \n",
    "* Once you loaded the library `tidyverse`, yu dont need to load the library for ggplot2 seperately.\n",
    "* What doees `tidyverse` consists of? It is a compilation of many packages, optimized for data wrangling in R and Data Science. Have a look at their [website](https://www.tidyverse.org/packages/)."
   ]
  },
  {
   "cell_type": "code",
   "execution_count": null,
   "metadata": {},
   "outputs": [],
   "source": []
  },
  {
   "cell_type": "markdown",
   "metadata": {},
   "source": [
    "### Mutate\n",
    "The `mutate` function, is used to mutate columns of your data. You can pretty much do all vector calculations within this function and apply it therefore directly to the column of you data.\n",
    "\n",
    "This time we are using a pipe `%>%` to apply our functions to our data. It helps you saving a lot of coding line, when used wisely. It may be a little counterintuitive but eventually you will get the hang of it.\n",
    "\n",
    "Let's change timescale of our measured data from hours to minutes:\n",
    "\n",
    "`msleep %>%\n",
    "  select(name, sleep_total) %>%\n",
    "  mutate(sleep_total_min = sleep_total * 60)`\n",
    "\n",
    "---\n",
    "**Note**\n",
    "\n",
    "* `%>%` takes the object in front of it (here: `msleep`) and applys the following functions on it (here: `select` and `mutate`)\n",
    "\n",
    "* You forgot what some functions do? You can always use the `help` function. Simply type a `?`in front of the function, you are uncertain about. It should direct you to a help window by CRAN. Use `?msleep` to get additional information on this data."
   ]
  },
  {
   "cell_type": "code",
   "execution_count": null,
   "metadata": {
    "scrolled": true
   },
   "outputs": [],
   "source": []
  },
  {
   "cell_type": "code",
   "execution_count": null,
   "metadata": {},
   "outputs": [],
   "source": [
    "\n"
   ]
  },
  {
   "cell_type": "markdown",
   "metadata": {},
   "source": [
    "We can also add new columns with this method. Try the following code.\n",
    "\n",
    "`msleep %>%\n",
    "  select(name, sleep_total) %>%\n",
    "  mutate(sleep_total_vs_AVG = sleep_total - round(mean(sleep_total), 1),\n",
    "         sleep_total_vs_MIN = sleep_total - min(sleep_total))` \n",
    "         \n",
    "If you want to use aggreagte functions on the entire column, such as `sum()` or `mean()`, you need to make sure, that the `mutate`function applies them `rowwise()` or you will get error messages. \n",
    "\n",
    "`msleep %>%\n",
    "  select(name, contains(\"sleep\")) %>%\n",
    "  rowwise() %>%\n",
    "  mutate(average = mean(c(sleep_rem, sleep_cycle)))`\n",
    "\n",
    "---\n",
    "**Note** the `c` in our `mean` function is needed to apply it to a vector, instead of a single value. Don't forget it!\n",
    "         \n",
    " "
   ]
  },
  {
   "cell_type": "code",
   "execution_count": null,
   "metadata": {},
   "outputs": [],
   "source": []
  },
  {
   "cell_type": "markdown",
   "metadata": {},
   "source": [
    "If you want to mutate all your columns at the same time, you can use the `mutate_all`function. Mutate all columns to lower case with `tolower`. Try the same with `round`.\n"
   ]
  },
  {
   "cell_type": "code",
   "execution_count": null,
   "metadata": {},
   "outputs": [],
   "source": [
    "\n"
   ]
  },
  {
   "cell_type": "code",
   "execution_count": null,
   "metadata": {},
   "outputs": [],
   "source": []
  },
  {
   "cell_type": "markdown",
   "metadata": {},
   "source": [
    "The `round` function should this time, give you an error. This happens, because we are having numerical and character values in our tibble. The `mutate_if` and `mutate_at` functions, help us here.\n",
    "\n",
    "`msleep %>%\n",
    "  select(name, sleep_total:bodywt) %>%\n",
    "  mutate_if(is.numeric, round)`\n",
    "  \n",
    "\n",
    "\n",
    "`msleep %>%\n",
    "  select(name, sleep_total:awake) %>%\n",
    "  mutate_at(vars(contains(\"sleep\")), ~(.*60))`\n",
    " \n"
   ]
  },
  {
   "cell_type": "code",
   "execution_count": null,
   "metadata": {},
   "outputs": [],
   "source": [
    "\n"
   ]
  },
  {
   "cell_type": "markdown",
   "metadata": {},
   "source": [
    "What do these both functions do with our data?\n",
    "\n",
    "Let's take a closer look:\n",
    "\n",
    "The `:` selects all columns from `sleep_total` to `bodywt`\n",
    "`is.numeric` checks for the column, wether it is numeric (and returns a TRUE or FALSE argument) and the `mutate_if` function then applys `round` to all values, that are marked as TRUE\n",
    "This structure of checking via an TRUE/FALSE function, is always needed when using the `mutate_if` function\n",
    "\n",
    "\n",
    "`vars` is a way to takes inputs to be evaluated in the context of a dataset, here columns that we selected via `select` and applys the function `contain` an these to get the columns you want\n",
    "` ~(.*60)` is the second part of the mutate_at function. This command takes all selected columns( via vars) and applys the actual mutation.\n",
    "The `~` only helps us define a function that should be applied, taking the values `.` and multiplying them by 60. It transforms hours to minutes.\n",
    "\n",
    "---\n"
   ]
  },
  {
   "cell_type": "markdown",
   "metadata": {},
   "source": [
    "### Factors\n",
    "\n",
    "Check out the column `vore` in our tibble. You can easily see, that it consists of four repeated characters:     'carni''herbi''insecti''omni'. Now w"
   ]
  },
  {
   "cell_type": "code",
   "execution_count": 45,
   "metadata": {},
   "outputs": [
    {
     "data": {
      "text/html": [
       "<style>\n",
       ".list-inline {list-style: none; margin:0; padding: 0}\n",
       ".list-inline>li {display: inline-block}\n",
       ".list-inline>li:not(:last-child)::after {content: \"\\00b7\"; padding: 0 .5ex}\n",
       "</style>\n",
       "<ol class=list-inline><li>'short'</li><li>'limited'</li><li>'long'</li><li>'very long'</li></ol>\n"
      ],
      "text/latex": [
       "\\begin{enumerate*}\n",
       "\\item 'short'\n",
       "\\item 'limited'\n",
       "\\item 'long'\n",
       "\\item 'very long'\n",
       "\\end{enumerate*}\n"
      ],
      "text/markdown": [
       "1. 'short'\n",
       "2. 'limited'\n",
       "3. 'long'\n",
       "4. 'very long'\n",
       "\n",
       "\n"
      ],
      "text/plain": [
       "[1] \"short\"     \"limited\"   \"long\"      \"very long\""
      ]
     },
     "metadata": {},
     "output_type": "display_data"
    }
   ],
   "source": []
  },
  {
   "cell_type": "code",
   "execution_count": 49,
   "metadata": {},
   "outputs": [
    {
     "name": "stdout",
     "output_type": "stream",
     "text": [
      "Observations: 83\n",
      "Variables: 11\n",
      "$ name         \u001b[3m\u001b[90m<chr>\u001b[39m\u001b[23m \"Cheetah\", \"Owl monkey\", \"Mountain beaver\", \"Greater s...\n",
      "$ genus        \u001b[3m\u001b[90m<chr>\u001b[39m\u001b[23m \"Acinonyx\", \"Aotus\", \"Aplodontia\", \"Blarina\", \"Bos\", \"...\n",
      "$ vore         \u001b[3m\u001b[90m<chr>\u001b[39m\u001b[23m \"carni\", \"omni\", \"herbi\", \"omni\", \"herbi\", \"herbi\", \"c...\n",
      "$ order        \u001b[3m\u001b[90m<chr>\u001b[39m\u001b[23m \"Carnivora\", \"Primates\", \"Rodentia\", \"Soricomorpha\", \"...\n",
      "$ conservation \u001b[3m\u001b[90m<chr>\u001b[39m\u001b[23m \"lc\", NA, \"nt\", \"lc\", \"domesticated\", NA, \"vu\", NA, \"d...\n",
      "$ sleep_total  \u001b[3m\u001b[90m<dbl>\u001b[39m\u001b[23m 12.1, 17.0, 14.4, 14.9, 4.0, 14.4, 8.7, 7.0, 10.1, 3.0...\n",
      "$ sleep_rem    \u001b[3m\u001b[90m<dbl>\u001b[39m\u001b[23m NA, 1.8, 2.4, 2.3, 0.7, 2.2, 1.4, NA, 2.9, NA, 0.6, 0....\n",
      "$ sleep_cycle  \u001b[3m\u001b[90m<dbl>\u001b[39m\u001b[23m NA, NA, NA, 0.1333333, 0.6666667, 0.7666667, 0.3833333...\n",
      "$ awake        \u001b[3m\u001b[90m<dbl>\u001b[39m\u001b[23m 11.9, 7.0, 9.6, 9.1, 20.0, 9.6, 15.3, 17.0, 13.9, 21.0...\n",
      "$ brainwt      \u001b[3m\u001b[90m<dbl>\u001b[39m\u001b[23m NA, 0.01550, NA, 0.00029, 0.42300, NA, NA, NA, 0.07000...\n",
      "$ bodywt       \u001b[3m\u001b[90m<dbl>\u001b[39m\u001b[23m 50.000, 0.480, 1.350, 0.019, 600.000, 3.850, 20.490, 0...\n"
     ]
    },
    {
     "data": {
      "text/html": [
       "<style>\n",
       ".list-inline {list-style: none; margin:0; padding: 0}\n",
       ".list-inline>li {display: inline-block}\n",
       ".list-inline>li:not(:last-child)::after {content: \"\\00b7\"; padding: 0 .5ex}\n",
       "</style>\n",
       "<ol class=list-inline><li>carni</li><li>omni</li><li>herbi</li><li>omni</li><li>herbi</li><li>herbi</li><li>carni</li><li>&lt;NA&gt;</li><li>carni</li><li>herbi</li><li>herbi</li><li>herbi</li><li>omni</li><li>herbi</li><li>omni</li><li>omni</li><li>omni</li><li>carni</li><li>herbi</li><li>omni</li><li>herbi</li><li>insecti</li><li>herbi</li><li>herbi</li><li>omni</li><li>omni</li><li>herbi</li><li>carni</li><li>omni</li><li>herbi</li><li>carni</li><li>carni</li><li>herbi</li><li>omni</li><li>herbi</li><li>herbi</li><li>carni</li><li>omni</li><li>herbi</li><li>herbi</li><li>herbi</li><li>herbi</li><li>insecti</li><li>herbi</li><li>carni</li><li>herbi</li><li>carni</li><li>herbi</li><li>herbi</li><li>omni</li><li>carni</li><li>carni</li><li>carni</li><li>omni</li><li>&lt;NA&gt;</li><li>omni</li><li>&lt;NA&gt;</li><li>&lt;NA&gt;</li><li>carni</li><li>carni</li><li>herbi</li><li>insecti</li><li>&lt;NA&gt;</li><li>herbi</li><li>omni</li><li>omni</li><li>insecti</li><li>herbi</li><li>&lt;NA&gt;</li><li>herbi</li><li>herbi</li><li>herbi</li><li>&lt;NA&gt;</li><li>omni</li><li>insecti</li><li>herbi</li><li>herbi</li><li>omni</li><li>omni</li><li>carni</li><li>carni</li><li>carni</li><li>carni</li></ol>\n",
       "\n",
       "<details>\n",
       "\t<summary style=display:list-item;cursor:pointer>\n",
       "\t\t<strong>Levels</strong>:\n",
       "\t</summary>\n",
       "\t<style>\n",
       "\t.list-inline {list-style: none; margin:0; padding: 0}\n",
       "\t.list-inline>li {display: inline-block}\n",
       "\t.list-inline>li:not(:last-child)::after {content: \"\\00b7\"; padding: 0 .5ex}\n",
       "\t</style>\n",
       "\t<ol class=list-inline><li>'carni'</li><li>'herbi'</li><li>'insecti'</li><li>'omni'</li></ol>\n",
       "</details>"
      ],
      "text/latex": [
       "\\begin{enumerate*}\n",
       "\\item carni\n",
       "\\item omni\n",
       "\\item herbi\n",
       "\\item omni\n",
       "\\item herbi\n",
       "\\item herbi\n",
       "\\item carni\n",
       "\\item <NA>\n",
       "\\item carni\n",
       "\\item herbi\n",
       "\\item herbi\n",
       "\\item herbi\n",
       "\\item omni\n",
       "\\item herbi\n",
       "\\item omni\n",
       "\\item omni\n",
       "\\item omni\n",
       "\\item carni\n",
       "\\item herbi\n",
       "\\item omni\n",
       "\\item herbi\n",
       "\\item insecti\n",
       "\\item herbi\n",
       "\\item herbi\n",
       "\\item omni\n",
       "\\item omni\n",
       "\\item herbi\n",
       "\\item carni\n",
       "\\item omni\n",
       "\\item herbi\n",
       "\\item carni\n",
       "\\item carni\n",
       "\\item herbi\n",
       "\\item omni\n",
       "\\item herbi\n",
       "\\item herbi\n",
       "\\item carni\n",
       "\\item omni\n",
       "\\item herbi\n",
       "\\item herbi\n",
       "\\item herbi\n",
       "\\item herbi\n",
       "\\item insecti\n",
       "\\item herbi\n",
       "\\item carni\n",
       "\\item herbi\n",
       "\\item carni\n",
       "\\item herbi\n",
       "\\item herbi\n",
       "\\item omni\n",
       "\\item carni\n",
       "\\item carni\n",
       "\\item carni\n",
       "\\item omni\n",
       "\\item <NA>\n",
       "\\item omni\n",
       "\\item <NA>\n",
       "\\item <NA>\n",
       "\\item carni\n",
       "\\item carni\n",
       "\\item herbi\n",
       "\\item insecti\n",
       "\\item <NA>\n",
       "\\item herbi\n",
       "\\item omni\n",
       "\\item omni\n",
       "\\item insecti\n",
       "\\item herbi\n",
       "\\item <NA>\n",
       "\\item herbi\n",
       "\\item herbi\n",
       "\\item herbi\n",
       "\\item <NA>\n",
       "\\item omni\n",
       "\\item insecti\n",
       "\\item herbi\n",
       "\\item herbi\n",
       "\\item omni\n",
       "\\item omni\n",
       "\\item carni\n",
       "\\item carni\n",
       "\\item carni\n",
       "\\item carni\n",
       "\\end{enumerate*}\n",
       "\n",
       "\\emph{Levels}: \\begin{enumerate*}\n",
       "\\item 'carni'\n",
       "\\item 'herbi'\n",
       "\\item 'insecti'\n",
       "\\item 'omni'\n",
       "\\end{enumerate*}\n"
      ],
      "text/markdown": [
       "1. carni\n",
       "2. omni\n",
       "3. herbi\n",
       "4. omni\n",
       "5. herbi\n",
       "6. herbi\n",
       "7. carni\n",
       "8. &lt;NA&gt;\n",
       "9. carni\n",
       "10. herbi\n",
       "11. herbi\n",
       "12. herbi\n",
       "13. omni\n",
       "14. herbi\n",
       "15. omni\n",
       "16. omni\n",
       "17. omni\n",
       "18. carni\n",
       "19. herbi\n",
       "20. omni\n",
       "21. herbi\n",
       "22. insecti\n",
       "23. herbi\n",
       "24. herbi\n",
       "25. omni\n",
       "26. omni\n",
       "27. herbi\n",
       "28. carni\n",
       "29. omni\n",
       "30. herbi\n",
       "31. carni\n",
       "32. carni\n",
       "33. herbi\n",
       "34. omni\n",
       "35. herbi\n",
       "36. herbi\n",
       "37. carni\n",
       "38. omni\n",
       "39. herbi\n",
       "40. herbi\n",
       "41. herbi\n",
       "42. herbi\n",
       "43. insecti\n",
       "44. herbi\n",
       "45. carni\n",
       "46. herbi\n",
       "47. carni\n",
       "48. herbi\n",
       "49. herbi\n",
       "50. omni\n",
       "51. carni\n",
       "52. carni\n",
       "53. carni\n",
       "54. omni\n",
       "55. &lt;NA&gt;\n",
       "56. omni\n",
       "57. &lt;NA&gt;\n",
       "58. &lt;NA&gt;\n",
       "59. carni\n",
       "60. carni\n",
       "61. herbi\n",
       "62. insecti\n",
       "63. &lt;NA&gt;\n",
       "64. herbi\n",
       "65. omni\n",
       "66. omni\n",
       "67. insecti\n",
       "68. herbi\n",
       "69. &lt;NA&gt;\n",
       "70. herbi\n",
       "71. herbi\n",
       "72. herbi\n",
       "73. &lt;NA&gt;\n",
       "74. omni\n",
       "75. insecti\n",
       "76. herbi\n",
       "77. herbi\n",
       "78. omni\n",
       "79. omni\n",
       "80. carni\n",
       "81. carni\n",
       "82. carni\n",
       "83. carni\n",
       "\n",
       "\n",
       "\n",
       "**Levels**: 1. 'carni'\n",
       "2. 'herbi'\n",
       "3. 'insecti'\n",
       "4. 'omni'\n",
       "\n",
       "\n"
      ],
      "text/plain": [
       " [1] carni   omni    herbi   omni    herbi   herbi   carni   <NA>    carni  \n",
       "[10] herbi   herbi   herbi   omni    herbi   omni    omni    omni    carni  \n",
       "[19] herbi   omni    herbi   insecti herbi   herbi   omni    omni    herbi  \n",
       "[28] carni   omni    herbi   carni   carni   herbi   omni    herbi   herbi  \n",
       "[37] carni   omni    herbi   herbi   herbi   herbi   insecti herbi   carni  \n",
       "[46] herbi   carni   herbi   herbi   omni    carni   carni   carni   omni   \n",
       "[55] <NA>    omni    <NA>    <NA>    carni   carni   herbi   insecti <NA>   \n",
       "[64] herbi   omni    omni    insecti herbi   <NA>    herbi   herbi   herbi  \n",
       "[73] <NA>    omni    insecti herbi   herbi   omni    omni    carni   carni  \n",
       "[82] carni   carni  \n",
       "Levels: carni herbi insecti omni"
      ]
     },
     "metadata": {},
     "output_type": "display_data"
    }
   ],
   "source": [
    "x2 <- msleep\n",
    "\n",
    "glimpse(x2)\n",
    "x2$vore %>%\n",
    "factor()"
   ]
  },
  {
   "cell_type": "markdown",
   "metadata": {},
   "source": [
    "# Practice\n",
    "\n",
    "Please do **04_Practice** to practice the vizualisation of data and we meet again in **session 05**!\n",
    "\n",
    "# Summary\n",
    "\n",
    "* R offers a broad selection of **Packages**, which consist of helpfull functions\n",
    "\n",
    "* Vizualisation is a crucial part of understanding your data and describing it later. The inbuilt functions in R help you with this.\n",
    "\n",
    "* For more advanced plotting use the `ggplot2` package\n",
    "\n",
    "* Working with big data, can be really hard. The `tidyverse` package, helps with Data Wrangling and introduces a new matrice called `tibble`\n",
    "\n",
    "\n",
    "# List of functions Used\n",
    "\n",
    "**Load Packages**\n",
    "\n",
    "`install.packages()`\n",
    "\n",
    "`library()`\n",
    "\n",
    "**Visualization:**\n",
    "\n",
    "R:\n",
    "`hist()`\n",
    "`plot()`\n",
    "`boxplot()`\n",
    "\n",
    "GGplot2:\n",
    "`ggplot()`\n",
    "`geom_point()`\n",
    "`geom_line()`\n",
    "`geom_histogram`\n",
    "`aes()`\n",
    "`labs()`\n",
    "\n",
    "`+` adds another Layer to your diagram\n",
    "\n",
    "**Data Wrangling**\n",
    "\n",
    "`factor()`\n",
    "`glimpse()`\n",
    "`%>%`\n",
    "`select()`\n",
    "`mutate()`\n",
    "`mutate_all()`\n",
    "`mutate_if()`\n",
    "`mutate_at()`\n",
    "`vars()`\n",
    "`contains()`\n",
    "`round()`\n",
    "`mean()`\n",
    "\n",
    "\n"
   ]
  }
 ],
 "metadata": {
  "kernelspec": {
   "display_name": "R",
   "language": "R",
   "name": "ir"
  },
  "language_info": {
   "codemirror_mode": "r",
   "file_extension": ".r",
   "mimetype": "text/x-r-source",
   "name": "R",
   "pygments_lexer": "r",
   "version": "3.6.1"
  }
 },
 "nbformat": 4,
 "nbformat_minor": 2
}

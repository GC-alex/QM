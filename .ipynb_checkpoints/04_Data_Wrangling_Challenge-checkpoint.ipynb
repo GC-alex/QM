{
 "cells": [
  {
   "cell_type": "markdown",
   "metadata": {},
   "source": [
    "# 04 Data Wrangling Challenge\n",
    "\n",
    "This challenge is meant for you as a practice for the following topics that we introduced in **session 04**:\n",
    "\n",
    "* Load packages\n",
    "* Visualization\n",
    "* Tidy data\n",
    "* Data wrangling\n",
    "\n",
    "![](https://raw.githubusercontent.com/GC-alex/QM/master/figs/header_sized_small.jpg)\n"
   ]
  }
 ],
 "metadata": {
  "kernelspec": {
   "display_name": "R",
   "language": "R",
   "name": "ir"
  },
  "language_info": {
   "codemirror_mode": "r",
   "file_extension": ".r",
   "mimetype": "text/x-r-source",
   "name": "R",
   "pygments_lexer": "r",
   "version": "3.6.1"
  }
 },
 "nbformat": 4,
 "nbformat_minor": 2
}

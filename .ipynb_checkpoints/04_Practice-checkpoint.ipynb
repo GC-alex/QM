{
 "cells": [
  {
   "cell_type": "markdown",
   "metadata": {},
   "source": [
    "# 04 Data Wrangling Practice\n",
    "\n",
    "This challenge is meant for you as a practice for the following topics that we introduced in **session 04**:\n",
    "\n",
    "* Load packages\n",
    "* Visualization\n",
    "* Tidy data\n",
    "* Data wrangling\n",
    "\n",
    "Please try to solve the following tasks, with the newly introduced functions from the `tidyverse` package of **session 04**.\n",
    "\n",
    "![](https://raw.githubusercontent.com/GC-alex/QM/master/figs/header_sized_small.jpg)\n",
    "\n",
    "\n",
    "\n"
   ]
  },
  {
   "cell_type": "markdown",
   "metadata": {},
   "source": [
    "## 1. Mammals Sleep Data\n",
    "\n",
    "As in the session 04, we will work with the `msleep`dataset. \n",
    "\n",
    "### 1.1. Create a plot showing the relationship between total sleep, rem sleep and brainweight for each vore. Briefly describe what you see."
   ]
  },
  {
   "cell_type": "code",
   "execution_count": null,
   "metadata": {},
   "outputs": [],
   "source": []
  },
  {
   "cell_type": "markdown",
   "metadata": {},
   "source": [
    "### 1.2. Filter the rows for mammals that sleep a total of more than 16 hours and have a body weight of greater than 1 kilogram."
   ]
  },
  {
   "cell_type": "code",
   "execution_count": null,
   "metadata": {},
   "outputs": [],
   "source": []
  },
  {
   "cell_type": "markdown",
   "metadata": {},
   "source": [
    "### 1.3 Check the the average sleeping time of mammals for each taxonomic order.\n",
    "\n",
    "\n"
   ]
  },
  {
   "cell_type": "code",
   "execution_count": null,
   "metadata": {},
   "outputs": [],
   "source": []
  },
  {
   "cell_type": "markdown",
   "metadata": {},
   "source": [
    "### 1.4 Create a new column called with the ratio of rem sleep to total amount of sleep."
   ]
  },
  {
   "cell_type": "markdown",
   "metadata": {},
   "source": [
    "## 2. Tree rings\n",
    "\n",
    "Import the dataset **treering.csv**. Columns 1 to 56 contain dendrochronological time series of 56 tree cores (annual growth = tree ring widths in mm). Column 57 contains the year associated with the annual tree rings. The dendrochronological time series are of different length, e.g. not all years are observed in each tree core. The column names are the names (ids) of the tree cores.\n",
    "\n",
    "![](https://raw.githubusercontent.com/GC-alex/QM/master/figs/treerings_plot.PNG)\n",
    "\n",
    "Please try to recreate this plot and its relationships, showing time series of tree ring widths for each tree core. Create a plot that shows the exact same relationships. \n",
    "\n",
    ">**Hint**: *Use the gather() function to convert the dataset into the appropriate format!"
   ]
  },
  {
   "cell_type": "markdown",
   "metadata": {},
   "source": []
  }
 ],
 "metadata": {
  "kernelspec": {
   "display_name": "R",
   "language": "R",
   "name": "ir"
  },
  "language_info": {
   "codemirror_mode": "r",
   "file_extension": ".r",
   "mimetype": "text/x-r-source",
   "name": "R",
   "pygments_lexer": "r",
   "version": "3.6.1"
  }
 },
 "nbformat": 4,
 "nbformat_minor": 2
}

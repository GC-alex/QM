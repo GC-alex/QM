{
 "cells": [
  {
   "cell_type": "markdown",
   "metadata": {},
   "source": [
    "# 02 Basics in R\n",
    "\n",
    "* Basics of programming in R\n",
    "* Calculations and variables\n",
    "* vectors and datatypes\n",
    "\n",
    "In this session we will focus on the first steps to understand R's syntax properly. We will start with the very basics and with this foundation you will be able to compute models or vizualize your data in no time (in future sessions).\n",
    "\n",
    "\n",
    "## Calculations and Variables\n",
    "\n",
    "As R is a programming language made for statistical analyzes, of course calculations are at its core.  Therefore we will start with it.\n",
    "See what happens if you try to calculate some formular:\n",
    "\n",
    "`5 + 2`"
   ]
  },
  {
   "cell_type": "code",
   "execution_count": null,
   "metadata": {},
   "outputs": [],
   "source": []
  },
  {
   "cell_type": "markdown",
   "metadata": {},
   "source": [
    "In this case it is a simple calculation. To store the information or to do further calculations with the result we need to assign it to a variable `a <- 5+2`. If you want to see your stored information, you have to open your varible `a` with simply typing `a`. Do the same with a varible `b` that is ` 3^2`. What happens if you calculate `c` as `b` substracted from `a`?"
   ]
  },
  {
   "cell_type": "code",
   "execution_count": 5,
   "metadata": {},
   "outputs": [
    {
     "data": {
      "text/html": [
       "7"
      ],
      "text/latex": [
       "7"
      ],
      "text/markdown": [
       "7"
      ],
      "text/plain": [
       "[1] 7"
      ]
     },
     "metadata": {},
     "output_type": "display_data"
    },
    {
     "data": {
      "text/html": [
       "9"
      ],
      "text/latex": [
       "9"
      ],
      "text/markdown": [
       "9"
      ],
      "text/plain": [
       "[1] 9"
      ]
     },
     "metadata": {},
     "output_type": "display_data"
    },
    {
     "data": {
      "text/html": [
       "-2"
      ],
      "text/latex": [
       "-2"
      ],
      "text/markdown": [
       "-2"
      ],
      "text/plain": [
       "[1] -2"
      ]
     },
     "metadata": {},
     "output_type": "display_data"
    }
   ],
   "source": [
    "a <- 5+2\n",
    "b <- 3^2\n",
    "c <- a-b\n",
    "\n",
    "a\n",
    "b\n",
    "c"
   ]
  },
  {
   "cell_type": "markdown",
   "metadata": {},
   "source": [
    "-----\n",
    "**Note:**  \n",
    "* You can't see your results? Don't forget to type the name of the variable, for which you want to know the values!\n",
    "* If you assign a new variable with the same name, the stored information will be overwritten!\n",
    "* Your forgot wich varibales your already computed? Type `ls()` to get a full list of all variables in your workspace!\n",
    "-----"
   ]
  },
  {
   "cell_type": "markdown",
   "metadata": {},
   "source": [
    "**More mathematical `functions`**\n",
    "\n",
    "Try to figure out what the following functions do! (`x`is a placeholder variable, `n` a natural number)\n",
    "\n",
    "`sqrt(x)`\n",
    "`exp(x)`\n",
    "`log(x, n)`\n",
    "`log10(x)`\n",
    "`sin(x)`\n",
    "`cos(x)`"
   ]
  },
  {
   "cell_type": "markdown",
   "metadata": {},
   "source": [
    "## Vectors \n",
    "Within a variable, we can also store more than just one value, but for example a vector.\n",
    "\n",
    "Use `c()` to combine different values to a vector:\n",
    "`x <- c(1, 3, 8, 33, 13, 44, 21)`\n",
    "\n",
    "---\n",
    "**Note:**\n",
    "\n",
    "- `length()` helps you determine the length of your vector\n",
    "\n",
    "---"
   ]
  },
  {
   "cell_type": "code",
   "execution_count": null,
   "metadata": {},
   "outputs": [],
   "source": []
  },
  {
   "cell_type": "markdown",
   "metadata": {},
   "source": [
    "**Calculations and Vectors**\n",
    "\n",
    "Try the following calculations on your vector `x` and figure out what they do!\n",
    "\n",
    "`x * 2`\n",
    "\n",
    "`x + 2`\n",
    "\n",
    "`x + c(1, 2)`\n"
   ]
  },
  {
   "cell_type": "code",
   "execution_count": null,
   "metadata": {},
   "outputs": [],
   "source": []
  },
  {
   "cell_type": "markdown",
   "metadata": {},
   "source": [
    "To adress certain values within a vector we are using the command `x[1]`. This will give us the value at position `1`. \n",
    "\n",
    "Try the following ways to adress values!\n",
    "\n",
    "`x[c(1, 5)]`\n",
    "\n",
    "`x[1:5]`\n",
    "\n",
    "`x[c(1:4, 8)]`\n",
    "\n",
    "`x[1] <- 5`"
   ]
  },
  {
   "cell_type": "code",
   "execution_count": null,
   "metadata": {},
   "outputs": [],
   "source": []
  },
  {
   "cell_type": "markdown",
   "metadata": {},
   "source": [
    "---\n",
    "**Note**\n",
    "\n",
    "with `<-` you can also adress certain positions of the variable to change their values! `x[1] <- 5`\n",
    "\n",
    "Or even remove the value completely: `x <- x[-3]`\n",
    "\n",
    "---"
   ]
  },
  {
   "cell_type": "code",
   "execution_count": null,
   "metadata": {},
   "outputs": [],
   "source": []
  },
  {
   "cell_type": "markdown",
   "metadata": {},
   "source": [
    "# Summary\n",
    "**Calculations**\n",
    "\n",
    "-you can store information by assigning them variables ( via `<-`)\n",
    "\n",
    "**Vectors**\n",
    "\n",
    "-Vectors can be used in arithmetic expressions, in which case the operations are performed element by element.\n",
    "\n",
    "-If two vectors have different lengths, the shorter vector is recycled as often as needed\n",
    "\n",
    "**Datatypes**\n",
    "\n",
    "-There are different datatypes in R.\n",
    "\n",
    "-so far we know: `character` and numeric ones (`integer` and `double`)\n",
    "\n",
    "-You cannot mix data types in the vector. \n",
    "\n",
    "\n",
    "\n",
    "# List of functions Used\n",
    "\n",
    "**Calculations**\n",
    "`sqrt(x)` `exp(x)` `log(x, n)` `log10(x)` `sin(x)` `cos(x)`\n",
    "\n",
    "**Vectors**\n",
    "`length()`\n",
    "`c()`\n",
    "\n",
    "**Datatypes**\n",
    "`typeof()`\n"
   ]
  },
  {
   "cell_type": "code",
   "execution_count": null,
   "metadata": {},
   "outputs": [],
   "source": []
  }
 ],
 "metadata": {
  "kernelspec": {
   "display_name": "R",
   "language": "R",
   "name": "ir"
  },
  "language_info": {
   "codemirror_mode": "r",
   "file_extension": ".r",
   "mimetype": "text/x-r-source",
   "name": "R",
   "pygments_lexer": "r",
   "version": "3.6.1"
  }
 },
 "nbformat": 4,
 "nbformat_minor": 2
}

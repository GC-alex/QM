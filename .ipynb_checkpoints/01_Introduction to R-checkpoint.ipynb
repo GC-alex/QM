{
 "cells": [
  {
   "cell_type": "markdown",
   "metadata": {},
   "source": [
    "\n",
    "# Introducing R \n",
    "* How to use Jupyter Notebook in the Browser\n",
    "* Basics of programming in R\n",
    "\n",
    "## What is R?\n",
    "\n",
    "R is a programming language that is used for data analytics. It is primarily used in academics and research. Statistical models can be written with only a few lines of code and it has a steep learning curve - especially if you know the basics and are not afraid of experimenting with those.\n",
    "It has an active community and a big code repository with implementable packages to make your coding life more easy and more divers.\n",
    "\n",
    "\n",
    "In this course we will work with R in two ways: \n",
    "\n",
    "**1. Jupyter Notebook.** This is were you are currently at. This interactive Browser Page allows you to write your code, follow instructions and experiment a little with R as a programming language. Everything without installing, downloads or any other complicated setups.\n",
    "With Juypter Notebook we will follow through the tutorial and in the lectures.\n",
    "\n",
    "**2. Local R** For the exam project and for your scientifique future, you will work with R on your local drive. It is a little less intuitive but we will guide you through it in no time! Just check out our **00_Set up your local R** file for that!\n",
    "\n",
    "---\n",
    "\n",
    "\n",
    "## Let's start with the basics!\n",
    "\n",
    "Now we will start with some basics right here in the Jupyter-Notebook.\n",
    "If you prefer your local R (RStudio) you can simply download this Jupyter-Notebook file as an r-file (r.) or markdown-file(.md)\n",
    "Otherwise: Let's get started!\n",
    "\n",
    "\n",
    "### Calculations\n",
    "See what happens if you try to calculate some formular:\n",
    "\n",
    "`5 + 2`\n"
   ]
  },
  {
   "cell_type": "code",
   "execution_count": null,
   "metadata": {},
   "outputs": [],
   "source": []
  },
  {
   "cell_type": "markdown",
   "metadata": {},
   "source": [
    "In this case it is a simple calculation. To store the information or to do further calculations with the result we need to assign it to a variable `a <- 5+2`. If you want to see your stored information, you have to open your varible with simply calling `a`. Do the same with a varible `b` that is ` 3^2`. What happens if you calculate `c` as `b` substracted from `a`.\n"
   ]
  },
  {
   "cell_type": "code",
   "execution_count": 10,
   "metadata": {},
   "outputs": [
    {
     "data": {
      "text/html": [
       "7"
      ],
      "text/latex": [
       "7"
      ],
      "text/markdown": [
       "7"
      ],
      "text/plain": [
       "[1] 7"
      ]
     },
     "metadata": {},
     "output_type": "display_data"
    }
   ],
   "source": [
    "a <- 5 +2\n",
    "a\n"
   ]
  },
  {
   "cell_type": "markdown",
   "metadata": {},
   "source": [
    "**Note:**  *If you assign a new variable with the same name, the stored information will be overritten!\n",
    "\n",
    "######You feel like you might loose track of all your assigned variables? Don't worry we have the `list()`function for that. \n",
    "A `function()` in R is always easily detectable by the `()`. #####\n",
    "\n",
    "In case "
   ]
  },
  {
   "cell_type": "code",
   "execution_count": null,
   "metadata": {},
   "outputs": [],
   "source": []
  },
  {
   "cell_type": "code",
   "execution_count": null,
   "metadata": {},
   "outputs": [],
   "source": []
  }
 ],
 "metadata": {
  "celltoolbar": "Tags",
  "kernelspec": {
   "display_name": "R",
   "language": "R",
   "name": "ir"
  },
  "language_info": {
   "codemirror_mode": "r",
   "file_extension": ".r",
   "mimetype": "text/x-r-source",
   "name": "R",
   "pygments_lexer": "r",
   "version": "3.6.1"
  }
 },
 "nbformat": 4,
 "nbformat_minor": 4
}

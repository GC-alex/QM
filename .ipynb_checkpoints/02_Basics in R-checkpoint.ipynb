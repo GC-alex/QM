{
 "cells": [
  {
   "cell_type": "markdown",
   "metadata": {},
   "source": [
    "# 02 Basics in R\n",
    "\n",
    "* Basics of programming in R\n",
    "* Calculations, variables and \n",
    "\n",
    "In this session we will focus on the first steps to understand R's syntax properly. We will start with the very basics and with this foundation you will be able to compute models or vizualize your data in no time (in future sessions).\n",
    "\n",
    "\n",
    "## Calculations\n",
    "\n",
    "As R is a programming language made for statistical analyzes, of course calculations are at its core.  Therefore we will start with it.\n",
    "See what happens if you try to calculate some formular:\n",
    "\n",
    "`5 + 2`\n",
    "\n"
   ]
  },
  {
   "cell_type": "code",
   "execution_count": null,
   "metadata": {},
   "outputs": [],
   "source": []
  },
  {
   "cell_type": "markdown",
   "metadata": {},
   "source": [
    "In this case it is a simple calculation. To store the information or to do further calculations with the result we need to assign it to a variable `a <- 5+2`. If you want to see your stored information, you have to open your varible `a` with simply typing `a`. Do the same with a varible `b` that is ` 3^2`. What happens if you calculate `c` as `b` substracted from `a`?"
   ]
  },
  {
   "cell_type": "code",
   "execution_count": null,
   "metadata": {},
   "outputs": [],
   "source": []
  },
  {
   "cell_type": "markdown",
   "metadata": {},
   "source": [
    "**Note:**  \n",
    "* If you assign a new variable with the same name, the stored information will be overwritten!\n",
    "* You can't see your results? Don't forget to type the name of the variable, for which you want to know the values!"
   ]
  }
 ],
 "metadata": {
  "kernelspec": {
   "display_name": "Python 3",
   "language": "python",
   "name": "python3"
  },
  "language_info": {
   "codemirror_mode": {
    "name": "ipython",
    "version": 3
   },
   "file_extension": ".py",
   "mimetype": "text/x-python",
   "name": "python",
   "nbconvert_exporter": "python",
   "pygments_lexer": "ipython3",
   "version": "3.7.4"
  }
 },
 "nbformat": 4,
 "nbformat_minor": 2
}

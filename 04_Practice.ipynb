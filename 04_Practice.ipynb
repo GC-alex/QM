{
 "cells": [
  {
   "cell_type": "markdown",
   "metadata": {},
   "source": [
    "# 04 Data Wrangling Practice\n",
    "\n",
    "This challenge is meant for you as a practice for the following topics that we introduced in **session 04**:\n",
    "\n",
    "* Load packages\n",
    "* Visualization\n",
    "* Tidy data\n",
    "* Data wrangling\n",
    "\n",
    "![](https://raw.githubusercontent.com/GC-alex/QM/master/figs/header_sized_small.jpg)\n"
   ]
  },
  {
   "cell_type": "code",
   "execution_count": null,
   "metadata": {},
   "outputs": [],
   "source": [
    "msleep %>%\n",
    "  select(name, sleep_total:awake) %>%\n",
    "  mutate_at(vars(contains(\"sleep\")), ~(.*60)) %>%\n",
    "  rename_at(vars(contains(\"sleep\")), ~paste0(.,\"_min\"))"
   ]
  },
  {
   "cell_type": "code",
   "execution_count": 1,
   "metadata": {},
   "outputs": [
    {
     "ename": "ERROR",
     "evalue": "Error in ggplot(data = airquality, aes(x = Ozone, y = Temp, col = factor(Month))): konnte Funktion \"ggplot\" nicht finden\n",
     "output_type": "error",
     "traceback": [
      "Error in ggplot(data = airquality, aes(x = Ozone, y = Temp, col = factor(Month))): konnte Funktion \"ggplot\" nicht finden\nTraceback:\n"
     ]
    }
   ],
   "source": [
    "ggplot(data = airquality, aes(x = Ozone, y = Temp, col = factor(Month))) +\n",
    "  geom_point() # grouping by factor"
   ]
  }
 ],
 "metadata": {
  "kernelspec": {
   "display_name": "R",
   "language": "R",
   "name": "ir"
  },
  "language_info": {
   "codemirror_mode": "r",
   "file_extension": ".r",
   "mimetype": "text/x-r-source",
   "name": "R",
   "pygments_lexer": "r",
   "version": "3.6.1"
  }
 },
 "nbformat": 4,
 "nbformat_minor": 2
}
